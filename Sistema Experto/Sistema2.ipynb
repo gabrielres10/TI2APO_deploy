{
 "cells": [
  {
   "cell_type": "code",
   "execution_count": 36,
   "metadata": {},
   "outputs": [
    {
     "data": {
      "text/plain": [
       "0.4099999999999999"
      ]
     },
     "execution_count": 36,
     "metadata": {},
     "output_type": "execute_result"
    }
   ],
   "source": [
    "#PROBABILIDADES basadas en promedios de prevalencia mundial\n",
    "depression=0.04\n",
    "anxiety=0.05\n",
    "loneliness=0.15\n",
    "stress=0.35\n",
    "normal=1-depression-anxiety-loneliness-stress\n"
   ]
  },
  {
   "cell_type": "code",
   "execution_count": 35,
   "metadata": {},
   "outputs": [
    {
     "data": {
      "text/plain": [
       "array(['Anxiety', 'Depression', 'Loneliness', 'Stress', 'Normal'],\n",
       "      dtype=object)"
      ]
     },
     "execution_count": 35,
     "metadata": {},
     "output_type": "execute_result"
    }
   ],
   "source": [
    "import pandas as pd\n",
    "\n",
    "import pandas as pd\n",
    "\n",
    "df = pd.read_csv('dataset.csv')\n",
    "\n",
    "#offColumns=['feeling.nervous','trouble.in.concentration', 'having.trouble.in.sleeping', 'feeling.negative', 'sweating', 'material.possessions', 'introvert', 'popping.up.stressful.memory', 'blamming.yourself', 'social.media.addiction', 'weight.gain', 'close.friend', 'change.in.eating', 'having.nightmares', 'over.react', 'having.trouble.with.work', 'breathing.rapidly']\n",
    "\n",
    "#df=df.drop(columns=offColumns)\n",
    "\n",
    "df['Disorder'].unique()\n"
   ]
  },
  {
   "cell_type": "code",
   "execution_count": 10,
   "metadata": {},
   "outputs": [
    {
     "name": "stderr",
     "output_type": "stream",
     "text": [
      "C:\\Users\\luisb\\AppData\\Local\\Temp\\ipykernel_11164\\1726856958.py:51: FutureWarning: ChainedAssignmentError: behaviour will change in pandas 3.0!\n",
      "You are setting values through chained assignment. Currently this works in certain cases, but when using Copy-on-Write (which will become the default behaviour in pandas 3.0) this will never work to update the original DataFrame or Series, because the intermediate object on which we are setting values will behave as a copy.\n",
      "A typical example is when you are setting values in a column of a DataFrame, like:\n",
      "\n",
      "df[\"col\"][row_indexer] = value\n",
      "\n",
      "Use `df.loc[row_indexer, \"col\"] = values` instead, to perform the assignment in a single step and ensure this keeps updating the original `df`.\n",
      "\n",
      "See the caveats in the documentation: https://pandas.pydata.org/pandas-docs/stable/user_guide/indexing.html#returning-a-view-versus-a-copy\n",
      "\n",
      "  inter['Stress'].iloc[counter]='yes'\n",
      "C:\\Users\\luisb\\AppData\\Local\\Temp\\ipykernel_11164\\1726856958.py:52: FutureWarning: ChainedAssignmentError: behaviour will change in pandas 3.0!\n",
      "You are setting values through chained assignment. Currently this works in certain cases, but when using Copy-on-Write (which will become the default behaviour in pandas 3.0) this will never work to update the original DataFrame or Series, because the intermediate object on which we are setting values will behave as a copy.\n",
      "A typical example is when you are setting values in a column of a DataFrame, like:\n",
      "\n",
      "df[\"col\"][row_indexer] = value\n",
      "\n",
      "Use `df.loc[row_indexer, \"col\"] = values` instead, to perform the assignment in a single step and ensure this keeps updating the original `df`.\n",
      "\n",
      "See the caveats in the documentation: https://pandas.pydata.org/pandas-docs/stable/user_guide/indexing.html#returning-a-view-versus-a-copy\n",
      "\n",
      "  inter['Normal'].iloc[counter]='no'\n",
      "C:\\Users\\luisb\\AppData\\Local\\Temp\\ipykernel_11164\\1726856958.py:48: FutureWarning: ChainedAssignmentError: behaviour will change in pandas 3.0!\n",
      "You are setting values through chained assignment. Currently this works in certain cases, but when using Copy-on-Write (which will become the default behaviour in pandas 3.0) this will never work to update the original DataFrame or Series, because the intermediate object on which we are setting values will behave as a copy.\n",
      "A typical example is when you are setting values in a column of a DataFrame, like:\n",
      "\n",
      "df[\"col\"][row_indexer] = value\n",
      "\n",
      "Use `df.loc[row_indexer, \"col\"] = values` instead, to perform the assignment in a single step and ensure this keeps updating the original `df`.\n",
      "\n",
      "See the caveats in the documentation: https://pandas.pydata.org/pandas-docs/stable/user_guide/indexing.html#returning-a-view-versus-a-copy\n",
      "\n",
      "  inter['Anxiety'].iloc[counter]='yes'\n",
      "C:\\Users\\luisb\\AppData\\Local\\Temp\\ipykernel_11164\\1726856958.py:49: FutureWarning: ChainedAssignmentError: behaviour will change in pandas 3.0!\n",
      "You are setting values through chained assignment. Currently this works in certain cases, but when using Copy-on-Write (which will become the default behaviour in pandas 3.0) this will never work to update the original DataFrame or Series, because the intermediate object on which we are setting values will behave as a copy.\n",
      "A typical example is when you are setting values in a column of a DataFrame, like:\n",
      "\n",
      "df[\"col\"][row_indexer] = value\n",
      "\n",
      "Use `df.loc[row_indexer, \"col\"] = values` instead, to perform the assignment in a single step and ensure this keeps updating the original `df`.\n",
      "\n",
      "See the caveats in the documentation: https://pandas.pydata.org/pandas-docs/stable/user_guide/indexing.html#returning-a-view-versus-a-copy\n",
      "\n",
      "  inter['Normal'].iloc[counter]='no'\n",
      "C:\\Users\\luisb\\AppData\\Local\\Temp\\ipykernel_11164\\1726856958.py:45: FutureWarning: ChainedAssignmentError: behaviour will change in pandas 3.0!\n",
      "You are setting values through chained assignment. Currently this works in certain cases, but when using Copy-on-Write (which will become the default behaviour in pandas 3.0) this will never work to update the original DataFrame or Series, because the intermediate object on which we are setting values will behave as a copy.\n",
      "A typical example is when you are setting values in a column of a DataFrame, like:\n",
      "\n",
      "df[\"col\"][row_indexer] = value\n",
      "\n",
      "Use `df.loc[row_indexer, \"col\"] = values` instead, to perform the assignment in a single step and ensure this keeps updating the original `df`.\n",
      "\n",
      "See the caveats in the documentation: https://pandas.pydata.org/pandas-docs/stable/user_guide/indexing.html#returning-a-view-versus-a-copy\n",
      "\n",
      "  inter['Depression'].iloc[counter]='yes'\n",
      "C:\\Users\\luisb\\AppData\\Local\\Temp\\ipykernel_11164\\1726856958.py:46: FutureWarning: ChainedAssignmentError: behaviour will change in pandas 3.0!\n",
      "You are setting values through chained assignment. Currently this works in certain cases, but when using Copy-on-Write (which will become the default behaviour in pandas 3.0) this will never work to update the original DataFrame or Series, because the intermediate object on which we are setting values will behave as a copy.\n",
      "A typical example is when you are setting values in a column of a DataFrame, like:\n",
      "\n",
      "df[\"col\"][row_indexer] = value\n",
      "\n",
      "Use `df.loc[row_indexer, \"col\"] = values` instead, to perform the assignment in a single step and ensure this keeps updating the original `df`.\n",
      "\n",
      "See the caveats in the documentation: https://pandas.pydata.org/pandas-docs/stable/user_guide/indexing.html#returning-a-view-versus-a-copy\n",
      "\n",
      "  inter['Normal'].iloc[counter]='no'\n",
      "C:\\Users\\luisb\\AppData\\Local\\Temp\\ipykernel_11164\\1726856958.py:54: FutureWarning: ChainedAssignmentError: behaviour will change in pandas 3.0!\n",
      "You are setting values through chained assignment. Currently this works in certain cases, but when using Copy-on-Write (which will become the default behaviour in pandas 3.0) this will never work to update the original DataFrame or Series, because the intermediate object on which we are setting values will behave as a copy.\n",
      "A typical example is when you are setting values in a column of a DataFrame, like:\n",
      "\n",
      "df[\"col\"][row_indexer] = value\n",
      "\n",
      "Use `df.loc[row_indexer, \"col\"] = values` instead, to perform the assignment in a single step and ensure this keeps updating the original `df`.\n",
      "\n",
      "See the caveats in the documentation: https://pandas.pydata.org/pandas-docs/stable/user_guide/indexing.html#returning-a-view-versus-a-copy\n",
      "\n",
      "  inter['Loneliness'].iloc[counter]='yes'\n",
      "C:\\Users\\luisb\\AppData\\Local\\Temp\\ipykernel_11164\\1726856958.py:55: FutureWarning: ChainedAssignmentError: behaviour will change in pandas 3.0!\n",
      "You are setting values through chained assignment. Currently this works in certain cases, but when using Copy-on-Write (which will become the default behaviour in pandas 3.0) this will never work to update the original DataFrame or Series, because the intermediate object on which we are setting values will behave as a copy.\n",
      "A typical example is when you are setting values in a column of a DataFrame, like:\n",
      "\n",
      "df[\"col\"][row_indexer] = value\n",
      "\n",
      "Use `df.loc[row_indexer, \"col\"] = values` instead, to perform the assignment in a single step and ensure this keeps updating the original `df`.\n",
      "\n",
      "See the caveats in the documentation: https://pandas.pydata.org/pandas-docs/stable/user_guide/indexing.html#returning-a-view-versus-a-copy\n",
      "\n",
      "  inter['Normal'].iloc[counter]='no'\n"
     ]
    },
    {
     "data": {
      "text/html": [
       "<div>\n",
       "<style scoped>\n",
       "    .dataframe tbody tr th:only-of-type {\n",
       "        vertical-align: middle;\n",
       "    }\n",
       "\n",
       "    .dataframe tbody tr th {\n",
       "        vertical-align: top;\n",
       "    }\n",
       "\n",
       "    .dataframe thead th {\n",
       "        text-align: right;\n",
       "    }\n",
       "</style>\n",
       "<table border=\"1\" class=\"dataframe\">\n",
       "  <thead>\n",
       "    <tr style=\"text-align: right;\">\n",
       "      <th></th>\n",
       "      <th>panic</th>\n",
       "      <th>hopelessness</th>\n",
       "      <th>anger</th>\n",
       "      <th>suicidal.thought</th>\n",
       "      <th>feeling.tired</th>\n",
       "      <th>avoids.people.or.activities</th>\n",
       "      <th>trouble.concentrating</th>\n",
       "      <th>Normal</th>\n",
       "      <th>Anxiety</th>\n",
       "      <th>Depression</th>\n",
       "      <th>Stress</th>\n",
       "      <th>Loneliness</th>\n",
       "    </tr>\n",
       "  </thead>\n",
       "  <tbody>\n",
       "    <tr>\n",
       "      <th>0</th>\n",
       "      <td>no</td>\n",
       "      <td>no</td>\n",
       "      <td>no</td>\n",
       "      <td>no</td>\n",
       "      <td>no</td>\n",
       "      <td>yes</td>\n",
       "      <td>yes</td>\n",
       "      <td>no</td>\n",
       "      <td>no</td>\n",
       "      <td>no</td>\n",
       "      <td>yes</td>\n",
       "      <td>no</td>\n",
       "    </tr>\n",
       "    <tr>\n",
       "      <th>1</th>\n",
       "      <td>yes</td>\n",
       "      <td>no</td>\n",
       "      <td>no</td>\n",
       "      <td>no</td>\n",
       "      <td>no</td>\n",
       "      <td>no</td>\n",
       "      <td>no</td>\n",
       "      <td>no</td>\n",
       "      <td>yes</td>\n",
       "      <td>no</td>\n",
       "      <td>no</td>\n",
       "      <td>no</td>\n",
       "    </tr>\n",
       "    <tr>\n",
       "      <th>2</th>\n",
       "      <td>no</td>\n",
       "      <td>yes</td>\n",
       "      <td>yes</td>\n",
       "      <td>yes</td>\n",
       "      <td>no</td>\n",
       "      <td>no</td>\n",
       "      <td>no</td>\n",
       "      <td>no</td>\n",
       "      <td>no</td>\n",
       "      <td>yes</td>\n",
       "      <td>no</td>\n",
       "      <td>no</td>\n",
       "    </tr>\n",
       "    <tr>\n",
       "      <th>3</th>\n",
       "      <td>no</td>\n",
       "      <td>no</td>\n",
       "      <td>no</td>\n",
       "      <td>no</td>\n",
       "      <td>yes</td>\n",
       "      <td>no</td>\n",
       "      <td>no</td>\n",
       "      <td>no</td>\n",
       "      <td>no</td>\n",
       "      <td>no</td>\n",
       "      <td>no</td>\n",
       "      <td>yes</td>\n",
       "    </tr>\n",
       "    <tr>\n",
       "      <th>4</th>\n",
       "      <td>no</td>\n",
       "      <td>yes</td>\n",
       "      <td>yes</td>\n",
       "      <td>yes</td>\n",
       "      <td>no</td>\n",
       "      <td>no</td>\n",
       "      <td>no</td>\n",
       "      <td>no</td>\n",
       "      <td>no</td>\n",
       "      <td>yes</td>\n",
       "      <td>no</td>\n",
       "      <td>no</td>\n",
       "    </tr>\n",
       "    <tr>\n",
       "      <th>...</th>\n",
       "      <td>...</td>\n",
       "      <td>...</td>\n",
       "      <td>...</td>\n",
       "      <td>...</td>\n",
       "      <td>...</td>\n",
       "      <td>...</td>\n",
       "      <td>...</td>\n",
       "      <td>...</td>\n",
       "      <td>...</td>\n",
       "      <td>...</td>\n",
       "      <td>...</td>\n",
       "      <td>...</td>\n",
       "    </tr>\n",
       "    <tr>\n",
       "      <th>95</th>\n",
       "      <td>no</td>\n",
       "      <td>no</td>\n",
       "      <td>no</td>\n",
       "      <td>no</td>\n",
       "      <td>no</td>\n",
       "      <td>no</td>\n",
       "      <td>no</td>\n",
       "      <td>yes</td>\n",
       "      <td>no</td>\n",
       "      <td>no</td>\n",
       "      <td>no</td>\n",
       "      <td>no</td>\n",
       "    </tr>\n",
       "    <tr>\n",
       "      <th>96</th>\n",
       "      <td>no</td>\n",
       "      <td>no</td>\n",
       "      <td>no</td>\n",
       "      <td>no</td>\n",
       "      <td>no</td>\n",
       "      <td>no</td>\n",
       "      <td>no</td>\n",
       "      <td>yes</td>\n",
       "      <td>no</td>\n",
       "      <td>no</td>\n",
       "      <td>no</td>\n",
       "      <td>no</td>\n",
       "    </tr>\n",
       "    <tr>\n",
       "      <th>97</th>\n",
       "      <td>no</td>\n",
       "      <td>no</td>\n",
       "      <td>no</td>\n",
       "      <td>no</td>\n",
       "      <td>no</td>\n",
       "      <td>no</td>\n",
       "      <td>no</td>\n",
       "      <td>yes</td>\n",
       "      <td>no</td>\n",
       "      <td>no</td>\n",
       "      <td>no</td>\n",
       "      <td>no</td>\n",
       "    </tr>\n",
       "    <tr>\n",
       "      <th>98</th>\n",
       "      <td>no</td>\n",
       "      <td>no</td>\n",
       "      <td>no</td>\n",
       "      <td>no</td>\n",
       "      <td>no</td>\n",
       "      <td>no</td>\n",
       "      <td>no</td>\n",
       "      <td>yes</td>\n",
       "      <td>no</td>\n",
       "      <td>no</td>\n",
       "      <td>no</td>\n",
       "      <td>no</td>\n",
       "    </tr>\n",
       "    <tr>\n",
       "      <th>99</th>\n",
       "      <td>no</td>\n",
       "      <td>no</td>\n",
       "      <td>no</td>\n",
       "      <td>no</td>\n",
       "      <td>no</td>\n",
       "      <td>no</td>\n",
       "      <td>no</td>\n",
       "      <td>yes</td>\n",
       "      <td>no</td>\n",
       "      <td>no</td>\n",
       "      <td>no</td>\n",
       "      <td>no</td>\n",
       "    </tr>\n",
       "  </tbody>\n",
       "</table>\n",
       "<p>100 rows × 12 columns</p>\n",
       "</div>"
      ],
      "text/plain": [
       "   panic hopelessness anger suicidal.thought feeling.tired  \\\n",
       "0     no           no    no               no            no   \n",
       "1    yes           no    no               no            no   \n",
       "2     no          yes   yes              yes            no   \n",
       "3     no           no    no               no           yes   \n",
       "4     no          yes   yes              yes            no   \n",
       "..   ...          ...   ...              ...           ...   \n",
       "95    no           no    no               no            no   \n",
       "96    no           no    no               no            no   \n",
       "97    no           no    no               no            no   \n",
       "98    no           no    no               no            no   \n",
       "99    no           no    no               no            no   \n",
       "\n",
       "   avoids.people.or.activities trouble.concentrating Normal Anxiety  \\\n",
       "0                          yes                   yes     no      no   \n",
       "1                           no                    no     no     yes   \n",
       "2                           no                    no     no      no   \n",
       "3                           no                    no     no      no   \n",
       "4                           no                    no     no      no   \n",
       "..                         ...                   ...    ...     ...   \n",
       "95                          no                    no    yes      no   \n",
       "96                          no                    no    yes      no   \n",
       "97                          no                    no    yes      no   \n",
       "98                          no                    no    yes      no   \n",
       "99                          no                    no    yes      no   \n",
       "\n",
       "   Depression Stress Loneliness  \n",
       "0          no    yes         no  \n",
       "1          no     no         no  \n",
       "2         yes     no         no  \n",
       "3          no     no        yes  \n",
       "4         yes     no         no  \n",
       "..        ...    ...        ...  \n",
       "95         no     no         no  \n",
       "96         no     no         no  \n",
       "97         no     no         no  \n",
       "98         no     no         no  \n",
       "99         no     no         no  \n",
       "\n",
       "[100 rows x 12 columns]"
      ]
     },
     "execution_count": 10,
     "metadata": {},
     "output_type": "execute_result"
    }
   ],
   "source": [
    "import pandas as pd\n",
    "\n",
    "import pandas as pd\n",
    "\n",
    "df = pd.read_csv('dataset.csv')\n",
    "\n",
    "\n",
    "offColumns=['feeling.nervous','trouble.in.concentration', 'having.trouble.in.sleeping', 'feeling.negative', 'sweating', 'material.possessions', 'introvert', 'popping.up.stressful.memory', 'blamming.yourself', 'social.media.addiction', 'weight.gain', 'close.friend', 'change.in.eating', 'having.nightmares', 'over.react', 'having.trouble.with.work', 'breathing.rapidly']\n",
    "\n",
    "df=df.drop(columns=offColumns)\n",
    "\n",
    "df_normal = df[df['Disorder'] == 'Normal']\n",
    "#df_normal2 = df_normal[df_normal['panic']!= 'no']\n",
    "\n",
    "\n",
    "df_dis = df[df['Disorder'] != 'Normal']\n",
    "\n",
    "\n",
    "df_dis = df_dis.sample(n=25, random_state=41)\n",
    "df_normal=df_normal.sample(n=75, random_state=41)\n",
    "\n",
    "df = pd.concat([df_dis, df_normal], ignore_index=True)\n",
    "\n",
    "\n",
    "new_df=df.drop('Disorder', axis=1)\n",
    "new_df\n",
    "\n",
    "disorder=df.iloc[:, 7]\n",
    "disorder\n",
    "\n",
    "tempData = {\n",
    "    'Normal': ['yes'] * 100,\n",
    "    'Depression': ['no'] * 100,\n",
    "    'Anxiety': ['no'] * 100,\n",
    "    'Stress': ['no'] * 100,\n",
    "    'Loneliness': ['no'] * 100\n",
    "}\n",
    "\n",
    "inter = pd.DataFrame(tempData)\n",
    "inter\n",
    "\n",
    "counter=0\n",
    "for i in disorder: \n",
    "    if i=='Depression': \n",
    "        inter['Depression'].iloc[counter]='yes'\n",
    "        inter['Normal'].iloc[counter]='no'\n",
    "    elif i=='Anxiety': \n",
    "        inter['Anxiety'].iloc[counter]='yes'\n",
    "        inter['Normal'].iloc[counter]='no'\n",
    "    elif i=='Stress': \n",
    "        inter['Stress'].iloc[counter]='yes'\n",
    "        inter['Normal'].iloc[counter]='no'\n",
    "    elif i=='Loneliness': \n",
    "        inter['Loneliness'].iloc[counter]='yes'\n",
    "        inter['Normal'].iloc[counter]='no'\n",
    "    counter+=1\n",
    "        \n",
    "inter\n",
    "\n",
    "new_df.loc[:,'Normal']=inter.loc[:, 'Normal']\n",
    "new_df.loc[:,'Anxiety']=inter.loc[:, 'Anxiety']\n",
    "new_df.loc[:,'Depression']=inter.loc[:, 'Depression']\n",
    "new_df.loc[:,'Stress']=inter.loc[:, 'Stress']\n",
    "new_df.loc[:,'Loneliness']=inter.loc[:, 'Loneliness']\n",
    "new_df"
   ]
  },
  {
   "cell_type": "code",
   "execution_count": 11,
   "metadata": {},
   "outputs": [
    {
     "name": "stderr",
     "output_type": "stream",
     "text": [
      "WARNING:pgmpy:BayesianModel has been renamed to BayesianNetwork. Please use BayesianNetwork class, BayesianModel will be removed in future.\n"
     ]
    }
   ],
   "source": [
    "#CREACION DEL MODELO BAYESIANO\n",
    "\n",
    "from pgmpy.models import BayesianModel\n",
    "from pgmpy.factors.discrete import TabularCPD\n",
    "import pandas as pd\n",
    "\n",
    "from pgmpy.models import BayesianModel\n",
    "\n",
    "model = BayesianModel([\n",
    "    ('panic', 'Depression'),\n",
    "    ('hopelessness', 'Depression'),\n",
    "    ('anger', 'Depression'),\n",
    "    ('suicidal.thought', 'Depression'),\n",
    "    ('feeling.tired', 'Depression'),\n",
    "    ('avoids.people.or.activities', 'Depression'),\n",
    "    ('trouble.concentrating', 'Depression'),\n",
    "    \n",
    "    ('panic', 'Anxiety'),\n",
    "    ('hopelessness', 'Anxiety'),\n",
    "    ('anger', 'Anxiety'),\n",
    "    ('suicidal.thought', 'Anxiety'),\n",
    "    ('feeling.tired', 'Anxiety'),\n",
    "    ('avoids.people.or.activities', 'Anxiety'),\n",
    "    ('trouble.concentrating', 'Anxiety'),\n",
    "    \n",
    "    ('panic', 'Stress'),\n",
    "    ('hopelessness', 'Stress'),\n",
    "    ('anger', 'Stress'),\n",
    "    ('suicidal.thought', 'Stress'),\n",
    "    ('feeling.tired', 'Stress'),\n",
    "    ('avoids.people.or.activities', 'Stress'),\n",
    "    ('trouble.concentrating', 'Stress'),\n",
    "    \n",
    "    ('panic', 'Loneliness'),\n",
    "    ('hopelessness', 'Loneliness'),\n",
    "    ('anger', 'Loneliness'),\n",
    "    ('suicidal.thought', 'Loneliness'),\n",
    "    ('feeling.tired', 'Loneliness'),\n",
    "    ('avoids.people.or.activities', 'Loneliness'),\n",
    "    ('trouble.concentrating', 'Loneliness'),\n",
    "    \n",
    "    ('panic', 'Normal'),\n",
    "    ('hopelessness', 'Normal'),\n",
    "    ('anger', 'Normal'),\n",
    "    ('suicidal.thought', 'Normal'),\n",
    "    ('feeling.tired', 'Normal'),\n",
    "    ('avoids.people.or.activities', 'Normal'),\n",
    "    ('trouble.concentrating', 'Normal')\n",
    "])\n"
   ]
  },
  {
   "cell_type": "code",
   "execution_count": 12,
   "metadata": {},
   "outputs": [
    {
     "name": "stdout",
     "output_type": "stream",
     "text": [
      "+------------+------+\n",
      "| panic(no)  | 0.97 |\n",
      "+------------+------+\n",
      "| panic(yes) | 0.03 |\n",
      "+------------+------+\n",
      "+-------------------+------+\n",
      "| hopelessness(no)  | 0.94 |\n",
      "+-------------------+------+\n",
      "| hopelessness(yes) | 0.06 |\n",
      "+-------------------+------+\n",
      "+------------+------+\n",
      "| anger(no)  | 0.94 |\n",
      "+------------+------+\n",
      "| anger(yes) | 0.06 |\n",
      "+------------+------+\n",
      "+-----------------------+------+\n",
      "| suicidal.thought(no)  | 0.94 |\n",
      "+-----------------------+------+\n",
      "| suicidal.thought(yes) | 0.06 |\n",
      "+-----------------------+------+\n",
      "+--------------------+------+\n",
      "| feeling.tired(no)  | 0.95 |\n",
      "+--------------------+------+\n",
      "| feeling.tired(yes) | 0.05 |\n",
      "+--------------------+------+\n",
      "+----------------------------------+------+\n",
      "| avoids.people.or.activities(no)  | 0.89 |\n",
      "+----------------------------------+------+\n",
      "| avoids.people.or.activities(yes) | 0.11 |\n",
      "+----------------------------------+------+\n",
      "+----------------------------+------+\n",
      "| trouble.concentrating(no)  | 0.89 |\n",
      "+----------------------------+------+\n",
      "| trouble.concentrating(yes) | 0.11 |\n",
      "+----------------------------+------+\n",
      "+-----------------------------+---------------------------------+---------------------------------+---------------------------------+---------------------------------+---------------------------------+---------------------------------+---------------------------------+---------------------------------+---------------------------------+---------------------------------+---------------------------------+---------------------------------+---------------------------------+---------------------------------+---------------------------------+---------------------------------+---------------------------------+---------------------------------+---------------------------------+---------------------------------+---------------------------------+---------------------------------+---------------------------------+---------------------------------+---------------------------------+---------------------------------+---------------------------------+---------------------------------+---------------------------------+---------------------------------+---------------------------------+---------------------------------+----------------------------------+----------------------------------+----------------------------------+----------------------------------+----------------------------------+----------------------------------+----------------------------------+----------------------------------+----------------------------------+----------------------------------+----------------------------------+----------------------------------+----------------------------------+----------------------------------+----------------------------------+----------------------------------+----------------------------------+----------------------------------+----------------------------------+----------------------------------+----------------------------------+----------------------------------+----------------------------------+----------------------------------+----------------------------------+----------------------------------+----------------------------------+----------------------------------+----------------------------------+----------------------------------+----------------------------------+----------------------------------+---------------------------------+---------------------------------+---------------------------------+---------------------------------+---------------------------------+---------------------------------+---------------------------------+---------------------------------+---------------------------------+---------------------------------+---------------------------------+---------------------------------+---------------------------------+---------------------------------+---------------------------------+---------------------------------+---------------------------------+---------------------------------+---------------------------------+---------------------------------+---------------------------------+---------------------------------+---------------------------------+---------------------------------+---------------------------------+---------------------------------+---------------------------------+---------------------------------+---------------------------------+---------------------------------+---------------------------------+---------------------------------+----------------------------------+----------------------------------+----------------------------------+----------------------------------+----------------------------------+----------------------------------+----------------------------------+----------------------------------+----------------------------------+----------------------------------+----------------------------------+----------------------------------+----------------------------------+----------------------------------+----------------------------------+----------------------------------+----------------------------------+----------------------------------+----------------------------------+----------------------------------+----------------------------------+----------------------------------+----------------------------------+----------------------------------+----------------------------------+----------------------------------+----------------------------------+----------------------------------+----------------------------------+----------------------------------+----------------------------------+----------------------------------+\n",
      "| anger                       | anger(no)                       | anger(no)                       | anger(no)                       | anger(no)                       | anger(no)                       | anger(no)                       | anger(no)                       | anger(no)                       | anger(no)                       | anger(no)                       | anger(no)                       | anger(no)                       | anger(no)                       | anger(no)                       | anger(no)                       | anger(no)                       | anger(no)                       | anger(no)                       | anger(no)                       | anger(no)                       | anger(no)                       | anger(no)                       | anger(no)                       | anger(no)                       | anger(no)                       | anger(no)                       | anger(no)                       | anger(no)                       | anger(no)                       | anger(no)                       | anger(no)                       | anger(no)                       | anger(no)                        | anger(no)                        | anger(no)                        | anger(no)                        | anger(no)                        | anger(no)                        | anger(no)                        | anger(no)                        | anger(no)                        | anger(no)                        | anger(no)                        | anger(no)                        | anger(no)                        | anger(no)                        | anger(no)                        | anger(no)                        | anger(no)                        | anger(no)                        | anger(no)                        | anger(no)                        | anger(no)                        | anger(no)                        | anger(no)                        | anger(no)                        | anger(no)                        | anger(no)                        | anger(no)                        | anger(no)                        | anger(no)                        | anger(no)                        | anger(no)                        | anger(no)                        | anger(yes)                      | anger(yes)                      | anger(yes)                      | anger(yes)                      | anger(yes)                      | anger(yes)                      | anger(yes)                      | anger(yes)                      | anger(yes)                      | anger(yes)                      | anger(yes)                      | anger(yes)                      | anger(yes)                      | anger(yes)                      | anger(yes)                      | anger(yes)                      | anger(yes)                      | anger(yes)                      | anger(yes)                      | anger(yes)                      | anger(yes)                      | anger(yes)                      | anger(yes)                      | anger(yes)                      | anger(yes)                      | anger(yes)                      | anger(yes)                      | anger(yes)                      | anger(yes)                      | anger(yes)                      | anger(yes)                      | anger(yes)                      | anger(yes)                       | anger(yes)                       | anger(yes)                       | anger(yes)                       | anger(yes)                       | anger(yes)                       | anger(yes)                       | anger(yes)                       | anger(yes)                       | anger(yes)                       | anger(yes)                       | anger(yes)                       | anger(yes)                       | anger(yes)                       | anger(yes)                       | anger(yes)                       | anger(yes)                       | anger(yes)                       | anger(yes)                       | anger(yes)                       | anger(yes)                       | anger(yes)                       | anger(yes)                       | anger(yes)                       | anger(yes)                       | anger(yes)                       | anger(yes)                       | anger(yes)                       | anger(yes)                       | anger(yes)                       | anger(yes)                       | anger(yes)                       |\n",
      "+-----------------------------+---------------------------------+---------------------------------+---------------------------------+---------------------------------+---------------------------------+---------------------------------+---------------------------------+---------------------------------+---------------------------------+---------------------------------+---------------------------------+---------------------------------+---------------------------------+---------------------------------+---------------------------------+---------------------------------+---------------------------------+---------------------------------+---------------------------------+---------------------------------+---------------------------------+---------------------------------+---------------------------------+---------------------------------+---------------------------------+---------------------------------+---------------------------------+---------------------------------+---------------------------------+---------------------------------+---------------------------------+---------------------------------+----------------------------------+----------------------------------+----------------------------------+----------------------------------+----------------------------------+----------------------------------+----------------------------------+----------------------------------+----------------------------------+----------------------------------+----------------------------------+----------------------------------+----------------------------------+----------------------------------+----------------------------------+----------------------------------+----------------------------------+----------------------------------+----------------------------------+----------------------------------+----------------------------------+----------------------------------+----------------------------------+----------------------------------+----------------------------------+----------------------------------+----------------------------------+----------------------------------+----------------------------------+----------------------------------+----------------------------------+----------------------------------+---------------------------------+---------------------------------+---------------------------------+---------------------------------+---------------------------------+---------------------------------+---------------------------------+---------------------------------+---------------------------------+---------------------------------+---------------------------------+---------------------------------+---------------------------------+---------------------------------+---------------------------------+---------------------------------+---------------------------------+---------------------------------+---------------------------------+---------------------------------+---------------------------------+---------------------------------+---------------------------------+---------------------------------+---------------------------------+---------------------------------+---------------------------------+---------------------------------+---------------------------------+---------------------------------+---------------------------------+---------------------------------+----------------------------------+----------------------------------+----------------------------------+----------------------------------+----------------------------------+----------------------------------+----------------------------------+----------------------------------+----------------------------------+----------------------------------+----------------------------------+----------------------------------+----------------------------------+----------------------------------+----------------------------------+----------------------------------+----------------------------------+----------------------------------+----------------------------------+----------------------------------+----------------------------------+----------------------------------+----------------------------------+----------------------------------+----------------------------------+----------------------------------+----------------------------------+----------------------------------+----------------------------------+----------------------------------+----------------------------------+----------------------------------+\n",
      "| avoids.people.or.activities | avoids.people.or.activities(no) | avoids.people.or.activities(no) | avoids.people.or.activities(no) | avoids.people.or.activities(no) | avoids.people.or.activities(no) | avoids.people.or.activities(no) | avoids.people.or.activities(no) | avoids.people.or.activities(no) | avoids.people.or.activities(no) | avoids.people.or.activities(no) | avoids.people.or.activities(no) | avoids.people.or.activities(no) | avoids.people.or.activities(no) | avoids.people.or.activities(no) | avoids.people.or.activities(no) | avoids.people.or.activities(no) | avoids.people.or.activities(no) | avoids.people.or.activities(no) | avoids.people.or.activities(no) | avoids.people.or.activities(no) | avoids.people.or.activities(no) | avoids.people.or.activities(no) | avoids.people.or.activities(no) | avoids.people.or.activities(no) | avoids.people.or.activities(no) | avoids.people.or.activities(no) | avoids.people.or.activities(no) | avoids.people.or.activities(no) | avoids.people.or.activities(no) | avoids.people.or.activities(no) | avoids.people.or.activities(no) | avoids.people.or.activities(no) | avoids.people.or.activities(yes) | avoids.people.or.activities(yes) | avoids.people.or.activities(yes) | avoids.people.or.activities(yes) | avoids.people.or.activities(yes) | avoids.people.or.activities(yes) | avoids.people.or.activities(yes) | avoids.people.or.activities(yes) | avoids.people.or.activities(yes) | avoids.people.or.activities(yes) | avoids.people.or.activities(yes) | avoids.people.or.activities(yes) | avoids.people.or.activities(yes) | avoids.people.or.activities(yes) | avoids.people.or.activities(yes) | avoids.people.or.activities(yes) | avoids.people.or.activities(yes) | avoids.people.or.activities(yes) | avoids.people.or.activities(yes) | avoids.people.or.activities(yes) | avoids.people.or.activities(yes) | avoids.people.or.activities(yes) | avoids.people.or.activities(yes) | avoids.people.or.activities(yes) | avoids.people.or.activities(yes) | avoids.people.or.activities(yes) | avoids.people.or.activities(yes) | avoids.people.or.activities(yes) | avoids.people.or.activities(yes) | avoids.people.or.activities(yes) | avoids.people.or.activities(yes) | avoids.people.or.activities(yes) | avoids.people.or.activities(no) | avoids.people.or.activities(no) | avoids.people.or.activities(no) | avoids.people.or.activities(no) | avoids.people.or.activities(no) | avoids.people.or.activities(no) | avoids.people.or.activities(no) | avoids.people.or.activities(no) | avoids.people.or.activities(no) | avoids.people.or.activities(no) | avoids.people.or.activities(no) | avoids.people.or.activities(no) | avoids.people.or.activities(no) | avoids.people.or.activities(no) | avoids.people.or.activities(no) | avoids.people.or.activities(no) | avoids.people.or.activities(no) | avoids.people.or.activities(no) | avoids.people.or.activities(no) | avoids.people.or.activities(no) | avoids.people.or.activities(no) | avoids.people.or.activities(no) | avoids.people.or.activities(no) | avoids.people.or.activities(no) | avoids.people.or.activities(no) | avoids.people.or.activities(no) | avoids.people.or.activities(no) | avoids.people.or.activities(no) | avoids.people.or.activities(no) | avoids.people.or.activities(no) | avoids.people.or.activities(no) | avoids.people.or.activities(no) | avoids.people.or.activities(yes) | avoids.people.or.activities(yes) | avoids.people.or.activities(yes) | avoids.people.or.activities(yes) | avoids.people.or.activities(yes) | avoids.people.or.activities(yes) | avoids.people.or.activities(yes) | avoids.people.or.activities(yes) | avoids.people.or.activities(yes) | avoids.people.or.activities(yes) | avoids.people.or.activities(yes) | avoids.people.or.activities(yes) | avoids.people.or.activities(yes) | avoids.people.or.activities(yes) | avoids.people.or.activities(yes) | avoids.people.or.activities(yes) | avoids.people.or.activities(yes) | avoids.people.or.activities(yes) | avoids.people.or.activities(yes) | avoids.people.or.activities(yes) | avoids.people.or.activities(yes) | avoids.people.or.activities(yes) | avoids.people.or.activities(yes) | avoids.people.or.activities(yes) | avoids.people.or.activities(yes) | avoids.people.or.activities(yes) | avoids.people.or.activities(yes) | avoids.people.or.activities(yes) | avoids.people.or.activities(yes) | avoids.people.or.activities(yes) | avoids.people.or.activities(yes) | avoids.people.or.activities(yes) |\n",
      "+-----------------------------+---------------------------------+---------------------------------+---------------------------------+---------------------------------+---------------------------------+---------------------------------+---------------------------------+---------------------------------+---------------------------------+---------------------------------+---------------------------------+---------------------------------+---------------------------------+---------------------------------+---------------------------------+---------------------------------+---------------------------------+---------------------------------+---------------------------------+---------------------------------+---------------------------------+---------------------------------+---------------------------------+---------------------------------+---------------------------------+---------------------------------+---------------------------------+---------------------------------+---------------------------------+---------------------------------+---------------------------------+---------------------------------+----------------------------------+----------------------------------+----------------------------------+----------------------------------+----------------------------------+----------------------------------+----------------------------------+----------------------------------+----------------------------------+----------------------------------+----------------------------------+----------------------------------+----------------------------------+----------------------------------+----------------------------------+----------------------------------+----------------------------------+----------------------------------+----------------------------------+----------------------------------+----------------------------------+----------------------------------+----------------------------------+----------------------------------+----------------------------------+----------------------------------+----------------------------------+----------------------------------+----------------------------------+----------------------------------+----------------------------------+----------------------------------+---------------------------------+---------------------------------+---------------------------------+---------------------------------+---------------------------------+---------------------------------+---------------------------------+---------------------------------+---------------------------------+---------------------------------+---------------------------------+---------------------------------+---------------------------------+---------------------------------+---------------------------------+---------------------------------+---------------------------------+---------------------------------+---------------------------------+---------------------------------+---------------------------------+---------------------------------+---------------------------------+---------------------------------+---------------------------------+---------------------------------+---------------------------------+---------------------------------+---------------------------------+---------------------------------+---------------------------------+---------------------------------+----------------------------------+----------------------------------+----------------------------------+----------------------------------+----------------------------------+----------------------------------+----------------------------------+----------------------------------+----------------------------------+----------------------------------+----------------------------------+----------------------------------+----------------------------------+----------------------------------+----------------------------------+----------------------------------+----------------------------------+----------------------------------+----------------------------------+----------------------------------+----------------------------------+----------------------------------+----------------------------------+----------------------------------+----------------------------------+----------------------------------+----------------------------------+----------------------------------+----------------------------------+----------------------------------+----------------------------------+----------------------------------+\n",
      "| feeling.tired               | feeling.tired(no)               | feeling.tired(no)               | feeling.tired(no)               | feeling.tired(no)               | feeling.tired(no)               | feeling.tired(no)               | feeling.tired(no)               | feeling.tired(no)               | feeling.tired(no)               | feeling.tired(no)               | feeling.tired(no)               | feeling.tired(no)               | feeling.tired(no)               | feeling.tired(no)               | feeling.tired(no)               | feeling.tired(no)               | feeling.tired(yes)              | feeling.tired(yes)              | feeling.tired(yes)              | feeling.tired(yes)              | feeling.tired(yes)              | feeling.tired(yes)              | feeling.tired(yes)              | feeling.tired(yes)              | feeling.tired(yes)              | feeling.tired(yes)              | feeling.tired(yes)              | feeling.tired(yes)              | feeling.tired(yes)              | feeling.tired(yes)              | feeling.tired(yes)              | feeling.tired(yes)              | feeling.tired(no)                | feeling.tired(no)                | feeling.tired(no)                | feeling.tired(no)                | feeling.tired(no)                | feeling.tired(no)                | feeling.tired(no)                | feeling.tired(no)                | feeling.tired(no)                | feeling.tired(no)                | feeling.tired(no)                | feeling.tired(no)                | feeling.tired(no)                | feeling.tired(no)                | feeling.tired(no)                | feeling.tired(no)                | feeling.tired(yes)               | feeling.tired(yes)               | feeling.tired(yes)               | feeling.tired(yes)               | feeling.tired(yes)               | feeling.tired(yes)               | feeling.tired(yes)               | feeling.tired(yes)               | feeling.tired(yes)               | feeling.tired(yes)               | feeling.tired(yes)               | feeling.tired(yes)               | feeling.tired(yes)               | feeling.tired(yes)               | feeling.tired(yes)               | feeling.tired(yes)               | feeling.tired(no)               | feeling.tired(no)               | feeling.tired(no)               | feeling.tired(no)               | feeling.tired(no)               | feeling.tired(no)               | feeling.tired(no)               | feeling.tired(no)               | feeling.tired(no)               | feeling.tired(no)               | feeling.tired(no)               | feeling.tired(no)               | feeling.tired(no)               | feeling.tired(no)               | feeling.tired(no)               | feeling.tired(no)               | feeling.tired(yes)              | feeling.tired(yes)              | feeling.tired(yes)              | feeling.tired(yes)              | feeling.tired(yes)              | feeling.tired(yes)              | feeling.tired(yes)              | feeling.tired(yes)              | feeling.tired(yes)              | feeling.tired(yes)              | feeling.tired(yes)              | feeling.tired(yes)              | feeling.tired(yes)              | feeling.tired(yes)              | feeling.tired(yes)              | feeling.tired(yes)              | feeling.tired(no)                | feeling.tired(no)                | feeling.tired(no)                | feeling.tired(no)                | feeling.tired(no)                | feeling.tired(no)                | feeling.tired(no)                | feeling.tired(no)                | feeling.tired(no)                | feeling.tired(no)                | feeling.tired(no)                | feeling.tired(no)                | feeling.tired(no)                | feeling.tired(no)                | feeling.tired(no)                | feeling.tired(no)                | feeling.tired(yes)               | feeling.tired(yes)               | feeling.tired(yes)               | feeling.tired(yes)               | feeling.tired(yes)               | feeling.tired(yes)               | feeling.tired(yes)               | feeling.tired(yes)               | feeling.tired(yes)               | feeling.tired(yes)               | feeling.tired(yes)               | feeling.tired(yes)               | feeling.tired(yes)               | feeling.tired(yes)               | feeling.tired(yes)               | feeling.tired(yes)               |\n",
      "+-----------------------------+---------------------------------+---------------------------------+---------------------------------+---------------------------------+---------------------------------+---------------------------------+---------------------------------+---------------------------------+---------------------------------+---------------------------------+---------------------------------+---------------------------------+---------------------------------+---------------------------------+---------------------------------+---------------------------------+---------------------------------+---------------------------------+---------------------------------+---------------------------------+---------------------------------+---------------------------------+---------------------------------+---------------------------------+---------------------------------+---------------------------------+---------------------------------+---------------------------------+---------------------------------+---------------------------------+---------------------------------+---------------------------------+----------------------------------+----------------------------------+----------------------------------+----------------------------------+----------------------------------+----------------------------------+----------------------------------+----------------------------------+----------------------------------+----------------------------------+----------------------------------+----------------------------------+----------------------------------+----------------------------------+----------------------------------+----------------------------------+----------------------------------+----------------------------------+----------------------------------+----------------------------------+----------------------------------+----------------------------------+----------------------------------+----------------------------------+----------------------------------+----------------------------------+----------------------------------+----------------------------------+----------------------------------+----------------------------------+----------------------------------+----------------------------------+---------------------------------+---------------------------------+---------------------------------+---------------------------------+---------------------------------+---------------------------------+---------------------------------+---------------------------------+---------------------------------+---------------------------------+---------------------------------+---------------------------------+---------------------------------+---------------------------------+---------------------------------+---------------------------------+---------------------------------+---------------------------------+---------------------------------+---------------------------------+---------------------------------+---------------------------------+---------------------------------+---------------------------------+---------------------------------+---------------------------------+---------------------------------+---------------------------------+---------------------------------+---------------------------------+---------------------------------+---------------------------------+----------------------------------+----------------------------------+----------------------------------+----------------------------------+----------------------------------+----------------------------------+----------------------------------+----------------------------------+----------------------------------+----------------------------------+----------------------------------+----------------------------------+----------------------------------+----------------------------------+----------------------------------+----------------------------------+----------------------------------+----------------------------------+----------------------------------+----------------------------------+----------------------------------+----------------------------------+----------------------------------+----------------------------------+----------------------------------+----------------------------------+----------------------------------+----------------------------------+----------------------------------+----------------------------------+----------------------------------+----------------------------------+\n",
      "| hopelessness                | hopelessness(no)                | hopelessness(no)                | hopelessness(no)                | hopelessness(no)                | hopelessness(no)                | hopelessness(no)                | hopelessness(no)                | hopelessness(no)                | hopelessness(yes)               | hopelessness(yes)               | hopelessness(yes)               | hopelessness(yes)               | hopelessness(yes)               | hopelessness(yes)               | hopelessness(yes)               | hopelessness(yes)               | hopelessness(no)                | hopelessness(no)                | hopelessness(no)                | hopelessness(no)                | hopelessness(no)                | hopelessness(no)                | hopelessness(no)                | hopelessness(no)                | hopelessness(yes)               | hopelessness(yes)               | hopelessness(yes)               | hopelessness(yes)               | hopelessness(yes)               | hopelessness(yes)               | hopelessness(yes)               | hopelessness(yes)               | hopelessness(no)                 | hopelessness(no)                 | hopelessness(no)                 | hopelessness(no)                 | hopelessness(no)                 | hopelessness(no)                 | hopelessness(no)                 | hopelessness(no)                 | hopelessness(yes)                | hopelessness(yes)                | hopelessness(yes)                | hopelessness(yes)                | hopelessness(yes)                | hopelessness(yes)                | hopelessness(yes)                | hopelessness(yes)                | hopelessness(no)                 | hopelessness(no)                 | hopelessness(no)                 | hopelessness(no)                 | hopelessness(no)                 | hopelessness(no)                 | hopelessness(no)                 | hopelessness(no)                 | hopelessness(yes)                | hopelessness(yes)                | hopelessness(yes)                | hopelessness(yes)                | hopelessness(yes)                | hopelessness(yes)                | hopelessness(yes)                | hopelessness(yes)                | hopelessness(no)                | hopelessness(no)                | hopelessness(no)                | hopelessness(no)                | hopelessness(no)                | hopelessness(no)                | hopelessness(no)                | hopelessness(no)                | hopelessness(yes)               | hopelessness(yes)               | hopelessness(yes)               | hopelessness(yes)               | hopelessness(yes)               | hopelessness(yes)               | hopelessness(yes)               | hopelessness(yes)               | hopelessness(no)                | hopelessness(no)                | hopelessness(no)                | hopelessness(no)                | hopelessness(no)                | hopelessness(no)                | hopelessness(no)                | hopelessness(no)                | hopelessness(yes)               | hopelessness(yes)               | hopelessness(yes)               | hopelessness(yes)               | hopelessness(yes)               | hopelessness(yes)               | hopelessness(yes)               | hopelessness(yes)               | hopelessness(no)                 | hopelessness(no)                 | hopelessness(no)                 | hopelessness(no)                 | hopelessness(no)                 | hopelessness(no)                 | hopelessness(no)                 | hopelessness(no)                 | hopelessness(yes)                | hopelessness(yes)                | hopelessness(yes)                | hopelessness(yes)                | hopelessness(yes)                | hopelessness(yes)                | hopelessness(yes)                | hopelessness(yes)                | hopelessness(no)                 | hopelessness(no)                 | hopelessness(no)                 | hopelessness(no)                 | hopelessness(no)                 | hopelessness(no)                 | hopelessness(no)                 | hopelessness(no)                 | hopelessness(yes)                | hopelessness(yes)                | hopelessness(yes)                | hopelessness(yes)                | hopelessness(yes)                | hopelessness(yes)                | hopelessness(yes)                | hopelessness(yes)                |\n",
      "+-----------------------------+---------------------------------+---------------------------------+---------------------------------+---------------------------------+---------------------------------+---------------------------------+---------------------------------+---------------------------------+---------------------------------+---------------------------------+---------------------------------+---------------------------------+---------------------------------+---------------------------------+---------------------------------+---------------------------------+---------------------------------+---------------------------------+---------------------------------+---------------------------------+---------------------------------+---------------------------------+---------------------------------+---------------------------------+---------------------------------+---------------------------------+---------------------------------+---------------------------------+---------------------------------+---------------------------------+---------------------------------+---------------------------------+----------------------------------+----------------------------------+----------------------------------+----------------------------------+----------------------------------+----------------------------------+----------------------------------+----------------------------------+----------------------------------+----------------------------------+----------------------------------+----------------------------------+----------------------------------+----------------------------------+----------------------------------+----------------------------------+----------------------------------+----------------------------------+----------------------------------+----------------------------------+----------------------------------+----------------------------------+----------------------------------+----------------------------------+----------------------------------+----------------------------------+----------------------------------+----------------------------------+----------------------------------+----------------------------------+----------------------------------+----------------------------------+---------------------------------+---------------------------------+---------------------------------+---------------------------------+---------------------------------+---------------------------------+---------------------------------+---------------------------------+---------------------------------+---------------------------------+---------------------------------+---------------------------------+---------------------------------+---------------------------------+---------------------------------+---------------------------------+---------------------------------+---------------------------------+---------------------------------+---------------------------------+---------------------------------+---------------------------------+---------------------------------+---------------------------------+---------------------------------+---------------------------------+---------------------------------+---------------------------------+---------------------------------+---------------------------------+---------------------------------+---------------------------------+----------------------------------+----------------------------------+----------------------------------+----------------------------------+----------------------------------+----------------------------------+----------------------------------+----------------------------------+----------------------------------+----------------------------------+----------------------------------+----------------------------------+----------------------------------+----------------------------------+----------------------------------+----------------------------------+----------------------------------+----------------------------------+----------------------------------+----------------------------------+----------------------------------+----------------------------------+----------------------------------+----------------------------------+----------------------------------+----------------------------------+----------------------------------+----------------------------------+----------------------------------+----------------------------------+----------------------------------+----------------------------------+\n",
      "| panic                       | panic(no)                       | panic(no)                       | panic(no)                       | panic(no)                       | panic(yes)                      | panic(yes)                      | panic(yes)                      | panic(yes)                      | panic(no)                       | panic(no)                       | panic(no)                       | panic(no)                       | panic(yes)                      | panic(yes)                      | panic(yes)                      | panic(yes)                      | panic(no)                       | panic(no)                       | panic(no)                       | panic(no)                       | panic(yes)                      | panic(yes)                      | panic(yes)                      | panic(yes)                      | panic(no)                       | panic(no)                       | panic(no)                       | panic(no)                       | panic(yes)                      | panic(yes)                      | panic(yes)                      | panic(yes)                      | panic(no)                        | panic(no)                        | panic(no)                        | panic(no)                        | panic(yes)                       | panic(yes)                       | panic(yes)                       | panic(yes)                       | panic(no)                        | panic(no)                        | panic(no)                        | panic(no)                        | panic(yes)                       | panic(yes)                       | panic(yes)                       | panic(yes)                       | panic(no)                        | panic(no)                        | panic(no)                        | panic(no)                        | panic(yes)                       | panic(yes)                       | panic(yes)                       | panic(yes)                       | panic(no)                        | panic(no)                        | panic(no)                        | panic(no)                        | panic(yes)                       | panic(yes)                       | panic(yes)                       | panic(yes)                       | panic(no)                       | panic(no)                       | panic(no)                       | panic(no)                       | panic(yes)                      | panic(yes)                      | panic(yes)                      | panic(yes)                      | panic(no)                       | panic(no)                       | panic(no)                       | panic(no)                       | panic(yes)                      | panic(yes)                      | panic(yes)                      | panic(yes)                      | panic(no)                       | panic(no)                       | panic(no)                       | panic(no)                       | panic(yes)                      | panic(yes)                      | panic(yes)                      | panic(yes)                      | panic(no)                       | panic(no)                       | panic(no)                       | panic(no)                       | panic(yes)                      | panic(yes)                      | panic(yes)                      | panic(yes)                      | panic(no)                        | panic(no)                        | panic(no)                        | panic(no)                        | panic(yes)                       | panic(yes)                       | panic(yes)                       | panic(yes)                       | panic(no)                        | panic(no)                        | panic(no)                        | panic(no)                        | panic(yes)                       | panic(yes)                       | panic(yes)                       | panic(yes)                       | panic(no)                        | panic(no)                        | panic(no)                        | panic(no)                        | panic(yes)                       | panic(yes)                       | panic(yes)                       | panic(yes)                       | panic(no)                        | panic(no)                        | panic(no)                        | panic(no)                        | panic(yes)                       | panic(yes)                       | panic(yes)                       | panic(yes)                       |\n",
      "+-----------------------------+---------------------------------+---------------------------------+---------------------------------+---------------------------------+---------------------------------+---------------------------------+---------------------------------+---------------------------------+---------------------------------+---------------------------------+---------------------------------+---------------------------------+---------------------------------+---------------------------------+---------------------------------+---------------------------------+---------------------------------+---------------------------------+---------------------------------+---------------------------------+---------------------------------+---------------------------------+---------------------------------+---------------------------------+---------------------------------+---------------------------------+---------------------------------+---------------------------------+---------------------------------+---------------------------------+---------------------------------+---------------------------------+----------------------------------+----------------------------------+----------------------------------+----------------------------------+----------------------------------+----------------------------------+----------------------------------+----------------------------------+----------------------------------+----------------------------------+----------------------------------+----------------------------------+----------------------------------+----------------------------------+----------------------------------+----------------------------------+----------------------------------+----------------------------------+----------------------------------+----------------------------------+----------------------------------+----------------------------------+----------------------------------+----------------------------------+----------------------------------+----------------------------------+----------------------------------+----------------------------------+----------------------------------+----------------------------------+----------------------------------+----------------------------------+---------------------------------+---------------------------------+---------------------------------+---------------------------------+---------------------------------+---------------------------------+---------------------------------+---------------------------------+---------------------------------+---------------------------------+---------------------------------+---------------------------------+---------------------------------+---------------------------------+---------------------------------+---------------------------------+---------------------------------+---------------------------------+---------------------------------+---------------------------------+---------------------------------+---------------------------------+---------------------------------+---------------------------------+---------------------------------+---------------------------------+---------------------------------+---------------------------------+---------------------------------+---------------------------------+---------------------------------+---------------------------------+----------------------------------+----------------------------------+----------------------------------+----------------------------------+----------------------------------+----------------------------------+----------------------------------+----------------------------------+----------------------------------+----------------------------------+----------------------------------+----------------------------------+----------------------------------+----------------------------------+----------------------------------+----------------------------------+----------------------------------+----------------------------------+----------------------------------+----------------------------------+----------------------------------+----------------------------------+----------------------------------+----------------------------------+----------------------------------+----------------------------------+----------------------------------+----------------------------------+----------------------------------+----------------------------------+----------------------------------+----------------------------------+\n",
      "| suicidal.thought            | suicidal.thought(no)            | suicidal.thought(no)            | suicidal.thought(yes)           | suicidal.thought(yes)           | suicidal.thought(no)            | suicidal.thought(no)            | suicidal.thought(yes)           | suicidal.thought(yes)           | suicidal.thought(no)            | suicidal.thought(no)            | suicidal.thought(yes)           | suicidal.thought(yes)           | suicidal.thought(no)            | suicidal.thought(no)            | suicidal.thought(yes)           | suicidal.thought(yes)           | suicidal.thought(no)            | suicidal.thought(no)            | suicidal.thought(yes)           | suicidal.thought(yes)           | suicidal.thought(no)            | suicidal.thought(no)            | suicidal.thought(yes)           | suicidal.thought(yes)           | suicidal.thought(no)            | suicidal.thought(no)            | suicidal.thought(yes)           | suicidal.thought(yes)           | suicidal.thought(no)            | suicidal.thought(no)            | suicidal.thought(yes)           | suicidal.thought(yes)           | suicidal.thought(no)             | suicidal.thought(no)             | suicidal.thought(yes)            | suicidal.thought(yes)            | suicidal.thought(no)             | suicidal.thought(no)             | suicidal.thought(yes)            | suicidal.thought(yes)            | suicidal.thought(no)             | suicidal.thought(no)             | suicidal.thought(yes)            | suicidal.thought(yes)            | suicidal.thought(no)             | suicidal.thought(no)             | suicidal.thought(yes)            | suicidal.thought(yes)            | suicidal.thought(no)             | suicidal.thought(no)             | suicidal.thought(yes)            | suicidal.thought(yes)            | suicidal.thought(no)             | suicidal.thought(no)             | suicidal.thought(yes)            | suicidal.thought(yes)            | suicidal.thought(no)             | suicidal.thought(no)             | suicidal.thought(yes)            | suicidal.thought(yes)            | suicidal.thought(no)             | suicidal.thought(no)             | suicidal.thought(yes)            | suicidal.thought(yes)            | suicidal.thought(no)            | suicidal.thought(no)            | suicidal.thought(yes)           | suicidal.thought(yes)           | suicidal.thought(no)            | suicidal.thought(no)            | suicidal.thought(yes)           | suicidal.thought(yes)           | suicidal.thought(no)            | suicidal.thought(no)            | suicidal.thought(yes)           | suicidal.thought(yes)           | suicidal.thought(no)            | suicidal.thought(no)            | suicidal.thought(yes)           | suicidal.thought(yes)           | suicidal.thought(no)            | suicidal.thought(no)            | suicidal.thought(yes)           | suicidal.thought(yes)           | suicidal.thought(no)            | suicidal.thought(no)            | suicidal.thought(yes)           | suicidal.thought(yes)           | suicidal.thought(no)            | suicidal.thought(no)            | suicidal.thought(yes)           | suicidal.thought(yes)           | suicidal.thought(no)            | suicidal.thought(no)            | suicidal.thought(yes)           | suicidal.thought(yes)           | suicidal.thought(no)             | suicidal.thought(no)             | suicidal.thought(yes)            | suicidal.thought(yes)            | suicidal.thought(no)             | suicidal.thought(no)             | suicidal.thought(yes)            | suicidal.thought(yes)            | suicidal.thought(no)             | suicidal.thought(no)             | suicidal.thought(yes)            | suicidal.thought(yes)            | suicidal.thought(no)             | suicidal.thought(no)             | suicidal.thought(yes)            | suicidal.thought(yes)            | suicidal.thought(no)             | suicidal.thought(no)             | suicidal.thought(yes)            | suicidal.thought(yes)            | suicidal.thought(no)             | suicidal.thought(no)             | suicidal.thought(yes)            | suicidal.thought(yes)            | suicidal.thought(no)             | suicidal.thought(no)             | suicidal.thought(yes)            | suicidal.thought(yes)            | suicidal.thought(no)             | suicidal.thought(no)             | suicidal.thought(yes)            | suicidal.thought(yes)            |\n",
      "+-----------------------------+---------------------------------+---------------------------------+---------------------------------+---------------------------------+---------------------------------+---------------------------------+---------------------------------+---------------------------------+---------------------------------+---------------------------------+---------------------------------+---------------------------------+---------------------------------+---------------------------------+---------------------------------+---------------------------------+---------------------------------+---------------------------------+---------------------------------+---------------------------------+---------------------------------+---------------------------------+---------------------------------+---------------------------------+---------------------------------+---------------------------------+---------------------------------+---------------------------------+---------------------------------+---------------------------------+---------------------------------+---------------------------------+----------------------------------+----------------------------------+----------------------------------+----------------------------------+----------------------------------+----------------------------------+----------------------------------+----------------------------------+----------------------------------+----------------------------------+----------------------------------+----------------------------------+----------------------------------+----------------------------------+----------------------------------+----------------------------------+----------------------------------+----------------------------------+----------------------------------+----------------------------------+----------------------------------+----------------------------------+----------------------------------+----------------------------------+----------------------------------+----------------------------------+----------------------------------+----------------------------------+----------------------------------+----------------------------------+----------------------------------+----------------------------------+---------------------------------+---------------------------------+---------------------------------+---------------------------------+---------------------------------+---------------------------------+---------------------------------+---------------------------------+---------------------------------+---------------------------------+---------------------------------+---------------------------------+---------------------------------+---------------------------------+---------------------------------+---------------------------------+---------------------------------+---------------------------------+---------------------------------+---------------------------------+---------------------------------+---------------------------------+---------------------------------+---------------------------------+---------------------------------+---------------------------------+---------------------------------+---------------------------------+---------------------------------+---------------------------------+---------------------------------+---------------------------------+----------------------------------+----------------------------------+----------------------------------+----------------------------------+----------------------------------+----------------------------------+----------------------------------+----------------------------------+----------------------------------+----------------------------------+----------------------------------+----------------------------------+----------------------------------+----------------------------------+----------------------------------+----------------------------------+----------------------------------+----------------------------------+----------------------------------+----------------------------------+----------------------------------+----------------------------------+----------------------------------+----------------------------------+----------------------------------+----------------------------------+----------------------------------+----------------------------------+----------------------------------+----------------------------------+----------------------------------+----------------------------------+\n",
      "| trouble.concentrating       | trouble.concentrating(no)       | trouble.concentrating(yes)      | trouble.concentrating(no)       | trouble.concentrating(yes)      | trouble.concentrating(no)       | trouble.concentrating(yes)      | trouble.concentrating(no)       | trouble.concentrating(yes)      | trouble.concentrating(no)       | trouble.concentrating(yes)      | trouble.concentrating(no)       | trouble.concentrating(yes)      | trouble.concentrating(no)       | trouble.concentrating(yes)      | trouble.concentrating(no)       | trouble.concentrating(yes)      | trouble.concentrating(no)       | trouble.concentrating(yes)      | trouble.concentrating(no)       | trouble.concentrating(yes)      | trouble.concentrating(no)       | trouble.concentrating(yes)      | trouble.concentrating(no)       | trouble.concentrating(yes)      | trouble.concentrating(no)       | trouble.concentrating(yes)      | trouble.concentrating(no)       | trouble.concentrating(yes)      | trouble.concentrating(no)       | trouble.concentrating(yes)      | trouble.concentrating(no)       | trouble.concentrating(yes)      | trouble.concentrating(no)        | trouble.concentrating(yes)       | trouble.concentrating(no)        | trouble.concentrating(yes)       | trouble.concentrating(no)        | trouble.concentrating(yes)       | trouble.concentrating(no)        | trouble.concentrating(yes)       | trouble.concentrating(no)        | trouble.concentrating(yes)       | trouble.concentrating(no)        | trouble.concentrating(yes)       | trouble.concentrating(no)        | trouble.concentrating(yes)       | trouble.concentrating(no)        | trouble.concentrating(yes)       | trouble.concentrating(no)        | trouble.concentrating(yes)       | trouble.concentrating(no)        | trouble.concentrating(yes)       | trouble.concentrating(no)        | trouble.concentrating(yes)       | trouble.concentrating(no)        | trouble.concentrating(yes)       | trouble.concentrating(no)        | trouble.concentrating(yes)       | trouble.concentrating(no)        | trouble.concentrating(yes)       | trouble.concentrating(no)        | trouble.concentrating(yes)       | trouble.concentrating(no)        | trouble.concentrating(yes)       | trouble.concentrating(no)       | trouble.concentrating(yes)      | trouble.concentrating(no)       | trouble.concentrating(yes)      | trouble.concentrating(no)       | trouble.concentrating(yes)      | trouble.concentrating(no)       | trouble.concentrating(yes)      | trouble.concentrating(no)       | trouble.concentrating(yes)      | trouble.concentrating(no)       | trouble.concentrating(yes)      | trouble.concentrating(no)       | trouble.concentrating(yes)      | trouble.concentrating(no)       | trouble.concentrating(yes)      | trouble.concentrating(no)       | trouble.concentrating(yes)      | trouble.concentrating(no)       | trouble.concentrating(yes)      | trouble.concentrating(no)       | trouble.concentrating(yes)      | trouble.concentrating(no)       | trouble.concentrating(yes)      | trouble.concentrating(no)       | trouble.concentrating(yes)      | trouble.concentrating(no)       | trouble.concentrating(yes)      | trouble.concentrating(no)       | trouble.concentrating(yes)      | trouble.concentrating(no)       | trouble.concentrating(yes)      | trouble.concentrating(no)        | trouble.concentrating(yes)       | trouble.concentrating(no)        | trouble.concentrating(yes)       | trouble.concentrating(no)        | trouble.concentrating(yes)       | trouble.concentrating(no)        | trouble.concentrating(yes)       | trouble.concentrating(no)        | trouble.concentrating(yes)       | trouble.concentrating(no)        | trouble.concentrating(yes)       | trouble.concentrating(no)        | trouble.concentrating(yes)       | trouble.concentrating(no)        | trouble.concentrating(yes)       | trouble.concentrating(no)        | trouble.concentrating(yes)       | trouble.concentrating(no)        | trouble.concentrating(yes)       | trouble.concentrating(no)        | trouble.concentrating(yes)       | trouble.concentrating(no)        | trouble.concentrating(yes)       | trouble.concentrating(no)        | trouble.concentrating(yes)       | trouble.concentrating(no)        | trouble.concentrating(yes)       | trouble.concentrating(no)        | trouble.concentrating(yes)       | trouble.concentrating(no)        | trouble.concentrating(yes)       |\n",
      "+-----------------------------+---------------------------------+---------------------------------+---------------------------------+---------------------------------+---------------------------------+---------------------------------+---------------------------------+---------------------------------+---------------------------------+---------------------------------+---------------------------------+---------------------------------+---------------------------------+---------------------------------+---------------------------------+---------------------------------+---------------------------------+---------------------------------+---------------------------------+---------------------------------+---------------------------------+---------------------------------+---------------------------------+---------------------------------+---------------------------------+---------------------------------+---------------------------------+---------------------------------+---------------------------------+---------------------------------+---------------------------------+---------------------------------+----------------------------------+----------------------------------+----------------------------------+----------------------------------+----------------------------------+----------------------------------+----------------------------------+----------------------------------+----------------------------------+----------------------------------+----------------------------------+----------------------------------+----------------------------------+----------------------------------+----------------------------------+----------------------------------+----------------------------------+----------------------------------+----------------------------------+----------------------------------+----------------------------------+----------------------------------+----------------------------------+----------------------------------+----------------------------------+----------------------------------+----------------------------------+----------------------------------+----------------------------------+----------------------------------+----------------------------------+----------------------------------+---------------------------------+---------------------------------+---------------------------------+---------------------------------+---------------------------------+---------------------------------+---------------------------------+---------------------------------+---------------------------------+---------------------------------+---------------------------------+---------------------------------+---------------------------------+---------------------------------+---------------------------------+---------------------------------+---------------------------------+---------------------------------+---------------------------------+---------------------------------+---------------------------------+---------------------------------+---------------------------------+---------------------------------+---------------------------------+---------------------------------+---------------------------------+---------------------------------+---------------------------------+---------------------------------+---------------------------------+---------------------------------+----------------------------------+----------------------------------+----------------------------------+----------------------------------+----------------------------------+----------------------------------+----------------------------------+----------------------------------+----------------------------------+----------------------------------+----------------------------------+----------------------------------+----------------------------------+----------------------------------+----------------------------------+----------------------------------+----------------------------------+----------------------------------+----------------------------------+----------------------------------+----------------------------------+----------------------------------+----------------------------------+----------------------------------+----------------------------------+----------------------------------+----------------------------------+----------------------------------+----------------------------------+----------------------------------+----------------------------------+----------------------------------+\n",
      "| Normal(no)                  | 0.0                             | 0.5                             | 0.5                             | 0.5                             | 1.0                             | 0.5                             | 0.5                             | 0.5                             | 0.5                             | 0.5                             | 0.5                             | 0.5                             | 0.5                             | 0.5                             | 0.5                             | 0.5                             | 1.0                             | 0.5                             | 0.5                             | 0.5                             | 0.5                             | 0.5                             | 0.5                             | 0.5                             | 0.5                             | 0.5                             | 0.5                             | 0.5                             | 0.5                             | 0.5                             | 0.5                             | 0.5                             | 0.5                              | 1.0                              | 0.5                              | 0.5                              | 0.5                              | 0.5                              | 0.5                              | 0.5                              | 0.5                              | 0.5                              | 0.5                              | 0.5                              | 0.5                              | 0.5                              | 0.5                              | 0.5                              | 0.5                              | 0.5                              | 0.5                              | 0.5                              | 0.5                              | 0.5                              | 0.5                              | 0.5                              | 0.5                              | 0.5                              | 0.5                              | 0.5                              | 0.5                              | 0.5                              | 0.5                              | 0.5                              | 0.5                             | 0.5                             | 0.5                             | 0.5                             | 0.5                             | 0.5                             | 0.5                             | 0.5                             | 0.5                             | 0.5                             | 1.0                             | 0.5                             | 0.5                             | 0.5                             | 0.5                             | 0.5                             | 0.5                             | 0.5                             | 0.5                             | 0.5                             | 0.5                             | 0.5                             | 0.5                             | 0.5                             | 0.5                             | 0.5                             | 0.5                             | 0.5                             | 0.5                             | 0.5                             | 0.5                             | 0.5                             | 0.5                              | 0.5                              | 0.5                              | 0.5                              | 0.5                              | 0.5                              | 0.5                              | 0.5                              | 0.5                              | 0.5                              | 0.5                              | 0.5                              | 0.5                              | 0.5                              | 0.5                              | 0.5                              | 0.5                              | 0.5                              | 0.5                              | 0.5                              | 0.5                              | 0.5                              | 0.5                              | 0.5                              | 0.5                              | 0.5                              | 0.5                              | 0.5                              | 0.5                              | 0.5                              | 0.5                              | 0.5                              |\n",
      "+-----------------------------+---------------------------------+---------------------------------+---------------------------------+---------------------------------+---------------------------------+---------------------------------+---------------------------------+---------------------------------+---------------------------------+---------------------------------+---------------------------------+---------------------------------+---------------------------------+---------------------------------+---------------------------------+---------------------------------+---------------------------------+---------------------------------+---------------------------------+---------------------------------+---------------------------------+---------------------------------+---------------------------------+---------------------------------+---------------------------------+---------------------------------+---------------------------------+---------------------------------+---------------------------------+---------------------------------+---------------------------------+---------------------------------+----------------------------------+----------------------------------+----------------------------------+----------------------------------+----------------------------------+----------------------------------+----------------------------------+----------------------------------+----------------------------------+----------------------------------+----------------------------------+----------------------------------+----------------------------------+----------------------------------+----------------------------------+----------------------------------+----------------------------------+----------------------------------+----------------------------------+----------------------------------+----------------------------------+----------------------------------+----------------------------------+----------------------------------+----------------------------------+----------------------------------+----------------------------------+----------------------------------+----------------------------------+----------------------------------+----------------------------------+----------------------------------+---------------------------------+---------------------------------+---------------------------------+---------------------------------+---------------------------------+---------------------------------+---------------------------------+---------------------------------+---------------------------------+---------------------------------+---------------------------------+---------------------------------+---------------------------------+---------------------------------+---------------------------------+---------------------------------+---------------------------------+---------------------------------+---------------------------------+---------------------------------+---------------------------------+---------------------------------+---------------------------------+---------------------------------+---------------------------------+---------------------------------+---------------------------------+---------------------------------+---------------------------------+---------------------------------+---------------------------------+---------------------------------+----------------------------------+----------------------------------+----------------------------------+----------------------------------+----------------------------------+----------------------------------+----------------------------------+----------------------------------+----------------------------------+----------------------------------+----------------------------------+----------------------------------+----------------------------------+----------------------------------+----------------------------------+----------------------------------+----------------------------------+----------------------------------+----------------------------------+----------------------------------+----------------------------------+----------------------------------+----------------------------------+----------------------------------+----------------------------------+----------------------------------+----------------------------------+----------------------------------+----------------------------------+----------------------------------+----------------------------------+----------------------------------+\n",
      "| Normal(yes)                 | 1.0                             | 0.5                             | 0.5                             | 0.5                             | 0.0                             | 0.5                             | 0.5                             | 0.5                             | 0.5                             | 0.5                             | 0.5                             | 0.5                             | 0.5                             | 0.5                             | 0.5                             | 0.5                             | 0.0                             | 0.5                             | 0.5                             | 0.5                             | 0.5                             | 0.5                             | 0.5                             | 0.5                             | 0.5                             | 0.5                             | 0.5                             | 0.5                             | 0.5                             | 0.5                             | 0.5                             | 0.5                             | 0.5                              | 0.0                              | 0.5                              | 0.5                              | 0.5                              | 0.5                              | 0.5                              | 0.5                              | 0.5                              | 0.5                              | 0.5                              | 0.5                              | 0.5                              | 0.5                              | 0.5                              | 0.5                              | 0.5                              | 0.5                              | 0.5                              | 0.5                              | 0.5                              | 0.5                              | 0.5                              | 0.5                              | 0.5                              | 0.5                              | 0.5                              | 0.5                              | 0.5                              | 0.5                              | 0.5                              | 0.5                              | 0.5                             | 0.5                             | 0.5                             | 0.5                             | 0.5                             | 0.5                             | 0.5                             | 0.5                             | 0.5                             | 0.5                             | 0.0                             | 0.5                             | 0.5                             | 0.5                             | 0.5                             | 0.5                             | 0.5                             | 0.5                             | 0.5                             | 0.5                             | 0.5                             | 0.5                             | 0.5                             | 0.5                             | 0.5                             | 0.5                             | 0.5                             | 0.5                             | 0.5                             | 0.5                             | 0.5                             | 0.5                             | 0.5                              | 0.5                              | 0.5                              | 0.5                              | 0.5                              | 0.5                              | 0.5                              | 0.5                              | 0.5                              | 0.5                              | 0.5                              | 0.5                              | 0.5                              | 0.5                              | 0.5                              | 0.5                              | 0.5                              | 0.5                              | 0.5                              | 0.5                              | 0.5                              | 0.5                              | 0.5                              | 0.5                              | 0.5                              | 0.5                              | 0.5                              | 0.5                              | 0.5                              | 0.5                              | 0.5                              | 0.5                              |\n",
      "+-----------------------------+---------------------------------+---------------------------------+---------------------------------+---------------------------------+---------------------------------+---------------------------------+---------------------------------+---------------------------------+---------------------------------+---------------------------------+---------------------------------+---------------------------------+---------------------------------+---------------------------------+---------------------------------+---------------------------------+---------------------------------+---------------------------------+---------------------------------+---------------------------------+---------------------------------+---------------------------------+---------------------------------+---------------------------------+---------------------------------+---------------------------------+---------------------------------+---------------------------------+---------------------------------+---------------------------------+---------------------------------+---------------------------------+----------------------------------+----------------------------------+----------------------------------+----------------------------------+----------------------------------+----------------------------------+----------------------------------+----------------------------------+----------------------------------+----------------------------------+----------------------------------+----------------------------------+----------------------------------+----------------------------------+----------------------------------+----------------------------------+----------------------------------+----------------------------------+----------------------------------+----------------------------------+----------------------------------+----------------------------------+----------------------------------+----------------------------------+----------------------------------+----------------------------------+----------------------------------+----------------------------------+----------------------------------+----------------------------------+----------------------------------+----------------------------------+---------------------------------+---------------------------------+---------------------------------+---------------------------------+---------------------------------+---------------------------------+---------------------------------+---------------------------------+---------------------------------+---------------------------------+---------------------------------+---------------------------------+---------------------------------+---------------------------------+---------------------------------+---------------------------------+---------------------------------+---------------------------------+---------------------------------+---------------------------------+---------------------------------+---------------------------------+---------------------------------+---------------------------------+---------------------------------+---------------------------------+---------------------------------+---------------------------------+---------------------------------+---------------------------------+---------------------------------+---------------------------------+----------------------------------+----------------------------------+----------------------------------+----------------------------------+----------------------------------+----------------------------------+----------------------------------+----------------------------------+----------------------------------+----------------------------------+----------------------------------+----------------------------------+----------------------------------+----------------------------------+----------------------------------+----------------------------------+----------------------------------+----------------------------------+----------------------------------+----------------------------------+----------------------------------+----------------------------------+----------------------------------+----------------------------------+----------------------------------+----------------------------------+----------------------------------+----------------------------------+----------------------------------+----------------------------------+----------------------------------+----------------------------------+\n",
      "+-----------------------------+---------------------------------+---------------------------------+---------------------------------+---------------------------------+---------------------------------+---------------------------------+---------------------------------+---------------------------------+---------------------------------+---------------------------------+---------------------------------+---------------------------------+---------------------------------+---------------------------------+---------------------------------+---------------------------------+---------------------------------+---------------------------------+---------------------------------+---------------------------------+---------------------------------+---------------------------------+---------------------------------+---------------------------------+---------------------------------+---------------------------------+---------------------------------+---------------------------------+---------------------------------+---------------------------------+---------------------------------+---------------------------------+----------------------------------+----------------------------------+----------------------------------+----------------------------------+----------------------------------+----------------------------------+----------------------------------+----------------------------------+----------------------------------+----------------------------------+----------------------------------+----------------------------------+----------------------------------+----------------------------------+----------------------------------+----------------------------------+----------------------------------+----------------------------------+----------------------------------+----------------------------------+----------------------------------+----------------------------------+----------------------------------+----------------------------------+----------------------------------+----------------------------------+----------------------------------+----------------------------------+----------------------------------+----------------------------------+----------------------------------+----------------------------------+---------------------------------+---------------------------------+---------------------------------+---------------------------------+---------------------------------+---------------------------------+---------------------------------+---------------------------------+---------------------------------+---------------------------------+---------------------------------+---------------------------------+---------------------------------+---------------------------------+---------------------------------+---------------------------------+---------------------------------+---------------------------------+---------------------------------+---------------------------------+---------------------------------+---------------------------------+---------------------------------+---------------------------------+---------------------------------+---------------------------------+---------------------------------+---------------------------------+---------------------------------+---------------------------------+---------------------------------+---------------------------------+----------------------------------+----------------------------------+----------------------------------+----------------------------------+----------------------------------+----------------------------------+----------------------------------+----------------------------------+----------------------------------+----------------------------------+----------------------------------+----------------------------------+----------------------------------+----------------------------------+----------------------------------+----------------------------------+----------------------------------+----------------------------------+----------------------------------+----------------------------------+----------------------------------+----------------------------------+----------------------------------+----------------------------------+----------------------------------+----------------------------------+----------------------------------+----------------------------------+----------------------------------+----------------------------------+----------------------------------+----------------------------------+\n",
      "| anger                       | anger(no)                       | anger(no)                       | anger(no)                       | anger(no)                       | anger(no)                       | anger(no)                       | anger(no)                       | anger(no)                       | anger(no)                       | anger(no)                       | anger(no)                       | anger(no)                       | anger(no)                       | anger(no)                       | anger(no)                       | anger(no)                       | anger(no)                       | anger(no)                       | anger(no)                       | anger(no)                       | anger(no)                       | anger(no)                       | anger(no)                       | anger(no)                       | anger(no)                       | anger(no)                       | anger(no)                       | anger(no)                       | anger(no)                       | anger(no)                       | anger(no)                       | anger(no)                       | anger(no)                        | anger(no)                        | anger(no)                        | anger(no)                        | anger(no)                        | anger(no)                        | anger(no)                        | anger(no)                        | anger(no)                        | anger(no)                        | anger(no)                        | anger(no)                        | anger(no)                        | anger(no)                        | anger(no)                        | anger(no)                        | anger(no)                        | anger(no)                        | anger(no)                        | anger(no)                        | anger(no)                        | anger(no)                        | anger(no)                        | anger(no)                        | anger(no)                        | anger(no)                        | anger(no)                        | anger(no)                        | anger(no)                        | anger(no)                        | anger(no)                        | anger(no)                        | anger(yes)                      | anger(yes)                      | anger(yes)                      | anger(yes)                      | anger(yes)                      | anger(yes)                      | anger(yes)                      | anger(yes)                      | anger(yes)                      | anger(yes)                      | anger(yes)                      | anger(yes)                      | anger(yes)                      | anger(yes)                      | anger(yes)                      | anger(yes)                      | anger(yes)                      | anger(yes)                      | anger(yes)                      | anger(yes)                      | anger(yes)                      | anger(yes)                      | anger(yes)                      | anger(yes)                      | anger(yes)                      | anger(yes)                      | anger(yes)                      | anger(yes)                      | anger(yes)                      | anger(yes)                      | anger(yes)                      | anger(yes)                      | anger(yes)                       | anger(yes)                       | anger(yes)                       | anger(yes)                       | anger(yes)                       | anger(yes)                       | anger(yes)                       | anger(yes)                       | anger(yes)                       | anger(yes)                       | anger(yes)                       | anger(yes)                       | anger(yes)                       | anger(yes)                       | anger(yes)                       | anger(yes)                       | anger(yes)                       | anger(yes)                       | anger(yes)                       | anger(yes)                       | anger(yes)                       | anger(yes)                       | anger(yes)                       | anger(yes)                       | anger(yes)                       | anger(yes)                       | anger(yes)                       | anger(yes)                       | anger(yes)                       | anger(yes)                       | anger(yes)                       | anger(yes)                       |\n",
      "+-----------------------------+---------------------------------+---------------------------------+---------------------------------+---------------------------------+---------------------------------+---------------------------------+---------------------------------+---------------------------------+---------------------------------+---------------------------------+---------------------------------+---------------------------------+---------------------------------+---------------------------------+---------------------------------+---------------------------------+---------------------------------+---------------------------------+---------------------------------+---------------------------------+---------------------------------+---------------------------------+---------------------------------+---------------------------------+---------------------------------+---------------------------------+---------------------------------+---------------------------------+---------------------------------+---------------------------------+---------------------------------+---------------------------------+----------------------------------+----------------------------------+----------------------------------+----------------------------------+----------------------------------+----------------------------------+----------------------------------+----------------------------------+----------------------------------+----------------------------------+----------------------------------+----------------------------------+----------------------------------+----------------------------------+----------------------------------+----------------------------------+----------------------------------+----------------------------------+----------------------------------+----------------------------------+----------------------------------+----------------------------------+----------------------------------+----------------------------------+----------------------------------+----------------------------------+----------------------------------+----------------------------------+----------------------------------+----------------------------------+----------------------------------+----------------------------------+---------------------------------+---------------------------------+---------------------------------+---------------------------------+---------------------------------+---------------------------------+---------------------------------+---------------------------------+---------------------------------+---------------------------------+---------------------------------+---------------------------------+---------------------------------+---------------------------------+---------------------------------+---------------------------------+---------------------------------+---------------------------------+---------------------------------+---------------------------------+---------------------------------+---------------------------------+---------------------------------+---------------------------------+---------------------------------+---------------------------------+---------------------------------+---------------------------------+---------------------------------+---------------------------------+---------------------------------+---------------------------------+----------------------------------+----------------------------------+----------------------------------+----------------------------------+----------------------------------+----------------------------------+----------------------------------+----------------------------------+----------------------------------+----------------------------------+----------------------------------+----------------------------------+----------------------------------+----------------------------------+----------------------------------+----------------------------------+----------------------------------+----------------------------------+----------------------------------+----------------------------------+----------------------------------+----------------------------------+----------------------------------+----------------------------------+----------------------------------+----------------------------------+----------------------------------+----------------------------------+----------------------------------+----------------------------------+----------------------------------+----------------------------------+\n",
      "| avoids.people.or.activities | avoids.people.or.activities(no) | avoids.people.or.activities(no) | avoids.people.or.activities(no) | avoids.people.or.activities(no) | avoids.people.or.activities(no) | avoids.people.or.activities(no) | avoids.people.or.activities(no) | avoids.people.or.activities(no) | avoids.people.or.activities(no) | avoids.people.or.activities(no) | avoids.people.or.activities(no) | avoids.people.or.activities(no) | avoids.people.or.activities(no) | avoids.people.or.activities(no) | avoids.people.or.activities(no) | avoids.people.or.activities(no) | avoids.people.or.activities(no) | avoids.people.or.activities(no) | avoids.people.or.activities(no) | avoids.people.or.activities(no) | avoids.people.or.activities(no) | avoids.people.or.activities(no) | avoids.people.or.activities(no) | avoids.people.or.activities(no) | avoids.people.or.activities(no) | avoids.people.or.activities(no) | avoids.people.or.activities(no) | avoids.people.or.activities(no) | avoids.people.or.activities(no) | avoids.people.or.activities(no) | avoids.people.or.activities(no) | avoids.people.or.activities(no) | avoids.people.or.activities(yes) | avoids.people.or.activities(yes) | avoids.people.or.activities(yes) | avoids.people.or.activities(yes) | avoids.people.or.activities(yes) | avoids.people.or.activities(yes) | avoids.people.or.activities(yes) | avoids.people.or.activities(yes) | avoids.people.or.activities(yes) | avoids.people.or.activities(yes) | avoids.people.or.activities(yes) | avoids.people.or.activities(yes) | avoids.people.or.activities(yes) | avoids.people.or.activities(yes) | avoids.people.or.activities(yes) | avoids.people.or.activities(yes) | avoids.people.or.activities(yes) | avoids.people.or.activities(yes) | avoids.people.or.activities(yes) | avoids.people.or.activities(yes) | avoids.people.or.activities(yes) | avoids.people.or.activities(yes) | avoids.people.or.activities(yes) | avoids.people.or.activities(yes) | avoids.people.or.activities(yes) | avoids.people.or.activities(yes) | avoids.people.or.activities(yes) | avoids.people.or.activities(yes) | avoids.people.or.activities(yes) | avoids.people.or.activities(yes) | avoids.people.or.activities(yes) | avoids.people.or.activities(yes) | avoids.people.or.activities(no) | avoids.people.or.activities(no) | avoids.people.or.activities(no) | avoids.people.or.activities(no) | avoids.people.or.activities(no) | avoids.people.or.activities(no) | avoids.people.or.activities(no) | avoids.people.or.activities(no) | avoids.people.or.activities(no) | avoids.people.or.activities(no) | avoids.people.or.activities(no) | avoids.people.or.activities(no) | avoids.people.or.activities(no) | avoids.people.or.activities(no) | avoids.people.or.activities(no) | avoids.people.or.activities(no) | avoids.people.or.activities(no) | avoids.people.or.activities(no) | avoids.people.or.activities(no) | avoids.people.or.activities(no) | avoids.people.or.activities(no) | avoids.people.or.activities(no) | avoids.people.or.activities(no) | avoids.people.or.activities(no) | avoids.people.or.activities(no) | avoids.people.or.activities(no) | avoids.people.or.activities(no) | avoids.people.or.activities(no) | avoids.people.or.activities(no) | avoids.people.or.activities(no) | avoids.people.or.activities(no) | avoids.people.or.activities(no) | avoids.people.or.activities(yes) | avoids.people.or.activities(yes) | avoids.people.or.activities(yes) | avoids.people.or.activities(yes) | avoids.people.or.activities(yes) | avoids.people.or.activities(yes) | avoids.people.or.activities(yes) | avoids.people.or.activities(yes) | avoids.people.or.activities(yes) | avoids.people.or.activities(yes) | avoids.people.or.activities(yes) | avoids.people.or.activities(yes) | avoids.people.or.activities(yes) | avoids.people.or.activities(yes) | avoids.people.or.activities(yes) | avoids.people.or.activities(yes) | avoids.people.or.activities(yes) | avoids.people.or.activities(yes) | avoids.people.or.activities(yes) | avoids.people.or.activities(yes) | avoids.people.or.activities(yes) | avoids.people.or.activities(yes) | avoids.people.or.activities(yes) | avoids.people.or.activities(yes) | avoids.people.or.activities(yes) | avoids.people.or.activities(yes) | avoids.people.or.activities(yes) | avoids.people.or.activities(yes) | avoids.people.or.activities(yes) | avoids.people.or.activities(yes) | avoids.people.or.activities(yes) | avoids.people.or.activities(yes) |\n",
      "+-----------------------------+---------------------------------+---------------------------------+---------------------------------+---------------------------------+---------------------------------+---------------------------------+---------------------------------+---------------------------------+---------------------------------+---------------------------------+---------------------------------+---------------------------------+---------------------------------+---------------------------------+---------------------------------+---------------------------------+---------------------------------+---------------------------------+---------------------------------+---------------------------------+---------------------------------+---------------------------------+---------------------------------+---------------------------------+---------------------------------+---------------------------------+---------------------------------+---------------------------------+---------------------------------+---------------------------------+---------------------------------+---------------------------------+----------------------------------+----------------------------------+----------------------------------+----------------------------------+----------------------------------+----------------------------------+----------------------------------+----------------------------------+----------------------------------+----------------------------------+----------------------------------+----------------------------------+----------------------------------+----------------------------------+----------------------------------+----------------------------------+----------------------------------+----------------------------------+----------------------------------+----------------------------------+----------------------------------+----------------------------------+----------------------------------+----------------------------------+----------------------------------+----------------------------------+----------------------------------+----------------------------------+----------------------------------+----------------------------------+----------------------------------+----------------------------------+---------------------------------+---------------------------------+---------------------------------+---------------------------------+---------------------------------+---------------------------------+---------------------------------+---------------------------------+---------------------------------+---------------------------------+---------------------------------+---------------------------------+---------------------------------+---------------------------------+---------------------------------+---------------------------------+---------------------------------+---------------------------------+---------------------------------+---------------------------------+---------------------------------+---------------------------------+---------------------------------+---------------------------------+---------------------------------+---------------------------------+---------------------------------+---------------------------------+---------------------------------+---------------------------------+---------------------------------+---------------------------------+----------------------------------+----------------------------------+----------------------------------+----------------------------------+----------------------------------+----------------------------------+----------------------------------+----------------------------------+----------------------------------+----------------------------------+----------------------------------+----------------------------------+----------------------------------+----------------------------------+----------------------------------+----------------------------------+----------------------------------+----------------------------------+----------------------------------+----------------------------------+----------------------------------+----------------------------------+----------------------------------+----------------------------------+----------------------------------+----------------------------------+----------------------------------+----------------------------------+----------------------------------+----------------------------------+----------------------------------+----------------------------------+\n",
      "| feeling.tired               | feeling.tired(no)               | feeling.tired(no)               | feeling.tired(no)               | feeling.tired(no)               | feeling.tired(no)               | feeling.tired(no)               | feeling.tired(no)               | feeling.tired(no)               | feeling.tired(no)               | feeling.tired(no)               | feeling.tired(no)               | feeling.tired(no)               | feeling.tired(no)               | feeling.tired(no)               | feeling.tired(no)               | feeling.tired(no)               | feeling.tired(yes)              | feeling.tired(yes)              | feeling.tired(yes)              | feeling.tired(yes)              | feeling.tired(yes)              | feeling.tired(yes)              | feeling.tired(yes)              | feeling.tired(yes)              | feeling.tired(yes)              | feeling.tired(yes)              | feeling.tired(yes)              | feeling.tired(yes)              | feeling.tired(yes)              | feeling.tired(yes)              | feeling.tired(yes)              | feeling.tired(yes)              | feeling.tired(no)                | feeling.tired(no)                | feeling.tired(no)                | feeling.tired(no)                | feeling.tired(no)                | feeling.tired(no)                | feeling.tired(no)                | feeling.tired(no)                | feeling.tired(no)                | feeling.tired(no)                | feeling.tired(no)                | feeling.tired(no)                | feeling.tired(no)                | feeling.tired(no)                | feeling.tired(no)                | feeling.tired(no)                | feeling.tired(yes)               | feeling.tired(yes)               | feeling.tired(yes)               | feeling.tired(yes)               | feeling.tired(yes)               | feeling.tired(yes)               | feeling.tired(yes)               | feeling.tired(yes)               | feeling.tired(yes)               | feeling.tired(yes)               | feeling.tired(yes)               | feeling.tired(yes)               | feeling.tired(yes)               | feeling.tired(yes)               | feeling.tired(yes)               | feeling.tired(yes)               | feeling.tired(no)               | feeling.tired(no)               | feeling.tired(no)               | feeling.tired(no)               | feeling.tired(no)               | feeling.tired(no)               | feeling.tired(no)               | feeling.tired(no)               | feeling.tired(no)               | feeling.tired(no)               | feeling.tired(no)               | feeling.tired(no)               | feeling.tired(no)               | feeling.tired(no)               | feeling.tired(no)               | feeling.tired(no)               | feeling.tired(yes)              | feeling.tired(yes)              | feeling.tired(yes)              | feeling.tired(yes)              | feeling.tired(yes)              | feeling.tired(yes)              | feeling.tired(yes)              | feeling.tired(yes)              | feeling.tired(yes)              | feeling.tired(yes)              | feeling.tired(yes)              | feeling.tired(yes)              | feeling.tired(yes)              | feeling.tired(yes)              | feeling.tired(yes)              | feeling.tired(yes)              | feeling.tired(no)                | feeling.tired(no)                | feeling.tired(no)                | feeling.tired(no)                | feeling.tired(no)                | feeling.tired(no)                | feeling.tired(no)                | feeling.tired(no)                | feeling.tired(no)                | feeling.tired(no)                | feeling.tired(no)                | feeling.tired(no)                | feeling.tired(no)                | feeling.tired(no)                | feeling.tired(no)                | feeling.tired(no)                | feeling.tired(yes)               | feeling.tired(yes)               | feeling.tired(yes)               | feeling.tired(yes)               | feeling.tired(yes)               | feeling.tired(yes)               | feeling.tired(yes)               | feeling.tired(yes)               | feeling.tired(yes)               | feeling.tired(yes)               | feeling.tired(yes)               | feeling.tired(yes)               | feeling.tired(yes)               | feeling.tired(yes)               | feeling.tired(yes)               | feeling.tired(yes)               |\n",
      "+-----------------------------+---------------------------------+---------------------------------+---------------------------------+---------------------------------+---------------------------------+---------------------------------+---------------------------------+---------------------------------+---------------------------------+---------------------------------+---------------------------------+---------------------------------+---------------------------------+---------------------------------+---------------------------------+---------------------------------+---------------------------------+---------------------------------+---------------------------------+---------------------------------+---------------------------------+---------------------------------+---------------------------------+---------------------------------+---------------------------------+---------------------------------+---------------------------------+---------------------------------+---------------------------------+---------------------------------+---------------------------------+---------------------------------+----------------------------------+----------------------------------+----------------------------------+----------------------------------+----------------------------------+----------------------------------+----------------------------------+----------------------------------+----------------------------------+----------------------------------+----------------------------------+----------------------------------+----------------------------------+----------------------------------+----------------------------------+----------------------------------+----------------------------------+----------------------------------+----------------------------------+----------------------------------+----------------------------------+----------------------------------+----------------------------------+----------------------------------+----------------------------------+----------------------------------+----------------------------------+----------------------------------+----------------------------------+----------------------------------+----------------------------------+----------------------------------+---------------------------------+---------------------------------+---------------------------------+---------------------------------+---------------------------------+---------------------------------+---------------------------------+---------------------------------+---------------------------------+---------------------------------+---------------------------------+---------------------------------+---------------------------------+---------------------------------+---------------------------------+---------------------------------+---------------------------------+---------------------------------+---------------------------------+---------------------------------+---------------------------------+---------------------------------+---------------------------------+---------------------------------+---------------------------------+---------------------------------+---------------------------------+---------------------------------+---------------------------------+---------------------------------+---------------------------------+---------------------------------+----------------------------------+----------------------------------+----------------------------------+----------------------------------+----------------------------------+----------------------------------+----------------------------------+----------------------------------+----------------------------------+----------------------------------+----------------------------------+----------------------------------+----------------------------------+----------------------------------+----------------------------------+----------------------------------+----------------------------------+----------------------------------+----------------------------------+----------------------------------+----------------------------------+----------------------------------+----------------------------------+----------------------------------+----------------------------------+----------------------------------+----------------------------------+----------------------------------+----------------------------------+----------------------------------+----------------------------------+----------------------------------+\n",
      "| hopelessness                | hopelessness(no)                | hopelessness(no)                | hopelessness(no)                | hopelessness(no)                | hopelessness(no)                | hopelessness(no)                | hopelessness(no)                | hopelessness(no)                | hopelessness(yes)               | hopelessness(yes)               | hopelessness(yes)               | hopelessness(yes)               | hopelessness(yes)               | hopelessness(yes)               | hopelessness(yes)               | hopelessness(yes)               | hopelessness(no)                | hopelessness(no)                | hopelessness(no)                | hopelessness(no)                | hopelessness(no)                | hopelessness(no)                | hopelessness(no)                | hopelessness(no)                | hopelessness(yes)               | hopelessness(yes)               | hopelessness(yes)               | hopelessness(yes)               | hopelessness(yes)               | hopelessness(yes)               | hopelessness(yes)               | hopelessness(yes)               | hopelessness(no)                 | hopelessness(no)                 | hopelessness(no)                 | hopelessness(no)                 | hopelessness(no)                 | hopelessness(no)                 | hopelessness(no)                 | hopelessness(no)                 | hopelessness(yes)                | hopelessness(yes)                | hopelessness(yes)                | hopelessness(yes)                | hopelessness(yes)                | hopelessness(yes)                | hopelessness(yes)                | hopelessness(yes)                | hopelessness(no)                 | hopelessness(no)                 | hopelessness(no)                 | hopelessness(no)                 | hopelessness(no)                 | hopelessness(no)                 | hopelessness(no)                 | hopelessness(no)                 | hopelessness(yes)                | hopelessness(yes)                | hopelessness(yes)                | hopelessness(yes)                | hopelessness(yes)                | hopelessness(yes)                | hopelessness(yes)                | hopelessness(yes)                | hopelessness(no)                | hopelessness(no)                | hopelessness(no)                | hopelessness(no)                | hopelessness(no)                | hopelessness(no)                | hopelessness(no)                | hopelessness(no)                | hopelessness(yes)               | hopelessness(yes)               | hopelessness(yes)               | hopelessness(yes)               | hopelessness(yes)               | hopelessness(yes)               | hopelessness(yes)               | hopelessness(yes)               | hopelessness(no)                | hopelessness(no)                | hopelessness(no)                | hopelessness(no)                | hopelessness(no)                | hopelessness(no)                | hopelessness(no)                | hopelessness(no)                | hopelessness(yes)               | hopelessness(yes)               | hopelessness(yes)               | hopelessness(yes)               | hopelessness(yes)               | hopelessness(yes)               | hopelessness(yes)               | hopelessness(yes)               | hopelessness(no)                 | hopelessness(no)                 | hopelessness(no)                 | hopelessness(no)                 | hopelessness(no)                 | hopelessness(no)                 | hopelessness(no)                 | hopelessness(no)                 | hopelessness(yes)                | hopelessness(yes)                | hopelessness(yes)                | hopelessness(yes)                | hopelessness(yes)                | hopelessness(yes)                | hopelessness(yes)                | hopelessness(yes)                | hopelessness(no)                 | hopelessness(no)                 | hopelessness(no)                 | hopelessness(no)                 | hopelessness(no)                 | hopelessness(no)                 | hopelessness(no)                 | hopelessness(no)                 | hopelessness(yes)                | hopelessness(yes)                | hopelessness(yes)                | hopelessness(yes)                | hopelessness(yes)                | hopelessness(yes)                | hopelessness(yes)                | hopelessness(yes)                |\n",
      "+-----------------------------+---------------------------------+---------------------------------+---------------------------------+---------------------------------+---------------------------------+---------------------------------+---------------------------------+---------------------------------+---------------------------------+---------------------------------+---------------------------------+---------------------------------+---------------------------------+---------------------------------+---------------------------------+---------------------------------+---------------------------------+---------------------------------+---------------------------------+---------------------------------+---------------------------------+---------------------------------+---------------------------------+---------------------------------+---------------------------------+---------------------------------+---------------------------------+---------------------------------+---------------------------------+---------------------------------+---------------------------------+---------------------------------+----------------------------------+----------------------------------+----------------------------------+----------------------------------+----------------------------------+----------------------------------+----------------------------------+----------------------------------+----------------------------------+----------------------------------+----------------------------------+----------------------------------+----------------------------------+----------------------------------+----------------------------------+----------------------------------+----------------------------------+----------------------------------+----------------------------------+----------------------------------+----------------------------------+----------------------------------+----------------------------------+----------------------------------+----------------------------------+----------------------------------+----------------------------------+----------------------------------+----------------------------------+----------------------------------+----------------------------------+----------------------------------+---------------------------------+---------------------------------+---------------------------------+---------------------------------+---------------------------------+---------------------------------+---------------------------------+---------------------------------+---------------------------------+---------------------------------+---------------------------------+---------------------------------+---------------------------------+---------------------------------+---------------------------------+---------------------------------+---------------------------------+---------------------------------+---------------------------------+---------------------------------+---------------------------------+---------------------------------+---------------------------------+---------------------------------+---------------------------------+---------------------------------+---------------------------------+---------------------------------+---------------------------------+---------------------------------+---------------------------------+---------------------------------+----------------------------------+----------------------------------+----------------------------------+----------------------------------+----------------------------------+----------------------------------+----------------------------------+----------------------------------+----------------------------------+----------------------------------+----------------------------------+----------------------------------+----------------------------------+----------------------------------+----------------------------------+----------------------------------+----------------------------------+----------------------------------+----------------------------------+----------------------------------+----------------------------------+----------------------------------+----------------------------------+----------------------------------+----------------------------------+----------------------------------+----------------------------------+----------------------------------+----------------------------------+----------------------------------+----------------------------------+----------------------------------+\n",
      "| panic                       | panic(no)                       | panic(no)                       | panic(no)                       | panic(no)                       | panic(yes)                      | panic(yes)                      | panic(yes)                      | panic(yes)                      | panic(no)                       | panic(no)                       | panic(no)                       | panic(no)                       | panic(yes)                      | panic(yes)                      | panic(yes)                      | panic(yes)                      | panic(no)                       | panic(no)                       | panic(no)                       | panic(no)                       | panic(yes)                      | panic(yes)                      | panic(yes)                      | panic(yes)                      | panic(no)                       | panic(no)                       | panic(no)                       | panic(no)                       | panic(yes)                      | panic(yes)                      | panic(yes)                      | panic(yes)                      | panic(no)                        | panic(no)                        | panic(no)                        | panic(no)                        | panic(yes)                       | panic(yes)                       | panic(yes)                       | panic(yes)                       | panic(no)                        | panic(no)                        | panic(no)                        | panic(no)                        | panic(yes)                       | panic(yes)                       | panic(yes)                       | panic(yes)                       | panic(no)                        | panic(no)                        | panic(no)                        | panic(no)                        | panic(yes)                       | panic(yes)                       | panic(yes)                       | panic(yes)                       | panic(no)                        | panic(no)                        | panic(no)                        | panic(no)                        | panic(yes)                       | panic(yes)                       | panic(yes)                       | panic(yes)                       | panic(no)                       | panic(no)                       | panic(no)                       | panic(no)                       | panic(yes)                      | panic(yes)                      | panic(yes)                      | panic(yes)                      | panic(no)                       | panic(no)                       | panic(no)                       | panic(no)                       | panic(yes)                      | panic(yes)                      | panic(yes)                      | panic(yes)                      | panic(no)                       | panic(no)                       | panic(no)                       | panic(no)                       | panic(yes)                      | panic(yes)                      | panic(yes)                      | panic(yes)                      | panic(no)                       | panic(no)                       | panic(no)                       | panic(no)                       | panic(yes)                      | panic(yes)                      | panic(yes)                      | panic(yes)                      | panic(no)                        | panic(no)                        | panic(no)                        | panic(no)                        | panic(yes)                       | panic(yes)                       | panic(yes)                       | panic(yes)                       | panic(no)                        | panic(no)                        | panic(no)                        | panic(no)                        | panic(yes)                       | panic(yes)                       | panic(yes)                       | panic(yes)                       | panic(no)                        | panic(no)                        | panic(no)                        | panic(no)                        | panic(yes)                       | panic(yes)                       | panic(yes)                       | panic(yes)                       | panic(no)                        | panic(no)                        | panic(no)                        | panic(no)                        | panic(yes)                       | panic(yes)                       | panic(yes)                       | panic(yes)                       |\n",
      "+-----------------------------+---------------------------------+---------------------------------+---------------------------------+---------------------------------+---------------------------------+---------------------------------+---------------------------------+---------------------------------+---------------------------------+---------------------------------+---------------------------------+---------------------------------+---------------------------------+---------------------------------+---------------------------------+---------------------------------+---------------------------------+---------------------------------+---------------------------------+---------------------------------+---------------------------------+---------------------------------+---------------------------------+---------------------------------+---------------------------------+---------------------------------+---------------------------------+---------------------------------+---------------------------------+---------------------------------+---------------------------------+---------------------------------+----------------------------------+----------------------------------+----------------------------------+----------------------------------+----------------------------------+----------------------------------+----------------------------------+----------------------------------+----------------------------------+----------------------------------+----------------------------------+----------------------------------+----------------------------------+----------------------------------+----------------------------------+----------------------------------+----------------------------------+----------------------------------+----------------------------------+----------------------------------+----------------------------------+----------------------------------+----------------------------------+----------------------------------+----------------------------------+----------------------------------+----------------------------------+----------------------------------+----------------------------------+----------------------------------+----------------------------------+----------------------------------+---------------------------------+---------------------------------+---------------------------------+---------------------------------+---------------------------------+---------------------------------+---------------------------------+---------------------------------+---------------------------------+---------------------------------+---------------------------------+---------------------------------+---------------------------------+---------------------------------+---------------------------------+---------------------------------+---------------------------------+---------------------------------+---------------------------------+---------------------------------+---------------------------------+---------------------------------+---------------------------------+---------------------------------+---------------------------------+---------------------------------+---------------------------------+---------------------------------+---------------------------------+---------------------------------+---------------------------------+---------------------------------+----------------------------------+----------------------------------+----------------------------------+----------------------------------+----------------------------------+----------------------------------+----------------------------------+----------------------------------+----------------------------------+----------------------------------+----------------------------------+----------------------------------+----------------------------------+----------------------------------+----------------------------------+----------------------------------+----------------------------------+----------------------------------+----------------------------------+----------------------------------+----------------------------------+----------------------------------+----------------------------------+----------------------------------+----------------------------------+----------------------------------+----------------------------------+----------------------------------+----------------------------------+----------------------------------+----------------------------------+----------------------------------+\n",
      "| suicidal.thought            | suicidal.thought(no)            | suicidal.thought(no)            | suicidal.thought(yes)           | suicidal.thought(yes)           | suicidal.thought(no)            | suicidal.thought(no)            | suicidal.thought(yes)           | suicidal.thought(yes)           | suicidal.thought(no)            | suicidal.thought(no)            | suicidal.thought(yes)           | suicidal.thought(yes)           | suicidal.thought(no)            | suicidal.thought(no)            | suicidal.thought(yes)           | suicidal.thought(yes)           | suicidal.thought(no)            | suicidal.thought(no)            | suicidal.thought(yes)           | suicidal.thought(yes)           | suicidal.thought(no)            | suicidal.thought(no)            | suicidal.thought(yes)           | suicidal.thought(yes)           | suicidal.thought(no)            | suicidal.thought(no)            | suicidal.thought(yes)           | suicidal.thought(yes)           | suicidal.thought(no)            | suicidal.thought(no)            | suicidal.thought(yes)           | suicidal.thought(yes)           | suicidal.thought(no)             | suicidal.thought(no)             | suicidal.thought(yes)            | suicidal.thought(yes)            | suicidal.thought(no)             | suicidal.thought(no)             | suicidal.thought(yes)            | suicidal.thought(yes)            | suicidal.thought(no)             | suicidal.thought(no)             | suicidal.thought(yes)            | suicidal.thought(yes)            | suicidal.thought(no)             | suicidal.thought(no)             | suicidal.thought(yes)            | suicidal.thought(yes)            | suicidal.thought(no)             | suicidal.thought(no)             | suicidal.thought(yes)            | suicidal.thought(yes)            | suicidal.thought(no)             | suicidal.thought(no)             | suicidal.thought(yes)            | suicidal.thought(yes)            | suicidal.thought(no)             | suicidal.thought(no)             | suicidal.thought(yes)            | suicidal.thought(yes)            | suicidal.thought(no)             | suicidal.thought(no)             | suicidal.thought(yes)            | suicidal.thought(yes)            | suicidal.thought(no)            | suicidal.thought(no)            | suicidal.thought(yes)           | suicidal.thought(yes)           | suicidal.thought(no)            | suicidal.thought(no)            | suicidal.thought(yes)           | suicidal.thought(yes)           | suicidal.thought(no)            | suicidal.thought(no)            | suicidal.thought(yes)           | suicidal.thought(yes)           | suicidal.thought(no)            | suicidal.thought(no)            | suicidal.thought(yes)           | suicidal.thought(yes)           | suicidal.thought(no)            | suicidal.thought(no)            | suicidal.thought(yes)           | suicidal.thought(yes)           | suicidal.thought(no)            | suicidal.thought(no)            | suicidal.thought(yes)           | suicidal.thought(yes)           | suicidal.thought(no)            | suicidal.thought(no)            | suicidal.thought(yes)           | suicidal.thought(yes)           | suicidal.thought(no)            | suicidal.thought(no)            | suicidal.thought(yes)           | suicidal.thought(yes)           | suicidal.thought(no)             | suicidal.thought(no)             | suicidal.thought(yes)            | suicidal.thought(yes)            | suicidal.thought(no)             | suicidal.thought(no)             | suicidal.thought(yes)            | suicidal.thought(yes)            | suicidal.thought(no)             | suicidal.thought(no)             | suicidal.thought(yes)            | suicidal.thought(yes)            | suicidal.thought(no)             | suicidal.thought(no)             | suicidal.thought(yes)            | suicidal.thought(yes)            | suicidal.thought(no)             | suicidal.thought(no)             | suicidal.thought(yes)            | suicidal.thought(yes)            | suicidal.thought(no)             | suicidal.thought(no)             | suicidal.thought(yes)            | suicidal.thought(yes)            | suicidal.thought(no)             | suicidal.thought(no)             | suicidal.thought(yes)            | suicidal.thought(yes)            | suicidal.thought(no)             | suicidal.thought(no)             | suicidal.thought(yes)            | suicidal.thought(yes)            |\n",
      "+-----------------------------+---------------------------------+---------------------------------+---------------------------------+---------------------------------+---------------------------------+---------------------------------+---------------------------------+---------------------------------+---------------------------------+---------------------------------+---------------------------------+---------------------------------+---------------------------------+---------------------------------+---------------------------------+---------------------------------+---------------------------------+---------------------------------+---------------------------------+---------------------------------+---------------------------------+---------------------------------+---------------------------------+---------------------------------+---------------------------------+---------------------------------+---------------------------------+---------------------------------+---------------------------------+---------------------------------+---------------------------------+---------------------------------+----------------------------------+----------------------------------+----------------------------------+----------------------------------+----------------------------------+----------------------------------+----------------------------------+----------------------------------+----------------------------------+----------------------------------+----------------------------------+----------------------------------+----------------------------------+----------------------------------+----------------------------------+----------------------------------+----------------------------------+----------------------------------+----------------------------------+----------------------------------+----------------------------------+----------------------------------+----------------------------------+----------------------------------+----------------------------------+----------------------------------+----------------------------------+----------------------------------+----------------------------------+----------------------------------+----------------------------------+----------------------------------+---------------------------------+---------------------------------+---------------------------------+---------------------------------+---------------------------------+---------------------------------+---------------------------------+---------------------------------+---------------------------------+---------------------------------+---------------------------------+---------------------------------+---------------------------------+---------------------------------+---------------------------------+---------------------------------+---------------------------------+---------------------------------+---------------------------------+---------------------------------+---------------------------------+---------------------------------+---------------------------------+---------------------------------+---------------------------------+---------------------------------+---------------------------------+---------------------------------+---------------------------------+---------------------------------+---------------------------------+---------------------------------+----------------------------------+----------------------------------+----------------------------------+----------------------------------+----------------------------------+----------------------------------+----------------------------------+----------------------------------+----------------------------------+----------------------------------+----------------------------------+----------------------------------+----------------------------------+----------------------------------+----------------------------------+----------------------------------+----------------------------------+----------------------------------+----------------------------------+----------------------------------+----------------------------------+----------------------------------+----------------------------------+----------------------------------+----------------------------------+----------------------------------+----------------------------------+----------------------------------+----------------------------------+----------------------------------+----------------------------------+----------------------------------+\n",
      "| trouble.concentrating       | trouble.concentrating(no)       | trouble.concentrating(yes)      | trouble.concentrating(no)       | trouble.concentrating(yes)      | trouble.concentrating(no)       | trouble.concentrating(yes)      | trouble.concentrating(no)       | trouble.concentrating(yes)      | trouble.concentrating(no)       | trouble.concentrating(yes)      | trouble.concentrating(no)       | trouble.concentrating(yes)      | trouble.concentrating(no)       | trouble.concentrating(yes)      | trouble.concentrating(no)       | trouble.concentrating(yes)      | trouble.concentrating(no)       | trouble.concentrating(yes)      | trouble.concentrating(no)       | trouble.concentrating(yes)      | trouble.concentrating(no)       | trouble.concentrating(yes)      | trouble.concentrating(no)       | trouble.concentrating(yes)      | trouble.concentrating(no)       | trouble.concentrating(yes)      | trouble.concentrating(no)       | trouble.concentrating(yes)      | trouble.concentrating(no)       | trouble.concentrating(yes)      | trouble.concentrating(no)       | trouble.concentrating(yes)      | trouble.concentrating(no)        | trouble.concentrating(yes)       | trouble.concentrating(no)        | trouble.concentrating(yes)       | trouble.concentrating(no)        | trouble.concentrating(yes)       | trouble.concentrating(no)        | trouble.concentrating(yes)       | trouble.concentrating(no)        | trouble.concentrating(yes)       | trouble.concentrating(no)        | trouble.concentrating(yes)       | trouble.concentrating(no)        | trouble.concentrating(yes)       | trouble.concentrating(no)        | trouble.concentrating(yes)       | trouble.concentrating(no)        | trouble.concentrating(yes)       | trouble.concentrating(no)        | trouble.concentrating(yes)       | trouble.concentrating(no)        | trouble.concentrating(yes)       | trouble.concentrating(no)        | trouble.concentrating(yes)       | trouble.concentrating(no)        | trouble.concentrating(yes)       | trouble.concentrating(no)        | trouble.concentrating(yes)       | trouble.concentrating(no)        | trouble.concentrating(yes)       | trouble.concentrating(no)        | trouble.concentrating(yes)       | trouble.concentrating(no)       | trouble.concentrating(yes)      | trouble.concentrating(no)       | trouble.concentrating(yes)      | trouble.concentrating(no)       | trouble.concentrating(yes)      | trouble.concentrating(no)       | trouble.concentrating(yes)      | trouble.concentrating(no)       | trouble.concentrating(yes)      | trouble.concentrating(no)       | trouble.concentrating(yes)      | trouble.concentrating(no)       | trouble.concentrating(yes)      | trouble.concentrating(no)       | trouble.concentrating(yes)      | trouble.concentrating(no)       | trouble.concentrating(yes)      | trouble.concentrating(no)       | trouble.concentrating(yes)      | trouble.concentrating(no)       | trouble.concentrating(yes)      | trouble.concentrating(no)       | trouble.concentrating(yes)      | trouble.concentrating(no)       | trouble.concentrating(yes)      | trouble.concentrating(no)       | trouble.concentrating(yes)      | trouble.concentrating(no)       | trouble.concentrating(yes)      | trouble.concentrating(no)       | trouble.concentrating(yes)      | trouble.concentrating(no)        | trouble.concentrating(yes)       | trouble.concentrating(no)        | trouble.concentrating(yes)       | trouble.concentrating(no)        | trouble.concentrating(yes)       | trouble.concentrating(no)        | trouble.concentrating(yes)       | trouble.concentrating(no)        | trouble.concentrating(yes)       | trouble.concentrating(no)        | trouble.concentrating(yes)       | trouble.concentrating(no)        | trouble.concentrating(yes)       | trouble.concentrating(no)        | trouble.concentrating(yes)       | trouble.concentrating(no)        | trouble.concentrating(yes)       | trouble.concentrating(no)        | trouble.concentrating(yes)       | trouble.concentrating(no)        | trouble.concentrating(yes)       | trouble.concentrating(no)        | trouble.concentrating(yes)       | trouble.concentrating(no)        | trouble.concentrating(yes)       | trouble.concentrating(no)        | trouble.concentrating(yes)       | trouble.concentrating(no)        | trouble.concentrating(yes)       | trouble.concentrating(no)        | trouble.concentrating(yes)       |\n",
      "+-----------------------------+---------------------------------+---------------------------------+---------------------------------+---------------------------------+---------------------------------+---------------------------------+---------------------------------+---------------------------------+---------------------------------+---------------------------------+---------------------------------+---------------------------------+---------------------------------+---------------------------------+---------------------------------+---------------------------------+---------------------------------+---------------------------------+---------------------------------+---------------------------------+---------------------------------+---------------------------------+---------------------------------+---------------------------------+---------------------------------+---------------------------------+---------------------------------+---------------------------------+---------------------------------+---------------------------------+---------------------------------+---------------------------------+----------------------------------+----------------------------------+----------------------------------+----------------------------------+----------------------------------+----------------------------------+----------------------------------+----------------------------------+----------------------------------+----------------------------------+----------------------------------+----------------------------------+----------------------------------+----------------------------------+----------------------------------+----------------------------------+----------------------------------+----------------------------------+----------------------------------+----------------------------------+----------------------------------+----------------------------------+----------------------------------+----------------------------------+----------------------------------+----------------------------------+----------------------------------+----------------------------------+----------------------------------+----------------------------------+----------------------------------+----------------------------------+---------------------------------+---------------------------------+---------------------------------+---------------------------------+---------------------------------+---------------------------------+---------------------------------+---------------------------------+---------------------------------+---------------------------------+---------------------------------+---------------------------------+---------------------------------+---------------------------------+---------------------------------+---------------------------------+---------------------------------+---------------------------------+---------------------------------+---------------------------------+---------------------------------+---------------------------------+---------------------------------+---------------------------------+---------------------------------+---------------------------------+---------------------------------+---------------------------------+---------------------------------+---------------------------------+---------------------------------+---------------------------------+----------------------------------+----------------------------------+----------------------------------+----------------------------------+----------------------------------+----------------------------------+----------------------------------+----------------------------------+----------------------------------+----------------------------------+----------------------------------+----------------------------------+----------------------------------+----------------------------------+----------------------------------+----------------------------------+----------------------------------+----------------------------------+----------------------------------+----------------------------------+----------------------------------+----------------------------------+----------------------------------+----------------------------------+----------------------------------+----------------------------------+----------------------------------+----------------------------------+----------------------------------+----------------------------------+----------------------------------+----------------------------------+\n",
      "| Anxiety(no)                 | 1.0                             | 0.5                             | 0.5                             | 0.5                             | 0.0                             | 0.5                             | 0.5                             | 0.5                             | 0.5                             | 0.5                             | 0.5                             | 0.5                             | 0.5                             | 0.5                             | 0.5                             | 0.5                             | 1.0                             | 0.5                             | 0.5                             | 0.5                             | 0.5                             | 0.5                             | 0.5                             | 0.5                             | 0.5                             | 0.5                             | 0.5                             | 0.5                             | 0.5                             | 0.5                             | 0.5                             | 0.5                             | 0.5                              | 1.0                              | 0.5                              | 0.5                              | 0.5                              | 0.5                              | 0.5                              | 0.5                              | 0.5                              | 0.5                              | 0.5                              | 0.5                              | 0.5                              | 0.5                              | 0.5                              | 0.5                              | 0.5                              | 0.5                              | 0.5                              | 0.5                              | 0.5                              | 0.5                              | 0.5                              | 0.5                              | 0.5                              | 0.5                              | 0.5                              | 0.5                              | 0.5                              | 0.5                              | 0.5                              | 0.5                              | 0.5                             | 0.5                             | 0.5                             | 0.5                             | 0.5                             | 0.5                             | 0.5                             | 0.5                             | 0.5                             | 0.5                             | 1.0                             | 0.5                             | 0.5                             | 0.5                             | 0.5                             | 0.5                             | 0.5                             | 0.5                             | 0.5                             | 0.5                             | 0.5                             | 0.5                             | 0.5                             | 0.5                             | 0.5                             | 0.5                             | 0.5                             | 0.5                             | 0.5                             | 0.5                             | 0.5                             | 0.5                             | 0.5                              | 0.5                              | 0.5                              | 0.5                              | 0.5                              | 0.5                              | 0.5                              | 0.5                              | 0.5                              | 0.5                              | 0.5                              | 0.5                              | 0.5                              | 0.5                              | 0.5                              | 0.5                              | 0.5                              | 0.5                              | 0.5                              | 0.5                              | 0.5                              | 0.5                              | 0.5                              | 0.5                              | 0.5                              | 0.5                              | 0.5                              | 0.5                              | 0.5                              | 0.5                              | 0.5                              | 0.5                              |\n",
      "+-----------------------------+---------------------------------+---------------------------------+---------------------------------+---------------------------------+---------------------------------+---------------------------------+---------------------------------+---------------------------------+---------------------------------+---------------------------------+---------------------------------+---------------------------------+---------------------------------+---------------------------------+---------------------------------+---------------------------------+---------------------------------+---------------------------------+---------------------------------+---------------------------------+---------------------------------+---------------------------------+---------------------------------+---------------------------------+---------------------------------+---------------------------------+---------------------------------+---------------------------------+---------------------------------+---------------------------------+---------------------------------+---------------------------------+----------------------------------+----------------------------------+----------------------------------+----------------------------------+----------------------------------+----------------------------------+----------------------------------+----------------------------------+----------------------------------+----------------------------------+----------------------------------+----------------------------------+----------------------------------+----------------------------------+----------------------------------+----------------------------------+----------------------------------+----------------------------------+----------------------------------+----------------------------------+----------------------------------+----------------------------------+----------------------------------+----------------------------------+----------------------------------+----------------------------------+----------------------------------+----------------------------------+----------------------------------+----------------------------------+----------------------------------+----------------------------------+---------------------------------+---------------------------------+---------------------------------+---------------------------------+---------------------------------+---------------------------------+---------------------------------+---------------------------------+---------------------------------+---------------------------------+---------------------------------+---------------------------------+---------------------------------+---------------------------------+---------------------------------+---------------------------------+---------------------------------+---------------------------------+---------------------------------+---------------------------------+---------------------------------+---------------------------------+---------------------------------+---------------------------------+---------------------------------+---------------------------------+---------------------------------+---------------------------------+---------------------------------+---------------------------------+---------------------------------+---------------------------------+----------------------------------+----------------------------------+----------------------------------+----------------------------------+----------------------------------+----------------------------------+----------------------------------+----------------------------------+----------------------------------+----------------------------------+----------------------------------+----------------------------------+----------------------------------+----------------------------------+----------------------------------+----------------------------------+----------------------------------+----------------------------------+----------------------------------+----------------------------------+----------------------------------+----------------------------------+----------------------------------+----------------------------------+----------------------------------+----------------------------------+----------------------------------+----------------------------------+----------------------------------+----------------------------------+----------------------------------+----------------------------------+\n",
      "| Anxiety(yes)                | 0.0                             | 0.5                             | 0.5                             | 0.5                             | 1.0                             | 0.5                             | 0.5                             | 0.5                             | 0.5                             | 0.5                             | 0.5                             | 0.5                             | 0.5                             | 0.5                             | 0.5                             | 0.5                             | 0.0                             | 0.5                             | 0.5                             | 0.5                             | 0.5                             | 0.5                             | 0.5                             | 0.5                             | 0.5                             | 0.5                             | 0.5                             | 0.5                             | 0.5                             | 0.5                             | 0.5                             | 0.5                             | 0.5                              | 0.0                              | 0.5                              | 0.5                              | 0.5                              | 0.5                              | 0.5                              | 0.5                              | 0.5                              | 0.5                              | 0.5                              | 0.5                              | 0.5                              | 0.5                              | 0.5                              | 0.5                              | 0.5                              | 0.5                              | 0.5                              | 0.5                              | 0.5                              | 0.5                              | 0.5                              | 0.5                              | 0.5                              | 0.5                              | 0.5                              | 0.5                              | 0.5                              | 0.5                              | 0.5                              | 0.5                              | 0.5                             | 0.5                             | 0.5                             | 0.5                             | 0.5                             | 0.5                             | 0.5                             | 0.5                             | 0.5                             | 0.5                             | 0.0                             | 0.5                             | 0.5                             | 0.5                             | 0.5                             | 0.5                             | 0.5                             | 0.5                             | 0.5                             | 0.5                             | 0.5                             | 0.5                             | 0.5                             | 0.5                             | 0.5                             | 0.5                             | 0.5                             | 0.5                             | 0.5                             | 0.5                             | 0.5                             | 0.5                             | 0.5                              | 0.5                              | 0.5                              | 0.5                              | 0.5                              | 0.5                              | 0.5                              | 0.5                              | 0.5                              | 0.5                              | 0.5                              | 0.5                              | 0.5                              | 0.5                              | 0.5                              | 0.5                              | 0.5                              | 0.5                              | 0.5                              | 0.5                              | 0.5                              | 0.5                              | 0.5                              | 0.5                              | 0.5                              | 0.5                              | 0.5                              | 0.5                              | 0.5                              | 0.5                              | 0.5                              | 0.5                              |\n",
      "+-----------------------------+---------------------------------+---------------------------------+---------------------------------+---------------------------------+---------------------------------+---------------------------------+---------------------------------+---------------------------------+---------------------------------+---------------------------------+---------------------------------+---------------------------------+---------------------------------+---------------------------------+---------------------------------+---------------------------------+---------------------------------+---------------------------------+---------------------------------+---------------------------------+---------------------------------+---------------------------------+---------------------------------+---------------------------------+---------------------------------+---------------------------------+---------------------------------+---------------------------------+---------------------------------+---------------------------------+---------------------------------+---------------------------------+----------------------------------+----------------------------------+----------------------------------+----------------------------------+----------------------------------+----------------------------------+----------------------------------+----------------------------------+----------------------------------+----------------------------------+----------------------------------+----------------------------------+----------------------------------+----------------------------------+----------------------------------+----------------------------------+----------------------------------+----------------------------------+----------------------------------+----------------------------------+----------------------------------+----------------------------------+----------------------------------+----------------------------------+----------------------------------+----------------------------------+----------------------------------+----------------------------------+----------------------------------+----------------------------------+----------------------------------+----------------------------------+---------------------------------+---------------------------------+---------------------------------+---------------------------------+---------------------------------+---------------------------------+---------------------------------+---------------------------------+---------------------------------+---------------------------------+---------------------------------+---------------------------------+---------------------------------+---------------------------------+---------------------------------+---------------------------------+---------------------------------+---------------------------------+---------------------------------+---------------------------------+---------------------------------+---------------------------------+---------------------------------+---------------------------------+---------------------------------+---------------------------------+---------------------------------+---------------------------------+---------------------------------+---------------------------------+---------------------------------+---------------------------------+----------------------------------+----------------------------------+----------------------------------+----------------------------------+----------------------------------+----------------------------------+----------------------------------+----------------------------------+----------------------------------+----------------------------------+----------------------------------+----------------------------------+----------------------------------+----------------------------------+----------------------------------+----------------------------------+----------------------------------+----------------------------------+----------------------------------+----------------------------------+----------------------------------+----------------------------------+----------------------------------+----------------------------------+----------------------------------+----------------------------------+----------------------------------+----------------------------------+----------------------------------+----------------------------------+----------------------------------+----------------------------------+\n",
      "+-----------------------------+---------------------------------+---------------------------------+---------------------------------+---------------------------------+---------------------------------+---------------------------------+---------------------------------+---------------------------------+---------------------------------+---------------------------------+---------------------------------+---------------------------------+---------------------------------+---------------------------------+---------------------------------+---------------------------------+---------------------------------+---------------------------------+---------------------------------+---------------------------------+---------------------------------+---------------------------------+---------------------------------+---------------------------------+---------------------------------+---------------------------------+---------------------------------+---------------------------------+---------------------------------+---------------------------------+---------------------------------+---------------------------------+----------------------------------+----------------------------------+----------------------------------+----------------------------------+----------------------------------+----------------------------------+----------------------------------+----------------------------------+----------------------------------+----------------------------------+----------------------------------+----------------------------------+----------------------------------+----------------------------------+----------------------------------+----------------------------------+----------------------------------+----------------------------------+----------------------------------+----------------------------------+----------------------------------+----------------------------------+----------------------------------+----------------------------------+----------------------------------+----------------------------------+----------------------------------+----------------------------------+----------------------------------+----------------------------------+----------------------------------+----------------------------------+---------------------------------+---------------------------------+---------------------------------+---------------------------------+---------------------------------+---------------------------------+---------------------------------+---------------------------------+---------------------------------+---------------------------------+---------------------------------+---------------------------------+---------------------------------+---------------------------------+---------------------------------+---------------------------------+---------------------------------+---------------------------------+---------------------------------+---------------------------------+---------------------------------+---------------------------------+---------------------------------+---------------------------------+---------------------------------+---------------------------------+---------------------------------+---------------------------------+---------------------------------+---------------------------------+---------------------------------+---------------------------------+----------------------------------+----------------------------------+----------------------------------+----------------------------------+----------------------------------+----------------------------------+----------------------------------+----------------------------------+----------------------------------+----------------------------------+----------------------------------+----------------------------------+----------------------------------+----------------------------------+----------------------------------+----------------------------------+----------------------------------+----------------------------------+----------------------------------+----------------------------------+----------------------------------+----------------------------------+----------------------------------+----------------------------------+----------------------------------+----------------------------------+----------------------------------+----------------------------------+----------------------------------+----------------------------------+----------------------------------+----------------------------------+\n",
      "| anger                       | anger(no)                       | anger(no)                       | anger(no)                       | anger(no)                       | anger(no)                       | anger(no)                       | anger(no)                       | anger(no)                       | anger(no)                       | anger(no)                       | anger(no)                       | anger(no)                       | anger(no)                       | anger(no)                       | anger(no)                       | anger(no)                       | anger(no)                       | anger(no)                       | anger(no)                       | anger(no)                       | anger(no)                       | anger(no)                       | anger(no)                       | anger(no)                       | anger(no)                       | anger(no)                       | anger(no)                       | anger(no)                       | anger(no)                       | anger(no)                       | anger(no)                       | anger(no)                       | anger(no)                        | anger(no)                        | anger(no)                        | anger(no)                        | anger(no)                        | anger(no)                        | anger(no)                        | anger(no)                        | anger(no)                        | anger(no)                        | anger(no)                        | anger(no)                        | anger(no)                        | anger(no)                        | anger(no)                        | anger(no)                        | anger(no)                        | anger(no)                        | anger(no)                        | anger(no)                        | anger(no)                        | anger(no)                        | anger(no)                        | anger(no)                        | anger(no)                        | anger(no)                        | anger(no)                        | anger(no)                        | anger(no)                        | anger(no)                        | anger(no)                        | anger(no)                        | anger(yes)                      | anger(yes)                      | anger(yes)                      | anger(yes)                      | anger(yes)                      | anger(yes)                      | anger(yes)                      | anger(yes)                      | anger(yes)                      | anger(yes)                      | anger(yes)                      | anger(yes)                      | anger(yes)                      | anger(yes)                      | anger(yes)                      | anger(yes)                      | anger(yes)                      | anger(yes)                      | anger(yes)                      | anger(yes)                      | anger(yes)                      | anger(yes)                      | anger(yes)                      | anger(yes)                      | anger(yes)                      | anger(yes)                      | anger(yes)                      | anger(yes)                      | anger(yes)                      | anger(yes)                      | anger(yes)                      | anger(yes)                      | anger(yes)                       | anger(yes)                       | anger(yes)                       | anger(yes)                       | anger(yes)                       | anger(yes)                       | anger(yes)                       | anger(yes)                       | anger(yes)                       | anger(yes)                       | anger(yes)                       | anger(yes)                       | anger(yes)                       | anger(yes)                       | anger(yes)                       | anger(yes)                       | anger(yes)                       | anger(yes)                       | anger(yes)                       | anger(yes)                       | anger(yes)                       | anger(yes)                       | anger(yes)                       | anger(yes)                       | anger(yes)                       | anger(yes)                       | anger(yes)                       | anger(yes)                       | anger(yes)                       | anger(yes)                       | anger(yes)                       | anger(yes)                       |\n",
      "+-----------------------------+---------------------------------+---------------------------------+---------------------------------+---------------------------------+---------------------------------+---------------------------------+---------------------------------+---------------------------------+---------------------------------+---------------------------------+---------------------------------+---------------------------------+---------------------------------+---------------------------------+---------------------------------+---------------------------------+---------------------------------+---------------------------------+---------------------------------+---------------------------------+---------------------------------+---------------------------------+---------------------------------+---------------------------------+---------------------------------+---------------------------------+---------------------------------+---------------------------------+---------------------------------+---------------------------------+---------------------------------+---------------------------------+----------------------------------+----------------------------------+----------------------------------+----------------------------------+----------------------------------+----------------------------------+----------------------------------+----------------------------------+----------------------------------+----------------------------------+----------------------------------+----------------------------------+----------------------------------+----------------------------------+----------------------------------+----------------------------------+----------------------------------+----------------------------------+----------------------------------+----------------------------------+----------------------------------+----------------------------------+----------------------------------+----------------------------------+----------------------------------+----------------------------------+----------------------------------+----------------------------------+----------------------------------+----------------------------------+----------------------------------+----------------------------------+---------------------------------+---------------------------------+---------------------------------+---------------------------------+---------------------------------+---------------------------------+---------------------------------+---------------------------------+---------------------------------+---------------------------------+---------------------------------+---------------------------------+---------------------------------+---------------------------------+---------------------------------+---------------------------------+---------------------------------+---------------------------------+---------------------------------+---------------------------------+---------------------------------+---------------------------------+---------------------------------+---------------------------------+---------------------------------+---------------------------------+---------------------------------+---------------------------------+---------------------------------+---------------------------------+---------------------------------+---------------------------------+----------------------------------+----------------------------------+----------------------------------+----------------------------------+----------------------------------+----------------------------------+----------------------------------+----------------------------------+----------------------------------+----------------------------------+----------------------------------+----------------------------------+----------------------------------+----------------------------------+----------------------------------+----------------------------------+----------------------------------+----------------------------------+----------------------------------+----------------------------------+----------------------------------+----------------------------------+----------------------------------+----------------------------------+----------------------------------+----------------------------------+----------------------------------+----------------------------------+----------------------------------+----------------------------------+----------------------------------+----------------------------------+\n",
      "| avoids.people.or.activities | avoids.people.or.activities(no) | avoids.people.or.activities(no) | avoids.people.or.activities(no) | avoids.people.or.activities(no) | avoids.people.or.activities(no) | avoids.people.or.activities(no) | avoids.people.or.activities(no) | avoids.people.or.activities(no) | avoids.people.or.activities(no) | avoids.people.or.activities(no) | avoids.people.or.activities(no) | avoids.people.or.activities(no) | avoids.people.or.activities(no) | avoids.people.or.activities(no) | avoids.people.or.activities(no) | avoids.people.or.activities(no) | avoids.people.or.activities(no) | avoids.people.or.activities(no) | avoids.people.or.activities(no) | avoids.people.or.activities(no) | avoids.people.or.activities(no) | avoids.people.or.activities(no) | avoids.people.or.activities(no) | avoids.people.or.activities(no) | avoids.people.or.activities(no) | avoids.people.or.activities(no) | avoids.people.or.activities(no) | avoids.people.or.activities(no) | avoids.people.or.activities(no) | avoids.people.or.activities(no) | avoids.people.or.activities(no) | avoids.people.or.activities(no) | avoids.people.or.activities(yes) | avoids.people.or.activities(yes) | avoids.people.or.activities(yes) | avoids.people.or.activities(yes) | avoids.people.or.activities(yes) | avoids.people.or.activities(yes) | avoids.people.or.activities(yes) | avoids.people.or.activities(yes) | avoids.people.or.activities(yes) | avoids.people.or.activities(yes) | avoids.people.or.activities(yes) | avoids.people.or.activities(yes) | avoids.people.or.activities(yes) | avoids.people.or.activities(yes) | avoids.people.or.activities(yes) | avoids.people.or.activities(yes) | avoids.people.or.activities(yes) | avoids.people.or.activities(yes) | avoids.people.or.activities(yes) | avoids.people.or.activities(yes) | avoids.people.or.activities(yes) | avoids.people.or.activities(yes) | avoids.people.or.activities(yes) | avoids.people.or.activities(yes) | avoids.people.or.activities(yes) | avoids.people.or.activities(yes) | avoids.people.or.activities(yes) | avoids.people.or.activities(yes) | avoids.people.or.activities(yes) | avoids.people.or.activities(yes) | avoids.people.or.activities(yes) | avoids.people.or.activities(yes) | avoids.people.or.activities(no) | avoids.people.or.activities(no) | avoids.people.or.activities(no) | avoids.people.or.activities(no) | avoids.people.or.activities(no) | avoids.people.or.activities(no) | avoids.people.or.activities(no) | avoids.people.or.activities(no) | avoids.people.or.activities(no) | avoids.people.or.activities(no) | avoids.people.or.activities(no) | avoids.people.or.activities(no) | avoids.people.or.activities(no) | avoids.people.or.activities(no) | avoids.people.or.activities(no) | avoids.people.or.activities(no) | avoids.people.or.activities(no) | avoids.people.or.activities(no) | avoids.people.or.activities(no) | avoids.people.or.activities(no) | avoids.people.or.activities(no) | avoids.people.or.activities(no) | avoids.people.or.activities(no) | avoids.people.or.activities(no) | avoids.people.or.activities(no) | avoids.people.or.activities(no) | avoids.people.or.activities(no) | avoids.people.or.activities(no) | avoids.people.or.activities(no) | avoids.people.or.activities(no) | avoids.people.or.activities(no) | avoids.people.or.activities(no) | avoids.people.or.activities(yes) | avoids.people.or.activities(yes) | avoids.people.or.activities(yes) | avoids.people.or.activities(yes) | avoids.people.or.activities(yes) | avoids.people.or.activities(yes) | avoids.people.or.activities(yes) | avoids.people.or.activities(yes) | avoids.people.or.activities(yes) | avoids.people.or.activities(yes) | avoids.people.or.activities(yes) | avoids.people.or.activities(yes) | avoids.people.or.activities(yes) | avoids.people.or.activities(yes) | avoids.people.or.activities(yes) | avoids.people.or.activities(yes) | avoids.people.or.activities(yes) | avoids.people.or.activities(yes) | avoids.people.or.activities(yes) | avoids.people.or.activities(yes) | avoids.people.or.activities(yes) | avoids.people.or.activities(yes) | avoids.people.or.activities(yes) | avoids.people.or.activities(yes) | avoids.people.or.activities(yes) | avoids.people.or.activities(yes) | avoids.people.or.activities(yes) | avoids.people.or.activities(yes) | avoids.people.or.activities(yes) | avoids.people.or.activities(yes) | avoids.people.or.activities(yes) | avoids.people.or.activities(yes) |\n",
      "+-----------------------------+---------------------------------+---------------------------------+---------------------------------+---------------------------------+---------------------------------+---------------------------------+---------------------------------+---------------------------------+---------------------------------+---------------------------------+---------------------------------+---------------------------------+---------------------------------+---------------------------------+---------------------------------+---------------------------------+---------------------------------+---------------------------------+---------------------------------+---------------------------------+---------------------------------+---------------------------------+---------------------------------+---------------------------------+---------------------------------+---------------------------------+---------------------------------+---------------------------------+---------------------------------+---------------------------------+---------------------------------+---------------------------------+----------------------------------+----------------------------------+----------------------------------+----------------------------------+----------------------------------+----------------------------------+----------------------------------+----------------------------------+----------------------------------+----------------------------------+----------------------------------+----------------------------------+----------------------------------+----------------------------------+----------------------------------+----------------------------------+----------------------------------+----------------------------------+----------------------------------+----------------------------------+----------------------------------+----------------------------------+----------------------------------+----------------------------------+----------------------------------+----------------------------------+----------------------------------+----------------------------------+----------------------------------+----------------------------------+----------------------------------+----------------------------------+---------------------------------+---------------------------------+---------------------------------+---------------------------------+---------------------------------+---------------------------------+---------------------------------+---------------------------------+---------------------------------+---------------------------------+---------------------------------+---------------------------------+---------------------------------+---------------------------------+---------------------------------+---------------------------------+---------------------------------+---------------------------------+---------------------------------+---------------------------------+---------------------------------+---------------------------------+---------------------------------+---------------------------------+---------------------------------+---------------------------------+---------------------------------+---------------------------------+---------------------------------+---------------------------------+---------------------------------+---------------------------------+----------------------------------+----------------------------------+----------------------------------+----------------------------------+----------------------------------+----------------------------------+----------------------------------+----------------------------------+----------------------------------+----------------------------------+----------------------------------+----------------------------------+----------------------------------+----------------------------------+----------------------------------+----------------------------------+----------------------------------+----------------------------------+----------------------------------+----------------------------------+----------------------------------+----------------------------------+----------------------------------+----------------------------------+----------------------------------+----------------------------------+----------------------------------+----------------------------------+----------------------------------+----------------------------------+----------------------------------+----------------------------------+\n",
      "| feeling.tired               | feeling.tired(no)               | feeling.tired(no)               | feeling.tired(no)               | feeling.tired(no)               | feeling.tired(no)               | feeling.tired(no)               | feeling.tired(no)               | feeling.tired(no)               | feeling.tired(no)               | feeling.tired(no)               | feeling.tired(no)               | feeling.tired(no)               | feeling.tired(no)               | feeling.tired(no)               | feeling.tired(no)               | feeling.tired(no)               | feeling.tired(yes)              | feeling.tired(yes)              | feeling.tired(yes)              | feeling.tired(yes)              | feeling.tired(yes)              | feeling.tired(yes)              | feeling.tired(yes)              | feeling.tired(yes)              | feeling.tired(yes)              | feeling.tired(yes)              | feeling.tired(yes)              | feeling.tired(yes)              | feeling.tired(yes)              | feeling.tired(yes)              | feeling.tired(yes)              | feeling.tired(yes)              | feeling.tired(no)                | feeling.tired(no)                | feeling.tired(no)                | feeling.tired(no)                | feeling.tired(no)                | feeling.tired(no)                | feeling.tired(no)                | feeling.tired(no)                | feeling.tired(no)                | feeling.tired(no)                | feeling.tired(no)                | feeling.tired(no)                | feeling.tired(no)                | feeling.tired(no)                | feeling.tired(no)                | feeling.tired(no)                | feeling.tired(yes)               | feeling.tired(yes)               | feeling.tired(yes)               | feeling.tired(yes)               | feeling.tired(yes)               | feeling.tired(yes)               | feeling.tired(yes)               | feeling.tired(yes)               | feeling.tired(yes)               | feeling.tired(yes)               | feeling.tired(yes)               | feeling.tired(yes)               | feeling.tired(yes)               | feeling.tired(yes)               | feeling.tired(yes)               | feeling.tired(yes)               | feeling.tired(no)               | feeling.tired(no)               | feeling.tired(no)               | feeling.tired(no)               | feeling.tired(no)               | feeling.tired(no)               | feeling.tired(no)               | feeling.tired(no)               | feeling.tired(no)               | feeling.tired(no)               | feeling.tired(no)               | feeling.tired(no)               | feeling.tired(no)               | feeling.tired(no)               | feeling.tired(no)               | feeling.tired(no)               | feeling.tired(yes)              | feeling.tired(yes)              | feeling.tired(yes)              | feeling.tired(yes)              | feeling.tired(yes)              | feeling.tired(yes)              | feeling.tired(yes)              | feeling.tired(yes)              | feeling.tired(yes)              | feeling.tired(yes)              | feeling.tired(yes)              | feeling.tired(yes)              | feeling.tired(yes)              | feeling.tired(yes)              | feeling.tired(yes)              | feeling.tired(yes)              | feeling.tired(no)                | feeling.tired(no)                | feeling.tired(no)                | feeling.tired(no)                | feeling.tired(no)                | feeling.tired(no)                | feeling.tired(no)                | feeling.tired(no)                | feeling.tired(no)                | feeling.tired(no)                | feeling.tired(no)                | feeling.tired(no)                | feeling.tired(no)                | feeling.tired(no)                | feeling.tired(no)                | feeling.tired(no)                | feeling.tired(yes)               | feeling.tired(yes)               | feeling.tired(yes)               | feeling.tired(yes)               | feeling.tired(yes)               | feeling.tired(yes)               | feeling.tired(yes)               | feeling.tired(yes)               | feeling.tired(yes)               | feeling.tired(yes)               | feeling.tired(yes)               | feeling.tired(yes)               | feeling.tired(yes)               | feeling.tired(yes)               | feeling.tired(yes)               | feeling.tired(yes)               |\n",
      "+-----------------------------+---------------------------------+---------------------------------+---------------------------------+---------------------------------+---------------------------------+---------------------------------+---------------------------------+---------------------------------+---------------------------------+---------------------------------+---------------------------------+---------------------------------+---------------------------------+---------------------------------+---------------------------------+---------------------------------+---------------------------------+---------------------------------+---------------------------------+---------------------------------+---------------------------------+---------------------------------+---------------------------------+---------------------------------+---------------------------------+---------------------------------+---------------------------------+---------------------------------+---------------------------------+---------------------------------+---------------------------------+---------------------------------+----------------------------------+----------------------------------+----------------------------------+----------------------------------+----------------------------------+----------------------------------+----------------------------------+----------------------------------+----------------------------------+----------------------------------+----------------------------------+----------------------------------+----------------------------------+----------------------------------+----------------------------------+----------------------------------+----------------------------------+----------------------------------+----------------------------------+----------------------------------+----------------------------------+----------------------------------+----------------------------------+----------------------------------+----------------------------------+----------------------------------+----------------------------------+----------------------------------+----------------------------------+----------------------------------+----------------------------------+----------------------------------+---------------------------------+---------------------------------+---------------------------------+---------------------------------+---------------------------------+---------------------------------+---------------------------------+---------------------------------+---------------------------------+---------------------------------+---------------------------------+---------------------------------+---------------------------------+---------------------------------+---------------------------------+---------------------------------+---------------------------------+---------------------------------+---------------------------------+---------------------------------+---------------------------------+---------------------------------+---------------------------------+---------------------------------+---------------------------------+---------------------------------+---------------------------------+---------------------------------+---------------------------------+---------------------------------+---------------------------------+---------------------------------+----------------------------------+----------------------------------+----------------------------------+----------------------------------+----------------------------------+----------------------------------+----------------------------------+----------------------------------+----------------------------------+----------------------------------+----------------------------------+----------------------------------+----------------------------------+----------------------------------+----------------------------------+----------------------------------+----------------------------------+----------------------------------+----------------------------------+----------------------------------+----------------------------------+----------------------------------+----------------------------------+----------------------------------+----------------------------------+----------------------------------+----------------------------------+----------------------------------+----------------------------------+----------------------------------+----------------------------------+----------------------------------+\n",
      "| hopelessness                | hopelessness(no)                | hopelessness(no)                | hopelessness(no)                | hopelessness(no)                | hopelessness(no)                | hopelessness(no)                | hopelessness(no)                | hopelessness(no)                | hopelessness(yes)               | hopelessness(yes)               | hopelessness(yes)               | hopelessness(yes)               | hopelessness(yes)               | hopelessness(yes)               | hopelessness(yes)               | hopelessness(yes)               | hopelessness(no)                | hopelessness(no)                | hopelessness(no)                | hopelessness(no)                | hopelessness(no)                | hopelessness(no)                | hopelessness(no)                | hopelessness(no)                | hopelessness(yes)               | hopelessness(yes)               | hopelessness(yes)               | hopelessness(yes)               | hopelessness(yes)               | hopelessness(yes)               | hopelessness(yes)               | hopelessness(yes)               | hopelessness(no)                 | hopelessness(no)                 | hopelessness(no)                 | hopelessness(no)                 | hopelessness(no)                 | hopelessness(no)                 | hopelessness(no)                 | hopelessness(no)                 | hopelessness(yes)                | hopelessness(yes)                | hopelessness(yes)                | hopelessness(yes)                | hopelessness(yes)                | hopelessness(yes)                | hopelessness(yes)                | hopelessness(yes)                | hopelessness(no)                 | hopelessness(no)                 | hopelessness(no)                 | hopelessness(no)                 | hopelessness(no)                 | hopelessness(no)                 | hopelessness(no)                 | hopelessness(no)                 | hopelessness(yes)                | hopelessness(yes)                | hopelessness(yes)                | hopelessness(yes)                | hopelessness(yes)                | hopelessness(yes)                | hopelessness(yes)                | hopelessness(yes)                | hopelessness(no)                | hopelessness(no)                | hopelessness(no)                | hopelessness(no)                | hopelessness(no)                | hopelessness(no)                | hopelessness(no)                | hopelessness(no)                | hopelessness(yes)               | hopelessness(yes)               | hopelessness(yes)               | hopelessness(yes)               | hopelessness(yes)               | hopelessness(yes)               | hopelessness(yes)               | hopelessness(yes)               | hopelessness(no)                | hopelessness(no)                | hopelessness(no)                | hopelessness(no)                | hopelessness(no)                | hopelessness(no)                | hopelessness(no)                | hopelessness(no)                | hopelessness(yes)               | hopelessness(yes)               | hopelessness(yes)               | hopelessness(yes)               | hopelessness(yes)               | hopelessness(yes)               | hopelessness(yes)               | hopelessness(yes)               | hopelessness(no)                 | hopelessness(no)                 | hopelessness(no)                 | hopelessness(no)                 | hopelessness(no)                 | hopelessness(no)                 | hopelessness(no)                 | hopelessness(no)                 | hopelessness(yes)                | hopelessness(yes)                | hopelessness(yes)                | hopelessness(yes)                | hopelessness(yes)                | hopelessness(yes)                | hopelessness(yes)                | hopelessness(yes)                | hopelessness(no)                 | hopelessness(no)                 | hopelessness(no)                 | hopelessness(no)                 | hopelessness(no)                 | hopelessness(no)                 | hopelessness(no)                 | hopelessness(no)                 | hopelessness(yes)                | hopelessness(yes)                | hopelessness(yes)                | hopelessness(yes)                | hopelessness(yes)                | hopelessness(yes)                | hopelessness(yes)                | hopelessness(yes)                |\n",
      "+-----------------------------+---------------------------------+---------------------------------+---------------------------------+---------------------------------+---------------------------------+---------------------------------+---------------------------------+---------------------------------+---------------------------------+---------------------------------+---------------------------------+---------------------------------+---------------------------------+---------------------------------+---------------------------------+---------------------------------+---------------------------------+---------------------------------+---------------------------------+---------------------------------+---------------------------------+---------------------------------+---------------------------------+---------------------------------+---------------------------------+---------------------------------+---------------------------------+---------------------------------+---------------------------------+---------------------------------+---------------------------------+---------------------------------+----------------------------------+----------------------------------+----------------------------------+----------------------------------+----------------------------------+----------------------------------+----------------------------------+----------------------------------+----------------------------------+----------------------------------+----------------------------------+----------------------------------+----------------------------------+----------------------------------+----------------------------------+----------------------------------+----------------------------------+----------------------------------+----------------------------------+----------------------------------+----------------------------------+----------------------------------+----------------------------------+----------------------------------+----------------------------------+----------------------------------+----------------------------------+----------------------------------+----------------------------------+----------------------------------+----------------------------------+----------------------------------+---------------------------------+---------------------------------+---------------------------------+---------------------------------+---------------------------------+---------------------------------+---------------------------------+---------------------------------+---------------------------------+---------------------------------+---------------------------------+---------------------------------+---------------------------------+---------------------------------+---------------------------------+---------------------------------+---------------------------------+---------------------------------+---------------------------------+---------------------------------+---------------------------------+---------------------------------+---------------------------------+---------------------------------+---------------------------------+---------------------------------+---------------------------------+---------------------------------+---------------------------------+---------------------------------+---------------------------------+---------------------------------+----------------------------------+----------------------------------+----------------------------------+----------------------------------+----------------------------------+----------------------------------+----------------------------------+----------------------------------+----------------------------------+----------------------------------+----------------------------------+----------------------------------+----------------------------------+----------------------------------+----------------------------------+----------------------------------+----------------------------------+----------------------------------+----------------------------------+----------------------------------+----------------------------------+----------------------------------+----------------------------------+----------------------------------+----------------------------------+----------------------------------+----------------------------------+----------------------------------+----------------------------------+----------------------------------+----------------------------------+----------------------------------+\n",
      "| panic                       | panic(no)                       | panic(no)                       | panic(no)                       | panic(no)                       | panic(yes)                      | panic(yes)                      | panic(yes)                      | panic(yes)                      | panic(no)                       | panic(no)                       | panic(no)                       | panic(no)                       | panic(yes)                      | panic(yes)                      | panic(yes)                      | panic(yes)                      | panic(no)                       | panic(no)                       | panic(no)                       | panic(no)                       | panic(yes)                      | panic(yes)                      | panic(yes)                      | panic(yes)                      | panic(no)                       | panic(no)                       | panic(no)                       | panic(no)                       | panic(yes)                      | panic(yes)                      | panic(yes)                      | panic(yes)                      | panic(no)                        | panic(no)                        | panic(no)                        | panic(no)                        | panic(yes)                       | panic(yes)                       | panic(yes)                       | panic(yes)                       | panic(no)                        | panic(no)                        | panic(no)                        | panic(no)                        | panic(yes)                       | panic(yes)                       | panic(yes)                       | panic(yes)                       | panic(no)                        | panic(no)                        | panic(no)                        | panic(no)                        | panic(yes)                       | panic(yes)                       | panic(yes)                       | panic(yes)                       | panic(no)                        | panic(no)                        | panic(no)                        | panic(no)                        | panic(yes)                       | panic(yes)                       | panic(yes)                       | panic(yes)                       | panic(no)                       | panic(no)                       | panic(no)                       | panic(no)                       | panic(yes)                      | panic(yes)                      | panic(yes)                      | panic(yes)                      | panic(no)                       | panic(no)                       | panic(no)                       | panic(no)                       | panic(yes)                      | panic(yes)                      | panic(yes)                      | panic(yes)                      | panic(no)                       | panic(no)                       | panic(no)                       | panic(no)                       | panic(yes)                      | panic(yes)                      | panic(yes)                      | panic(yes)                      | panic(no)                       | panic(no)                       | panic(no)                       | panic(no)                       | panic(yes)                      | panic(yes)                      | panic(yes)                      | panic(yes)                      | panic(no)                        | panic(no)                        | panic(no)                        | panic(no)                        | panic(yes)                       | panic(yes)                       | panic(yes)                       | panic(yes)                       | panic(no)                        | panic(no)                        | panic(no)                        | panic(no)                        | panic(yes)                       | panic(yes)                       | panic(yes)                       | panic(yes)                       | panic(no)                        | panic(no)                        | panic(no)                        | panic(no)                        | panic(yes)                       | panic(yes)                       | panic(yes)                       | panic(yes)                       | panic(no)                        | panic(no)                        | panic(no)                        | panic(no)                        | panic(yes)                       | panic(yes)                       | panic(yes)                       | panic(yes)                       |\n",
      "+-----------------------------+---------------------------------+---------------------------------+---------------------------------+---------------------------------+---------------------------------+---------------------------------+---------------------------------+---------------------------------+---------------------------------+---------------------------------+---------------------------------+---------------------------------+---------------------------------+---------------------------------+---------------------------------+---------------------------------+---------------------------------+---------------------------------+---------------------------------+---------------------------------+---------------------------------+---------------------------------+---------------------------------+---------------------------------+---------------------------------+---------------------------------+---------------------------------+---------------------------------+---------------------------------+---------------------------------+---------------------------------+---------------------------------+----------------------------------+----------------------------------+----------------------------------+----------------------------------+----------------------------------+----------------------------------+----------------------------------+----------------------------------+----------------------------------+----------------------------------+----------------------------------+----------------------------------+----------------------------------+----------------------------------+----------------------------------+----------------------------------+----------------------------------+----------------------------------+----------------------------------+----------------------------------+----------------------------------+----------------------------------+----------------------------------+----------------------------------+----------------------------------+----------------------------------+----------------------------------+----------------------------------+----------------------------------+----------------------------------+----------------------------------+----------------------------------+---------------------------------+---------------------------------+---------------------------------+---------------------------------+---------------------------------+---------------------------------+---------------------------------+---------------------------------+---------------------------------+---------------------------------+---------------------------------+---------------------------------+---------------------------------+---------------------------------+---------------------------------+---------------------------------+---------------------------------+---------------------------------+---------------------------------+---------------------------------+---------------------------------+---------------------------------+---------------------------------+---------------------------------+---------------------------------+---------------------------------+---------------------------------+---------------------------------+---------------------------------+---------------------------------+---------------------------------+---------------------------------+----------------------------------+----------------------------------+----------------------------------+----------------------------------+----------------------------------+----------------------------------+----------------------------------+----------------------------------+----------------------------------+----------------------------------+----------------------------------+----------------------------------+----------------------------------+----------------------------------+----------------------------------+----------------------------------+----------------------------------+----------------------------------+----------------------------------+----------------------------------+----------------------------------+----------------------------------+----------------------------------+----------------------------------+----------------------------------+----------------------------------+----------------------------------+----------------------------------+----------------------------------+----------------------------------+----------------------------------+----------------------------------+\n",
      "| suicidal.thought            | suicidal.thought(no)            | suicidal.thought(no)            | suicidal.thought(yes)           | suicidal.thought(yes)           | suicidal.thought(no)            | suicidal.thought(no)            | suicidal.thought(yes)           | suicidal.thought(yes)           | suicidal.thought(no)            | suicidal.thought(no)            | suicidal.thought(yes)           | suicidal.thought(yes)           | suicidal.thought(no)            | suicidal.thought(no)            | suicidal.thought(yes)           | suicidal.thought(yes)           | suicidal.thought(no)            | suicidal.thought(no)            | suicidal.thought(yes)           | suicidal.thought(yes)           | suicidal.thought(no)            | suicidal.thought(no)            | suicidal.thought(yes)           | suicidal.thought(yes)           | suicidal.thought(no)            | suicidal.thought(no)            | suicidal.thought(yes)           | suicidal.thought(yes)           | suicidal.thought(no)            | suicidal.thought(no)            | suicidal.thought(yes)           | suicidal.thought(yes)           | suicidal.thought(no)             | suicidal.thought(no)             | suicidal.thought(yes)            | suicidal.thought(yes)            | suicidal.thought(no)             | suicidal.thought(no)             | suicidal.thought(yes)            | suicidal.thought(yes)            | suicidal.thought(no)             | suicidal.thought(no)             | suicidal.thought(yes)            | suicidal.thought(yes)            | suicidal.thought(no)             | suicidal.thought(no)             | suicidal.thought(yes)            | suicidal.thought(yes)            | suicidal.thought(no)             | suicidal.thought(no)             | suicidal.thought(yes)            | suicidal.thought(yes)            | suicidal.thought(no)             | suicidal.thought(no)             | suicidal.thought(yes)            | suicidal.thought(yes)            | suicidal.thought(no)             | suicidal.thought(no)             | suicidal.thought(yes)            | suicidal.thought(yes)            | suicidal.thought(no)             | suicidal.thought(no)             | suicidal.thought(yes)            | suicidal.thought(yes)            | suicidal.thought(no)            | suicidal.thought(no)            | suicidal.thought(yes)           | suicidal.thought(yes)           | suicidal.thought(no)            | suicidal.thought(no)            | suicidal.thought(yes)           | suicidal.thought(yes)           | suicidal.thought(no)            | suicidal.thought(no)            | suicidal.thought(yes)           | suicidal.thought(yes)           | suicidal.thought(no)            | suicidal.thought(no)            | suicidal.thought(yes)           | suicidal.thought(yes)           | suicidal.thought(no)            | suicidal.thought(no)            | suicidal.thought(yes)           | suicidal.thought(yes)           | suicidal.thought(no)            | suicidal.thought(no)            | suicidal.thought(yes)           | suicidal.thought(yes)           | suicidal.thought(no)            | suicidal.thought(no)            | suicidal.thought(yes)           | suicidal.thought(yes)           | suicidal.thought(no)            | suicidal.thought(no)            | suicidal.thought(yes)           | suicidal.thought(yes)           | suicidal.thought(no)             | suicidal.thought(no)             | suicidal.thought(yes)            | suicidal.thought(yes)            | suicidal.thought(no)             | suicidal.thought(no)             | suicidal.thought(yes)            | suicidal.thought(yes)            | suicidal.thought(no)             | suicidal.thought(no)             | suicidal.thought(yes)            | suicidal.thought(yes)            | suicidal.thought(no)             | suicidal.thought(no)             | suicidal.thought(yes)            | suicidal.thought(yes)            | suicidal.thought(no)             | suicidal.thought(no)             | suicidal.thought(yes)            | suicidal.thought(yes)            | suicidal.thought(no)             | suicidal.thought(no)             | suicidal.thought(yes)            | suicidal.thought(yes)            | suicidal.thought(no)             | suicidal.thought(no)             | suicidal.thought(yes)            | suicidal.thought(yes)            | suicidal.thought(no)             | suicidal.thought(no)             | suicidal.thought(yes)            | suicidal.thought(yes)            |\n",
      "+-----------------------------+---------------------------------+---------------------------------+---------------------------------+---------------------------------+---------------------------------+---------------------------------+---------------------------------+---------------------------------+---------------------------------+---------------------------------+---------------------------------+---------------------------------+---------------------------------+---------------------------------+---------------------------------+---------------------------------+---------------------------------+---------------------------------+---------------------------------+---------------------------------+---------------------------------+---------------------------------+---------------------------------+---------------------------------+---------------------------------+---------------------------------+---------------------------------+---------------------------------+---------------------------------+---------------------------------+---------------------------------+---------------------------------+----------------------------------+----------------------------------+----------------------------------+----------------------------------+----------------------------------+----------------------------------+----------------------------------+----------------------------------+----------------------------------+----------------------------------+----------------------------------+----------------------------------+----------------------------------+----------------------------------+----------------------------------+----------------------------------+----------------------------------+----------------------------------+----------------------------------+----------------------------------+----------------------------------+----------------------------------+----------------------------------+----------------------------------+----------------------------------+----------------------------------+----------------------------------+----------------------------------+----------------------------------+----------------------------------+----------------------------------+----------------------------------+---------------------------------+---------------------------------+---------------------------------+---------------------------------+---------------------------------+---------------------------------+---------------------------------+---------------------------------+---------------------------------+---------------------------------+---------------------------------+---------------------------------+---------------------------------+---------------------------------+---------------------------------+---------------------------------+---------------------------------+---------------------------------+---------------------------------+---------------------------------+---------------------------------+---------------------------------+---------------------------------+---------------------------------+---------------------------------+---------------------------------+---------------------------------+---------------------------------+---------------------------------+---------------------------------+---------------------------------+---------------------------------+----------------------------------+----------------------------------+----------------------------------+----------------------------------+----------------------------------+----------------------------------+----------------------------------+----------------------------------+----------------------------------+----------------------------------+----------------------------------+----------------------------------+----------------------------------+----------------------------------+----------------------------------+----------------------------------+----------------------------------+----------------------------------+----------------------------------+----------------------------------+----------------------------------+----------------------------------+----------------------------------+----------------------------------+----------------------------------+----------------------------------+----------------------------------+----------------------------------+----------------------------------+----------------------------------+----------------------------------+----------------------------------+\n",
      "| trouble.concentrating       | trouble.concentrating(no)       | trouble.concentrating(yes)      | trouble.concentrating(no)       | trouble.concentrating(yes)      | trouble.concentrating(no)       | trouble.concentrating(yes)      | trouble.concentrating(no)       | trouble.concentrating(yes)      | trouble.concentrating(no)       | trouble.concentrating(yes)      | trouble.concentrating(no)       | trouble.concentrating(yes)      | trouble.concentrating(no)       | trouble.concentrating(yes)      | trouble.concentrating(no)       | trouble.concentrating(yes)      | trouble.concentrating(no)       | trouble.concentrating(yes)      | trouble.concentrating(no)       | trouble.concentrating(yes)      | trouble.concentrating(no)       | trouble.concentrating(yes)      | trouble.concentrating(no)       | trouble.concentrating(yes)      | trouble.concentrating(no)       | trouble.concentrating(yes)      | trouble.concentrating(no)       | trouble.concentrating(yes)      | trouble.concentrating(no)       | trouble.concentrating(yes)      | trouble.concentrating(no)       | trouble.concentrating(yes)      | trouble.concentrating(no)        | trouble.concentrating(yes)       | trouble.concentrating(no)        | trouble.concentrating(yes)       | trouble.concentrating(no)        | trouble.concentrating(yes)       | trouble.concentrating(no)        | trouble.concentrating(yes)       | trouble.concentrating(no)        | trouble.concentrating(yes)       | trouble.concentrating(no)        | trouble.concentrating(yes)       | trouble.concentrating(no)        | trouble.concentrating(yes)       | trouble.concentrating(no)        | trouble.concentrating(yes)       | trouble.concentrating(no)        | trouble.concentrating(yes)       | trouble.concentrating(no)        | trouble.concentrating(yes)       | trouble.concentrating(no)        | trouble.concentrating(yes)       | trouble.concentrating(no)        | trouble.concentrating(yes)       | trouble.concentrating(no)        | trouble.concentrating(yes)       | trouble.concentrating(no)        | trouble.concentrating(yes)       | trouble.concentrating(no)        | trouble.concentrating(yes)       | trouble.concentrating(no)        | trouble.concentrating(yes)       | trouble.concentrating(no)       | trouble.concentrating(yes)      | trouble.concentrating(no)       | trouble.concentrating(yes)      | trouble.concentrating(no)       | trouble.concentrating(yes)      | trouble.concentrating(no)       | trouble.concentrating(yes)      | trouble.concentrating(no)       | trouble.concentrating(yes)      | trouble.concentrating(no)       | trouble.concentrating(yes)      | trouble.concentrating(no)       | trouble.concentrating(yes)      | trouble.concentrating(no)       | trouble.concentrating(yes)      | trouble.concentrating(no)       | trouble.concentrating(yes)      | trouble.concentrating(no)       | trouble.concentrating(yes)      | trouble.concentrating(no)       | trouble.concentrating(yes)      | trouble.concentrating(no)       | trouble.concentrating(yes)      | trouble.concentrating(no)       | trouble.concentrating(yes)      | trouble.concentrating(no)       | trouble.concentrating(yes)      | trouble.concentrating(no)       | trouble.concentrating(yes)      | trouble.concentrating(no)       | trouble.concentrating(yes)      | trouble.concentrating(no)        | trouble.concentrating(yes)       | trouble.concentrating(no)        | trouble.concentrating(yes)       | trouble.concentrating(no)        | trouble.concentrating(yes)       | trouble.concentrating(no)        | trouble.concentrating(yes)       | trouble.concentrating(no)        | trouble.concentrating(yes)       | trouble.concentrating(no)        | trouble.concentrating(yes)       | trouble.concentrating(no)        | trouble.concentrating(yes)       | trouble.concentrating(no)        | trouble.concentrating(yes)       | trouble.concentrating(no)        | trouble.concentrating(yes)       | trouble.concentrating(no)        | trouble.concentrating(yes)       | trouble.concentrating(no)        | trouble.concentrating(yes)       | trouble.concentrating(no)        | trouble.concentrating(yes)       | trouble.concentrating(no)        | trouble.concentrating(yes)       | trouble.concentrating(no)        | trouble.concentrating(yes)       | trouble.concentrating(no)        | trouble.concentrating(yes)       | trouble.concentrating(no)        | trouble.concentrating(yes)       |\n",
      "+-----------------------------+---------------------------------+---------------------------------+---------------------------------+---------------------------------+---------------------------------+---------------------------------+---------------------------------+---------------------------------+---------------------------------+---------------------------------+---------------------------------+---------------------------------+---------------------------------+---------------------------------+---------------------------------+---------------------------------+---------------------------------+---------------------------------+---------------------------------+---------------------------------+---------------------------------+---------------------------------+---------------------------------+---------------------------------+---------------------------------+---------------------------------+---------------------------------+---------------------------------+---------------------------------+---------------------------------+---------------------------------+---------------------------------+----------------------------------+----------------------------------+----------------------------------+----------------------------------+----------------------------------+----------------------------------+----------------------------------+----------------------------------+----------------------------------+----------------------------------+----------------------------------+----------------------------------+----------------------------------+----------------------------------+----------------------------------+----------------------------------+----------------------------------+----------------------------------+----------------------------------+----------------------------------+----------------------------------+----------------------------------+----------------------------------+----------------------------------+----------------------------------+----------------------------------+----------------------------------+----------------------------------+----------------------------------+----------------------------------+----------------------------------+----------------------------------+---------------------------------+---------------------------------+---------------------------------+---------------------------------+---------------------------------+---------------------------------+---------------------------------+---------------------------------+---------------------------------+---------------------------------+---------------------------------+---------------------------------+---------------------------------+---------------------------------+---------------------------------+---------------------------------+---------------------------------+---------------------------------+---------------------------------+---------------------------------+---------------------------------+---------------------------------+---------------------------------+---------------------------------+---------------------------------+---------------------------------+---------------------------------+---------------------------------+---------------------------------+---------------------------------+---------------------------------+---------------------------------+----------------------------------+----------------------------------+----------------------------------+----------------------------------+----------------------------------+----------------------------------+----------------------------------+----------------------------------+----------------------------------+----------------------------------+----------------------------------+----------------------------------+----------------------------------+----------------------------------+----------------------------------+----------------------------------+----------------------------------+----------------------------------+----------------------------------+----------------------------------+----------------------------------+----------------------------------+----------------------------------+----------------------------------+----------------------------------+----------------------------------+----------------------------------+----------------------------------+----------------------------------+----------------------------------+----------------------------------+----------------------------------+\n",
      "| Depression(no)              | 1.0                             | 0.5                             | 0.5                             | 0.5                             | 1.0                             | 0.5                             | 0.5                             | 0.5                             | 0.5                             | 0.5                             | 0.5                             | 0.5                             | 0.5                             | 0.5                             | 0.5                             | 0.5                             | 1.0                             | 0.5                             | 0.5                             | 0.5                             | 0.5                             | 0.5                             | 0.5                             | 0.5                             | 0.5                             | 0.5                             | 0.5                             | 0.5                             | 0.5                             | 0.5                             | 0.5                             | 0.5                             | 0.5                              | 1.0                              | 0.5                              | 0.5                              | 0.5                              | 0.5                              | 0.5                              | 0.5                              | 0.5                              | 0.5                              | 0.5                              | 0.5                              | 0.5                              | 0.5                              | 0.5                              | 0.5                              | 0.5                              | 0.5                              | 0.5                              | 0.5                              | 0.5                              | 0.5                              | 0.5                              | 0.5                              | 0.5                              | 0.5                              | 0.5                              | 0.5                              | 0.5                              | 0.5                              | 0.5                              | 0.5                              | 0.5                             | 0.5                             | 0.5                             | 0.5                             | 0.5                             | 0.5                             | 0.5                             | 0.5                             | 0.5                             | 0.5                             | 0.0                             | 0.5                             | 0.5                             | 0.5                             | 0.5                             | 0.5                             | 0.5                             | 0.5                             | 0.5                             | 0.5                             | 0.5                             | 0.5                             | 0.5                             | 0.5                             | 0.5                             | 0.5                             | 0.5                             | 0.5                             | 0.5                             | 0.5                             | 0.5                             | 0.5                             | 0.5                              | 0.5                              | 0.5                              | 0.5                              | 0.5                              | 0.5                              | 0.5                              | 0.5                              | 0.5                              | 0.5                              | 0.5                              | 0.5                              | 0.5                              | 0.5                              | 0.5                              | 0.5                              | 0.5                              | 0.5                              | 0.5                              | 0.5                              | 0.5                              | 0.5                              | 0.5                              | 0.5                              | 0.5                              | 0.5                              | 0.5                              | 0.5                              | 0.5                              | 0.5                              | 0.5                              | 0.5                              |\n",
      "+-----------------------------+---------------------------------+---------------------------------+---------------------------------+---------------------------------+---------------------------------+---------------------------------+---------------------------------+---------------------------------+---------------------------------+---------------------------------+---------------------------------+---------------------------------+---------------------------------+---------------------------------+---------------------------------+---------------------------------+---------------------------------+---------------------------------+---------------------------------+---------------------------------+---------------------------------+---------------------------------+---------------------------------+---------------------------------+---------------------------------+---------------------------------+---------------------------------+---------------------------------+---------------------------------+---------------------------------+---------------------------------+---------------------------------+----------------------------------+----------------------------------+----------------------------------+----------------------------------+----------------------------------+----------------------------------+----------------------------------+----------------------------------+----------------------------------+----------------------------------+----------------------------------+----------------------------------+----------------------------------+----------------------------------+----------------------------------+----------------------------------+----------------------------------+----------------------------------+----------------------------------+----------------------------------+----------------------------------+----------------------------------+----------------------------------+----------------------------------+----------------------------------+----------------------------------+----------------------------------+----------------------------------+----------------------------------+----------------------------------+----------------------------------+----------------------------------+---------------------------------+---------------------------------+---------------------------------+---------------------------------+---------------------------------+---------------------------------+---------------------------------+---------------------------------+---------------------------------+---------------------------------+---------------------------------+---------------------------------+---------------------------------+---------------------------------+---------------------------------+---------------------------------+---------------------------------+---------------------------------+---------------------------------+---------------------------------+---------------------------------+---------------------------------+---------------------------------+---------------------------------+---------------------------------+---------------------------------+---------------------------------+---------------------------------+---------------------------------+---------------------------------+---------------------------------+---------------------------------+----------------------------------+----------------------------------+----------------------------------+----------------------------------+----------------------------------+----------------------------------+----------------------------------+----------------------------------+----------------------------------+----------------------------------+----------------------------------+----------------------------------+----------------------------------+----------------------------------+----------------------------------+----------------------------------+----------------------------------+----------------------------------+----------------------------------+----------------------------------+----------------------------------+----------------------------------+----------------------------------+----------------------------------+----------------------------------+----------------------------------+----------------------------------+----------------------------------+----------------------------------+----------------------------------+----------------------------------+----------------------------------+\n",
      "| Depression(yes)             | 0.0                             | 0.5                             | 0.5                             | 0.5                             | 0.0                             | 0.5                             | 0.5                             | 0.5                             | 0.5                             | 0.5                             | 0.5                             | 0.5                             | 0.5                             | 0.5                             | 0.5                             | 0.5                             | 0.0                             | 0.5                             | 0.5                             | 0.5                             | 0.5                             | 0.5                             | 0.5                             | 0.5                             | 0.5                             | 0.5                             | 0.5                             | 0.5                             | 0.5                             | 0.5                             | 0.5                             | 0.5                             | 0.5                              | 0.0                              | 0.5                              | 0.5                              | 0.5                              | 0.5                              | 0.5                              | 0.5                              | 0.5                              | 0.5                              | 0.5                              | 0.5                              | 0.5                              | 0.5                              | 0.5                              | 0.5                              | 0.5                              | 0.5                              | 0.5                              | 0.5                              | 0.5                              | 0.5                              | 0.5                              | 0.5                              | 0.5                              | 0.5                              | 0.5                              | 0.5                              | 0.5                              | 0.5                              | 0.5                              | 0.5                              | 0.5                             | 0.5                             | 0.5                             | 0.5                             | 0.5                             | 0.5                             | 0.5                             | 0.5                             | 0.5                             | 0.5                             | 1.0                             | 0.5                             | 0.5                             | 0.5                             | 0.5                             | 0.5                             | 0.5                             | 0.5                             | 0.5                             | 0.5                             | 0.5                             | 0.5                             | 0.5                             | 0.5                             | 0.5                             | 0.5                             | 0.5                             | 0.5                             | 0.5                             | 0.5                             | 0.5                             | 0.5                             | 0.5                              | 0.5                              | 0.5                              | 0.5                              | 0.5                              | 0.5                              | 0.5                              | 0.5                              | 0.5                              | 0.5                              | 0.5                              | 0.5                              | 0.5                              | 0.5                              | 0.5                              | 0.5                              | 0.5                              | 0.5                              | 0.5                              | 0.5                              | 0.5                              | 0.5                              | 0.5                              | 0.5                              | 0.5                              | 0.5                              | 0.5                              | 0.5                              | 0.5                              | 0.5                              | 0.5                              | 0.5                              |\n",
      "+-----------------------------+---------------------------------+---------------------------------+---------------------------------+---------------------------------+---------------------------------+---------------------------------+---------------------------------+---------------------------------+---------------------------------+---------------------------------+---------------------------------+---------------------------------+---------------------------------+---------------------------------+---------------------------------+---------------------------------+---------------------------------+---------------------------------+---------------------------------+---------------------------------+---------------------------------+---------------------------------+---------------------------------+---------------------------------+---------------------------------+---------------------------------+---------------------------------+---------------------------------+---------------------------------+---------------------------------+---------------------------------+---------------------------------+----------------------------------+----------------------------------+----------------------------------+----------------------------------+----------------------------------+----------------------------------+----------------------------------+----------------------------------+----------------------------------+----------------------------------+----------------------------------+----------------------------------+----------------------------------+----------------------------------+----------------------------------+----------------------------------+----------------------------------+----------------------------------+----------------------------------+----------------------------------+----------------------------------+----------------------------------+----------------------------------+----------------------------------+----------------------------------+----------------------------------+----------------------------------+----------------------------------+----------------------------------+----------------------------------+----------------------------------+----------------------------------+---------------------------------+---------------------------------+---------------------------------+---------------------------------+---------------------------------+---------------------------------+---------------------------------+---------------------------------+---------------------------------+---------------------------------+---------------------------------+---------------------------------+---------------------------------+---------------------------------+---------------------------------+---------------------------------+---------------------------------+---------------------------------+---------------------------------+---------------------------------+---------------------------------+---------------------------------+---------------------------------+---------------------------------+---------------------------------+---------------------------------+---------------------------------+---------------------------------+---------------------------------+---------------------------------+---------------------------------+---------------------------------+----------------------------------+----------------------------------+----------------------------------+----------------------------------+----------------------------------+----------------------------------+----------------------------------+----------------------------------+----------------------------------+----------------------------------+----------------------------------+----------------------------------+----------------------------------+----------------------------------+----------------------------------+----------------------------------+----------------------------------+----------------------------------+----------------------------------+----------------------------------+----------------------------------+----------------------------------+----------------------------------+----------------------------------+----------------------------------+----------------------------------+----------------------------------+----------------------------------+----------------------------------+----------------------------------+----------------------------------+----------------------------------+\n",
      "+-----------------------------+---------------------------------+---------------------------------+---------------------------------+---------------------------------+---------------------------------+---------------------------------+---------------------------------+---------------------------------+---------------------------------+---------------------------------+---------------------------------+---------------------------------+---------------------------------+---------------------------------+---------------------------------+---------------------------------+---------------------------------+---------------------------------+---------------------------------+---------------------------------+---------------------------------+---------------------------------+---------------------------------+---------------------------------+---------------------------------+---------------------------------+---------------------------------+---------------------------------+---------------------------------+---------------------------------+---------------------------------+---------------------------------+----------------------------------+----------------------------------+----------------------------------+----------------------------------+----------------------------------+----------------------------------+----------------------------------+----------------------------------+----------------------------------+----------------------------------+----------------------------------+----------------------------------+----------------------------------+----------------------------------+----------------------------------+----------------------------------+----------------------------------+----------------------------------+----------------------------------+----------------------------------+----------------------------------+----------------------------------+----------------------------------+----------------------------------+----------------------------------+----------------------------------+----------------------------------+----------------------------------+----------------------------------+----------------------------------+----------------------------------+----------------------------------+---------------------------------+---------------------------------+---------------------------------+---------------------------------+---------------------------------+---------------------------------+---------------------------------+---------------------------------+---------------------------------+---------------------------------+---------------------------------+---------------------------------+---------------------------------+---------------------------------+---------------------------------+---------------------------------+---------------------------------+---------------------------------+---------------------------------+---------------------------------+---------------------------------+---------------------------------+---------------------------------+---------------------------------+---------------------------------+---------------------------------+---------------------------------+---------------------------------+---------------------------------+---------------------------------+---------------------------------+---------------------------------+----------------------------------+----------------------------------+----------------------------------+----------------------------------+----------------------------------+----------------------------------+----------------------------------+----------------------------------+----------------------------------+----------------------------------+----------------------------------+----------------------------------+----------------------------------+----------------------------------+----------------------------------+----------------------------------+----------------------------------+----------------------------------+----------------------------------+----------------------------------+----------------------------------+----------------------------------+----------------------------------+----------------------------------+----------------------------------+----------------------------------+----------------------------------+----------------------------------+----------------------------------+----------------------------------+----------------------------------+----------------------------------+\n",
      "| anger                       | anger(no)                       | anger(no)                       | anger(no)                       | anger(no)                       | anger(no)                       | anger(no)                       | anger(no)                       | anger(no)                       | anger(no)                       | anger(no)                       | anger(no)                       | anger(no)                       | anger(no)                       | anger(no)                       | anger(no)                       | anger(no)                       | anger(no)                       | anger(no)                       | anger(no)                       | anger(no)                       | anger(no)                       | anger(no)                       | anger(no)                       | anger(no)                       | anger(no)                       | anger(no)                       | anger(no)                       | anger(no)                       | anger(no)                       | anger(no)                       | anger(no)                       | anger(no)                       | anger(no)                        | anger(no)                        | anger(no)                        | anger(no)                        | anger(no)                        | anger(no)                        | anger(no)                        | anger(no)                        | anger(no)                        | anger(no)                        | anger(no)                        | anger(no)                        | anger(no)                        | anger(no)                        | anger(no)                        | anger(no)                        | anger(no)                        | anger(no)                        | anger(no)                        | anger(no)                        | anger(no)                        | anger(no)                        | anger(no)                        | anger(no)                        | anger(no)                        | anger(no)                        | anger(no)                        | anger(no)                        | anger(no)                        | anger(no)                        | anger(no)                        | anger(no)                        | anger(yes)                      | anger(yes)                      | anger(yes)                      | anger(yes)                      | anger(yes)                      | anger(yes)                      | anger(yes)                      | anger(yes)                      | anger(yes)                      | anger(yes)                      | anger(yes)                      | anger(yes)                      | anger(yes)                      | anger(yes)                      | anger(yes)                      | anger(yes)                      | anger(yes)                      | anger(yes)                      | anger(yes)                      | anger(yes)                      | anger(yes)                      | anger(yes)                      | anger(yes)                      | anger(yes)                      | anger(yes)                      | anger(yes)                      | anger(yes)                      | anger(yes)                      | anger(yes)                      | anger(yes)                      | anger(yes)                      | anger(yes)                      | anger(yes)                       | anger(yes)                       | anger(yes)                       | anger(yes)                       | anger(yes)                       | anger(yes)                       | anger(yes)                       | anger(yes)                       | anger(yes)                       | anger(yes)                       | anger(yes)                       | anger(yes)                       | anger(yes)                       | anger(yes)                       | anger(yes)                       | anger(yes)                       | anger(yes)                       | anger(yes)                       | anger(yes)                       | anger(yes)                       | anger(yes)                       | anger(yes)                       | anger(yes)                       | anger(yes)                       | anger(yes)                       | anger(yes)                       | anger(yes)                       | anger(yes)                       | anger(yes)                       | anger(yes)                       | anger(yes)                       | anger(yes)                       |\n",
      "+-----------------------------+---------------------------------+---------------------------------+---------------------------------+---------------------------------+---------------------------------+---------------------------------+---------------------------------+---------------------------------+---------------------------------+---------------------------------+---------------------------------+---------------------------------+---------------------------------+---------------------------------+---------------------------------+---------------------------------+---------------------------------+---------------------------------+---------------------------------+---------------------------------+---------------------------------+---------------------------------+---------------------------------+---------------------------------+---------------------------------+---------------------------------+---------------------------------+---------------------------------+---------------------------------+---------------------------------+---------------------------------+---------------------------------+----------------------------------+----------------------------------+----------------------------------+----------------------------------+----------------------------------+----------------------------------+----------------------------------+----------------------------------+----------------------------------+----------------------------------+----------------------------------+----------------------------------+----------------------------------+----------------------------------+----------------------------------+----------------------------------+----------------------------------+----------------------------------+----------------------------------+----------------------------------+----------------------------------+----------------------------------+----------------------------------+----------------------------------+----------------------------------+----------------------------------+----------------------------------+----------------------------------+----------------------------------+----------------------------------+----------------------------------+----------------------------------+---------------------------------+---------------------------------+---------------------------------+---------------------------------+---------------------------------+---------------------------------+---------------------------------+---------------------------------+---------------------------------+---------------------------------+---------------------------------+---------------------------------+---------------------------------+---------------------------------+---------------------------------+---------------------------------+---------------------------------+---------------------------------+---------------------------------+---------------------------------+---------------------------------+---------------------------------+---------------------------------+---------------------------------+---------------------------------+---------------------------------+---------------------------------+---------------------------------+---------------------------------+---------------------------------+---------------------------------+---------------------------------+----------------------------------+----------------------------------+----------------------------------+----------------------------------+----------------------------------+----------------------------------+----------------------------------+----------------------------------+----------------------------------+----------------------------------+----------------------------------+----------------------------------+----------------------------------+----------------------------------+----------------------------------+----------------------------------+----------------------------------+----------------------------------+----------------------------------+----------------------------------+----------------------------------+----------------------------------+----------------------------------+----------------------------------+----------------------------------+----------------------------------+----------------------------------+----------------------------------+----------------------------------+----------------------------------+----------------------------------+----------------------------------+\n",
      "| avoids.people.or.activities | avoids.people.or.activities(no) | avoids.people.or.activities(no) | avoids.people.or.activities(no) | avoids.people.or.activities(no) | avoids.people.or.activities(no) | avoids.people.or.activities(no) | avoids.people.or.activities(no) | avoids.people.or.activities(no) | avoids.people.or.activities(no) | avoids.people.or.activities(no) | avoids.people.or.activities(no) | avoids.people.or.activities(no) | avoids.people.or.activities(no) | avoids.people.or.activities(no) | avoids.people.or.activities(no) | avoids.people.or.activities(no) | avoids.people.or.activities(no) | avoids.people.or.activities(no) | avoids.people.or.activities(no) | avoids.people.or.activities(no) | avoids.people.or.activities(no) | avoids.people.or.activities(no) | avoids.people.or.activities(no) | avoids.people.or.activities(no) | avoids.people.or.activities(no) | avoids.people.or.activities(no) | avoids.people.or.activities(no) | avoids.people.or.activities(no) | avoids.people.or.activities(no) | avoids.people.or.activities(no) | avoids.people.or.activities(no) | avoids.people.or.activities(no) | avoids.people.or.activities(yes) | avoids.people.or.activities(yes) | avoids.people.or.activities(yes) | avoids.people.or.activities(yes) | avoids.people.or.activities(yes) | avoids.people.or.activities(yes) | avoids.people.or.activities(yes) | avoids.people.or.activities(yes) | avoids.people.or.activities(yes) | avoids.people.or.activities(yes) | avoids.people.or.activities(yes) | avoids.people.or.activities(yes) | avoids.people.or.activities(yes) | avoids.people.or.activities(yes) | avoids.people.or.activities(yes) | avoids.people.or.activities(yes) | avoids.people.or.activities(yes) | avoids.people.or.activities(yes) | avoids.people.or.activities(yes) | avoids.people.or.activities(yes) | avoids.people.or.activities(yes) | avoids.people.or.activities(yes) | avoids.people.or.activities(yes) | avoids.people.or.activities(yes) | avoids.people.or.activities(yes) | avoids.people.or.activities(yes) | avoids.people.or.activities(yes) | avoids.people.or.activities(yes) | avoids.people.or.activities(yes) | avoids.people.or.activities(yes) | avoids.people.or.activities(yes) | avoids.people.or.activities(yes) | avoids.people.or.activities(no) | avoids.people.or.activities(no) | avoids.people.or.activities(no) | avoids.people.or.activities(no) | avoids.people.or.activities(no) | avoids.people.or.activities(no) | avoids.people.or.activities(no) | avoids.people.or.activities(no) | avoids.people.or.activities(no) | avoids.people.or.activities(no) | avoids.people.or.activities(no) | avoids.people.or.activities(no) | avoids.people.or.activities(no) | avoids.people.or.activities(no) | avoids.people.or.activities(no) | avoids.people.or.activities(no) | avoids.people.or.activities(no) | avoids.people.or.activities(no) | avoids.people.or.activities(no) | avoids.people.or.activities(no) | avoids.people.or.activities(no) | avoids.people.or.activities(no) | avoids.people.or.activities(no) | avoids.people.or.activities(no) | avoids.people.or.activities(no) | avoids.people.or.activities(no) | avoids.people.or.activities(no) | avoids.people.or.activities(no) | avoids.people.or.activities(no) | avoids.people.or.activities(no) | avoids.people.or.activities(no) | avoids.people.or.activities(no) | avoids.people.or.activities(yes) | avoids.people.or.activities(yes) | avoids.people.or.activities(yes) | avoids.people.or.activities(yes) | avoids.people.or.activities(yes) | avoids.people.or.activities(yes) | avoids.people.or.activities(yes) | avoids.people.or.activities(yes) | avoids.people.or.activities(yes) | avoids.people.or.activities(yes) | avoids.people.or.activities(yes) | avoids.people.or.activities(yes) | avoids.people.or.activities(yes) | avoids.people.or.activities(yes) | avoids.people.or.activities(yes) | avoids.people.or.activities(yes) | avoids.people.or.activities(yes) | avoids.people.or.activities(yes) | avoids.people.or.activities(yes) | avoids.people.or.activities(yes) | avoids.people.or.activities(yes) | avoids.people.or.activities(yes) | avoids.people.or.activities(yes) | avoids.people.or.activities(yes) | avoids.people.or.activities(yes) | avoids.people.or.activities(yes) | avoids.people.or.activities(yes) | avoids.people.or.activities(yes) | avoids.people.or.activities(yes) | avoids.people.or.activities(yes) | avoids.people.or.activities(yes) | avoids.people.or.activities(yes) |\n",
      "+-----------------------------+---------------------------------+---------------------------------+---------------------------------+---------------------------------+---------------------------------+---------------------------------+---------------------------------+---------------------------------+---------------------------------+---------------------------------+---------------------------------+---------------------------------+---------------------------------+---------------------------------+---------------------------------+---------------------------------+---------------------------------+---------------------------------+---------------------------------+---------------------------------+---------------------------------+---------------------------------+---------------------------------+---------------------------------+---------------------------------+---------------------------------+---------------------------------+---------------------------------+---------------------------------+---------------------------------+---------------------------------+---------------------------------+----------------------------------+----------------------------------+----------------------------------+----------------------------------+----------------------------------+----------------------------------+----------------------------------+----------------------------------+----------------------------------+----------------------------------+----------------------------------+----------------------------------+----------------------------------+----------------------------------+----------------------------------+----------------------------------+----------------------------------+----------------------------------+----------------------------------+----------------------------------+----------------------------------+----------------------------------+----------------------------------+----------------------------------+----------------------------------+----------------------------------+----------------------------------+----------------------------------+----------------------------------+----------------------------------+----------------------------------+----------------------------------+---------------------------------+---------------------------------+---------------------------------+---------------------------------+---------------------------------+---------------------------------+---------------------------------+---------------------------------+---------------------------------+---------------------------------+---------------------------------+---------------------------------+---------------------------------+---------------------------------+---------------------------------+---------------------------------+---------------------------------+---------------------------------+---------------------------------+---------------------------------+---------------------------------+---------------------------------+---------------------------------+---------------------------------+---------------------------------+---------------------------------+---------------------------------+---------------------------------+---------------------------------+---------------------------------+---------------------------------+---------------------------------+----------------------------------+----------------------------------+----------------------------------+----------------------------------+----------------------------------+----------------------------------+----------------------------------+----------------------------------+----------------------------------+----------------------------------+----------------------------------+----------------------------------+----------------------------------+----------------------------------+----------------------------------+----------------------------------+----------------------------------+----------------------------------+----------------------------------+----------------------------------+----------------------------------+----------------------------------+----------------------------------+----------------------------------+----------------------------------+----------------------------------+----------------------------------+----------------------------------+----------------------------------+----------------------------------+----------------------------------+----------------------------------+\n",
      "| feeling.tired               | feeling.tired(no)               | feeling.tired(no)               | feeling.tired(no)               | feeling.tired(no)               | feeling.tired(no)               | feeling.tired(no)               | feeling.tired(no)               | feeling.tired(no)               | feeling.tired(no)               | feeling.tired(no)               | feeling.tired(no)               | feeling.tired(no)               | feeling.tired(no)               | feeling.tired(no)               | feeling.tired(no)               | feeling.tired(no)               | feeling.tired(yes)              | feeling.tired(yes)              | feeling.tired(yes)              | feeling.tired(yes)              | feeling.tired(yes)              | feeling.tired(yes)              | feeling.tired(yes)              | feeling.tired(yes)              | feeling.tired(yes)              | feeling.tired(yes)              | feeling.tired(yes)              | feeling.tired(yes)              | feeling.tired(yes)              | feeling.tired(yes)              | feeling.tired(yes)              | feeling.tired(yes)              | feeling.tired(no)                | feeling.tired(no)                | feeling.tired(no)                | feeling.tired(no)                | feeling.tired(no)                | feeling.tired(no)                | feeling.tired(no)                | feeling.tired(no)                | feeling.tired(no)                | feeling.tired(no)                | feeling.tired(no)                | feeling.tired(no)                | feeling.tired(no)                | feeling.tired(no)                | feeling.tired(no)                | feeling.tired(no)                | feeling.tired(yes)               | feeling.tired(yes)               | feeling.tired(yes)               | feeling.tired(yes)               | feeling.tired(yes)               | feeling.tired(yes)               | feeling.tired(yes)               | feeling.tired(yes)               | feeling.tired(yes)               | feeling.tired(yes)               | feeling.tired(yes)               | feeling.tired(yes)               | feeling.tired(yes)               | feeling.tired(yes)               | feeling.tired(yes)               | feeling.tired(yes)               | feeling.tired(no)               | feeling.tired(no)               | feeling.tired(no)               | feeling.tired(no)               | feeling.tired(no)               | feeling.tired(no)               | feeling.tired(no)               | feeling.tired(no)               | feeling.tired(no)               | feeling.tired(no)               | feeling.tired(no)               | feeling.tired(no)               | feeling.tired(no)               | feeling.tired(no)               | feeling.tired(no)               | feeling.tired(no)               | feeling.tired(yes)              | feeling.tired(yes)              | feeling.tired(yes)              | feeling.tired(yes)              | feeling.tired(yes)              | feeling.tired(yes)              | feeling.tired(yes)              | feeling.tired(yes)              | feeling.tired(yes)              | feeling.tired(yes)              | feeling.tired(yes)              | feeling.tired(yes)              | feeling.tired(yes)              | feeling.tired(yes)              | feeling.tired(yes)              | feeling.tired(yes)              | feeling.tired(no)                | feeling.tired(no)                | feeling.tired(no)                | feeling.tired(no)                | feeling.tired(no)                | feeling.tired(no)                | feeling.tired(no)                | feeling.tired(no)                | feeling.tired(no)                | feeling.tired(no)                | feeling.tired(no)                | feeling.tired(no)                | feeling.tired(no)                | feeling.tired(no)                | feeling.tired(no)                | feeling.tired(no)                | feeling.tired(yes)               | feeling.tired(yes)               | feeling.tired(yes)               | feeling.tired(yes)               | feeling.tired(yes)               | feeling.tired(yes)               | feeling.tired(yes)               | feeling.tired(yes)               | feeling.tired(yes)               | feeling.tired(yes)               | feeling.tired(yes)               | feeling.tired(yes)               | feeling.tired(yes)               | feeling.tired(yes)               | feeling.tired(yes)               | feeling.tired(yes)               |\n",
      "+-----------------------------+---------------------------------+---------------------------------+---------------------------------+---------------------------------+---------------------------------+---------------------------------+---------------------------------+---------------------------------+---------------------------------+---------------------------------+---------------------------------+---------------------------------+---------------------------------+---------------------------------+---------------------------------+---------------------------------+---------------------------------+---------------------------------+---------------------------------+---------------------------------+---------------------------------+---------------------------------+---------------------------------+---------------------------------+---------------------------------+---------------------------------+---------------------------------+---------------------------------+---------------------------------+---------------------------------+---------------------------------+---------------------------------+----------------------------------+----------------------------------+----------------------------------+----------------------------------+----------------------------------+----------------------------------+----------------------------------+----------------------------------+----------------------------------+----------------------------------+----------------------------------+----------------------------------+----------------------------------+----------------------------------+----------------------------------+----------------------------------+----------------------------------+----------------------------------+----------------------------------+----------------------------------+----------------------------------+----------------------------------+----------------------------------+----------------------------------+----------------------------------+----------------------------------+----------------------------------+----------------------------------+----------------------------------+----------------------------------+----------------------------------+----------------------------------+---------------------------------+---------------------------------+---------------------------------+---------------------------------+---------------------------------+---------------------------------+---------------------------------+---------------------------------+---------------------------------+---------------------------------+---------------------------------+---------------------------------+---------------------------------+---------------------------------+---------------------------------+---------------------------------+---------------------------------+---------------------------------+---------------------------------+---------------------------------+---------------------------------+---------------------------------+---------------------------------+---------------------------------+---------------------------------+---------------------------------+---------------------------------+---------------------------------+---------------------------------+---------------------------------+---------------------------------+---------------------------------+----------------------------------+----------------------------------+----------------------------------+----------------------------------+----------------------------------+----------------------------------+----------------------------------+----------------------------------+----------------------------------+----------------------------------+----------------------------------+----------------------------------+----------------------------------+----------------------------------+----------------------------------+----------------------------------+----------------------------------+----------------------------------+----------------------------------+----------------------------------+----------------------------------+----------------------------------+----------------------------------+----------------------------------+----------------------------------+----------------------------------+----------------------------------+----------------------------------+----------------------------------+----------------------------------+----------------------------------+----------------------------------+\n",
      "| hopelessness                | hopelessness(no)                | hopelessness(no)                | hopelessness(no)                | hopelessness(no)                | hopelessness(no)                | hopelessness(no)                | hopelessness(no)                | hopelessness(no)                | hopelessness(yes)               | hopelessness(yes)               | hopelessness(yes)               | hopelessness(yes)               | hopelessness(yes)               | hopelessness(yes)               | hopelessness(yes)               | hopelessness(yes)               | hopelessness(no)                | hopelessness(no)                | hopelessness(no)                | hopelessness(no)                | hopelessness(no)                | hopelessness(no)                | hopelessness(no)                | hopelessness(no)                | hopelessness(yes)               | hopelessness(yes)               | hopelessness(yes)               | hopelessness(yes)               | hopelessness(yes)               | hopelessness(yes)               | hopelessness(yes)               | hopelessness(yes)               | hopelessness(no)                 | hopelessness(no)                 | hopelessness(no)                 | hopelessness(no)                 | hopelessness(no)                 | hopelessness(no)                 | hopelessness(no)                 | hopelessness(no)                 | hopelessness(yes)                | hopelessness(yes)                | hopelessness(yes)                | hopelessness(yes)                | hopelessness(yes)                | hopelessness(yes)                | hopelessness(yes)                | hopelessness(yes)                | hopelessness(no)                 | hopelessness(no)                 | hopelessness(no)                 | hopelessness(no)                 | hopelessness(no)                 | hopelessness(no)                 | hopelessness(no)                 | hopelessness(no)                 | hopelessness(yes)                | hopelessness(yes)                | hopelessness(yes)                | hopelessness(yes)                | hopelessness(yes)                | hopelessness(yes)                | hopelessness(yes)                | hopelessness(yes)                | hopelessness(no)                | hopelessness(no)                | hopelessness(no)                | hopelessness(no)                | hopelessness(no)                | hopelessness(no)                | hopelessness(no)                | hopelessness(no)                | hopelessness(yes)               | hopelessness(yes)               | hopelessness(yes)               | hopelessness(yes)               | hopelessness(yes)               | hopelessness(yes)               | hopelessness(yes)               | hopelessness(yes)               | hopelessness(no)                | hopelessness(no)                | hopelessness(no)                | hopelessness(no)                | hopelessness(no)                | hopelessness(no)                | hopelessness(no)                | hopelessness(no)                | hopelessness(yes)               | hopelessness(yes)               | hopelessness(yes)               | hopelessness(yes)               | hopelessness(yes)               | hopelessness(yes)               | hopelessness(yes)               | hopelessness(yes)               | hopelessness(no)                 | hopelessness(no)                 | hopelessness(no)                 | hopelessness(no)                 | hopelessness(no)                 | hopelessness(no)                 | hopelessness(no)                 | hopelessness(no)                 | hopelessness(yes)                | hopelessness(yes)                | hopelessness(yes)                | hopelessness(yes)                | hopelessness(yes)                | hopelessness(yes)                | hopelessness(yes)                | hopelessness(yes)                | hopelessness(no)                 | hopelessness(no)                 | hopelessness(no)                 | hopelessness(no)                 | hopelessness(no)                 | hopelessness(no)                 | hopelessness(no)                 | hopelessness(no)                 | hopelessness(yes)                | hopelessness(yes)                | hopelessness(yes)                | hopelessness(yes)                | hopelessness(yes)                | hopelessness(yes)                | hopelessness(yes)                | hopelessness(yes)                |\n",
      "+-----------------------------+---------------------------------+---------------------------------+---------------------------------+---------------------------------+---------------------------------+---------------------------------+---------------------------------+---------------------------------+---------------------------------+---------------------------------+---------------------------------+---------------------------------+---------------------------------+---------------------------------+---------------------------------+---------------------------------+---------------------------------+---------------------------------+---------------------------------+---------------------------------+---------------------------------+---------------------------------+---------------------------------+---------------------------------+---------------------------------+---------------------------------+---------------------------------+---------------------------------+---------------------------------+---------------------------------+---------------------------------+---------------------------------+----------------------------------+----------------------------------+----------------------------------+----------------------------------+----------------------------------+----------------------------------+----------------------------------+----------------------------------+----------------------------------+----------------------------------+----------------------------------+----------------------------------+----------------------------------+----------------------------------+----------------------------------+----------------------------------+----------------------------------+----------------------------------+----------------------------------+----------------------------------+----------------------------------+----------------------------------+----------------------------------+----------------------------------+----------------------------------+----------------------------------+----------------------------------+----------------------------------+----------------------------------+----------------------------------+----------------------------------+----------------------------------+---------------------------------+---------------------------------+---------------------------------+---------------------------------+---------------------------------+---------------------------------+---------------------------------+---------------------------------+---------------------------------+---------------------------------+---------------------------------+---------------------------------+---------------------------------+---------------------------------+---------------------------------+---------------------------------+---------------------------------+---------------------------------+---------------------------------+---------------------------------+---------------------------------+---------------------------------+---------------------------------+---------------------------------+---------------------------------+---------------------------------+---------------------------------+---------------------------------+---------------------------------+---------------------------------+---------------------------------+---------------------------------+----------------------------------+----------------------------------+----------------------------------+----------------------------------+----------------------------------+----------------------------------+----------------------------------+----------------------------------+----------------------------------+----------------------------------+----------------------------------+----------------------------------+----------------------------------+----------------------------------+----------------------------------+----------------------------------+----------------------------------+----------------------------------+----------------------------------+----------------------------------+----------------------------------+----------------------------------+----------------------------------+----------------------------------+----------------------------------+----------------------------------+----------------------------------+----------------------------------+----------------------------------+----------------------------------+----------------------------------+----------------------------------+\n",
      "| panic                       | panic(no)                       | panic(no)                       | panic(no)                       | panic(no)                       | panic(yes)                      | panic(yes)                      | panic(yes)                      | panic(yes)                      | panic(no)                       | panic(no)                       | panic(no)                       | panic(no)                       | panic(yes)                      | panic(yes)                      | panic(yes)                      | panic(yes)                      | panic(no)                       | panic(no)                       | panic(no)                       | panic(no)                       | panic(yes)                      | panic(yes)                      | panic(yes)                      | panic(yes)                      | panic(no)                       | panic(no)                       | panic(no)                       | panic(no)                       | panic(yes)                      | panic(yes)                      | panic(yes)                      | panic(yes)                      | panic(no)                        | panic(no)                        | panic(no)                        | panic(no)                        | panic(yes)                       | panic(yes)                       | panic(yes)                       | panic(yes)                       | panic(no)                        | panic(no)                        | panic(no)                        | panic(no)                        | panic(yes)                       | panic(yes)                       | panic(yes)                       | panic(yes)                       | panic(no)                        | panic(no)                        | panic(no)                        | panic(no)                        | panic(yes)                       | panic(yes)                       | panic(yes)                       | panic(yes)                       | panic(no)                        | panic(no)                        | panic(no)                        | panic(no)                        | panic(yes)                       | panic(yes)                       | panic(yes)                       | panic(yes)                       | panic(no)                       | panic(no)                       | panic(no)                       | panic(no)                       | panic(yes)                      | panic(yes)                      | panic(yes)                      | panic(yes)                      | panic(no)                       | panic(no)                       | panic(no)                       | panic(no)                       | panic(yes)                      | panic(yes)                      | panic(yes)                      | panic(yes)                      | panic(no)                       | panic(no)                       | panic(no)                       | panic(no)                       | panic(yes)                      | panic(yes)                      | panic(yes)                      | panic(yes)                      | panic(no)                       | panic(no)                       | panic(no)                       | panic(no)                       | panic(yes)                      | panic(yes)                      | panic(yes)                      | panic(yes)                      | panic(no)                        | panic(no)                        | panic(no)                        | panic(no)                        | panic(yes)                       | panic(yes)                       | panic(yes)                       | panic(yes)                       | panic(no)                        | panic(no)                        | panic(no)                        | panic(no)                        | panic(yes)                       | panic(yes)                       | panic(yes)                       | panic(yes)                       | panic(no)                        | panic(no)                        | panic(no)                        | panic(no)                        | panic(yes)                       | panic(yes)                       | panic(yes)                       | panic(yes)                       | panic(no)                        | panic(no)                        | panic(no)                        | panic(no)                        | panic(yes)                       | panic(yes)                       | panic(yes)                       | panic(yes)                       |\n",
      "+-----------------------------+---------------------------------+---------------------------------+---------------------------------+---------------------------------+---------------------------------+---------------------------------+---------------------------------+---------------------------------+---------------------------------+---------------------------------+---------------------------------+---------------------------------+---------------------------------+---------------------------------+---------------------------------+---------------------------------+---------------------------------+---------------------------------+---------------------------------+---------------------------------+---------------------------------+---------------------------------+---------------------------------+---------------------------------+---------------------------------+---------------------------------+---------------------------------+---------------------------------+---------------------------------+---------------------------------+---------------------------------+---------------------------------+----------------------------------+----------------------------------+----------------------------------+----------------------------------+----------------------------------+----------------------------------+----------------------------------+----------------------------------+----------------------------------+----------------------------------+----------------------------------+----------------------------------+----------------------------------+----------------------------------+----------------------------------+----------------------------------+----------------------------------+----------------------------------+----------------------------------+----------------------------------+----------------------------------+----------------------------------+----------------------------------+----------------------------------+----------------------------------+----------------------------------+----------------------------------+----------------------------------+----------------------------------+----------------------------------+----------------------------------+----------------------------------+---------------------------------+---------------------------------+---------------------------------+---------------------------------+---------------------------------+---------------------------------+---------------------------------+---------------------------------+---------------------------------+---------------------------------+---------------------------------+---------------------------------+---------------------------------+---------------------------------+---------------------------------+---------------------------------+---------------------------------+---------------------------------+---------------------------------+---------------------------------+---------------------------------+---------------------------------+---------------------------------+---------------------------------+---------------------------------+---------------------------------+---------------------------------+---------------------------------+---------------------------------+---------------------------------+---------------------------------+---------------------------------+----------------------------------+----------------------------------+----------------------------------+----------------------------------+----------------------------------+----------------------------------+----------------------------------+----------------------------------+----------------------------------+----------------------------------+----------------------------------+----------------------------------+----------------------------------+----------------------------------+----------------------------------+----------------------------------+----------------------------------+----------------------------------+----------------------------------+----------------------------------+----------------------------------+----------------------------------+----------------------------------+----------------------------------+----------------------------------+----------------------------------+----------------------------------+----------------------------------+----------------------------------+----------------------------------+----------------------------------+----------------------------------+\n",
      "| suicidal.thought            | suicidal.thought(no)            | suicidal.thought(no)            | suicidal.thought(yes)           | suicidal.thought(yes)           | suicidal.thought(no)            | suicidal.thought(no)            | suicidal.thought(yes)           | suicidal.thought(yes)           | suicidal.thought(no)            | suicidal.thought(no)            | suicidal.thought(yes)           | suicidal.thought(yes)           | suicidal.thought(no)            | suicidal.thought(no)            | suicidal.thought(yes)           | suicidal.thought(yes)           | suicidal.thought(no)            | suicidal.thought(no)            | suicidal.thought(yes)           | suicidal.thought(yes)           | suicidal.thought(no)            | suicidal.thought(no)            | suicidal.thought(yes)           | suicidal.thought(yes)           | suicidal.thought(no)            | suicidal.thought(no)            | suicidal.thought(yes)           | suicidal.thought(yes)           | suicidal.thought(no)            | suicidal.thought(no)            | suicidal.thought(yes)           | suicidal.thought(yes)           | suicidal.thought(no)             | suicidal.thought(no)             | suicidal.thought(yes)            | suicidal.thought(yes)            | suicidal.thought(no)             | suicidal.thought(no)             | suicidal.thought(yes)            | suicidal.thought(yes)            | suicidal.thought(no)             | suicidal.thought(no)             | suicidal.thought(yes)            | suicidal.thought(yes)            | suicidal.thought(no)             | suicidal.thought(no)             | suicidal.thought(yes)            | suicidal.thought(yes)            | suicidal.thought(no)             | suicidal.thought(no)             | suicidal.thought(yes)            | suicidal.thought(yes)            | suicidal.thought(no)             | suicidal.thought(no)             | suicidal.thought(yes)            | suicidal.thought(yes)            | suicidal.thought(no)             | suicidal.thought(no)             | suicidal.thought(yes)            | suicidal.thought(yes)            | suicidal.thought(no)             | suicidal.thought(no)             | suicidal.thought(yes)            | suicidal.thought(yes)            | suicidal.thought(no)            | suicidal.thought(no)            | suicidal.thought(yes)           | suicidal.thought(yes)           | suicidal.thought(no)            | suicidal.thought(no)            | suicidal.thought(yes)           | suicidal.thought(yes)           | suicidal.thought(no)            | suicidal.thought(no)            | suicidal.thought(yes)           | suicidal.thought(yes)           | suicidal.thought(no)            | suicidal.thought(no)            | suicidal.thought(yes)           | suicidal.thought(yes)           | suicidal.thought(no)            | suicidal.thought(no)            | suicidal.thought(yes)           | suicidal.thought(yes)           | suicidal.thought(no)            | suicidal.thought(no)            | suicidal.thought(yes)           | suicidal.thought(yes)           | suicidal.thought(no)            | suicidal.thought(no)            | suicidal.thought(yes)           | suicidal.thought(yes)           | suicidal.thought(no)            | suicidal.thought(no)            | suicidal.thought(yes)           | suicidal.thought(yes)           | suicidal.thought(no)             | suicidal.thought(no)             | suicidal.thought(yes)            | suicidal.thought(yes)            | suicidal.thought(no)             | suicidal.thought(no)             | suicidal.thought(yes)            | suicidal.thought(yes)            | suicidal.thought(no)             | suicidal.thought(no)             | suicidal.thought(yes)            | suicidal.thought(yes)            | suicidal.thought(no)             | suicidal.thought(no)             | suicidal.thought(yes)            | suicidal.thought(yes)            | suicidal.thought(no)             | suicidal.thought(no)             | suicidal.thought(yes)            | suicidal.thought(yes)            | suicidal.thought(no)             | suicidal.thought(no)             | suicidal.thought(yes)            | suicidal.thought(yes)            | suicidal.thought(no)             | suicidal.thought(no)             | suicidal.thought(yes)            | suicidal.thought(yes)            | suicidal.thought(no)             | suicidal.thought(no)             | suicidal.thought(yes)            | suicidal.thought(yes)            |\n",
      "+-----------------------------+---------------------------------+---------------------------------+---------------------------------+---------------------------------+---------------------------------+---------------------------------+---------------------------------+---------------------------------+---------------------------------+---------------------------------+---------------------------------+---------------------------------+---------------------------------+---------------------------------+---------------------------------+---------------------------------+---------------------------------+---------------------------------+---------------------------------+---------------------------------+---------------------------------+---------------------------------+---------------------------------+---------------------------------+---------------------------------+---------------------------------+---------------------------------+---------------------------------+---------------------------------+---------------------------------+---------------------------------+---------------------------------+----------------------------------+----------------------------------+----------------------------------+----------------------------------+----------------------------------+----------------------------------+----------------------------------+----------------------------------+----------------------------------+----------------------------------+----------------------------------+----------------------------------+----------------------------------+----------------------------------+----------------------------------+----------------------------------+----------------------------------+----------------------------------+----------------------------------+----------------------------------+----------------------------------+----------------------------------+----------------------------------+----------------------------------+----------------------------------+----------------------------------+----------------------------------+----------------------------------+----------------------------------+----------------------------------+----------------------------------+----------------------------------+---------------------------------+---------------------------------+---------------------------------+---------------------------------+---------------------------------+---------------------------------+---------------------------------+---------------------------------+---------------------------------+---------------------------------+---------------------------------+---------------------------------+---------------------------------+---------------------------------+---------------------------------+---------------------------------+---------------------------------+---------------------------------+---------------------------------+---------------------------------+---------------------------------+---------------------------------+---------------------------------+---------------------------------+---------------------------------+---------------------------------+---------------------------------+---------------------------------+---------------------------------+---------------------------------+---------------------------------+---------------------------------+----------------------------------+----------------------------------+----------------------------------+----------------------------------+----------------------------------+----------------------------------+----------------------------------+----------------------------------+----------------------------------+----------------------------------+----------------------------------+----------------------------------+----------------------------------+----------------------------------+----------------------------------+----------------------------------+----------------------------------+----------------------------------+----------------------------------+----------------------------------+----------------------------------+----------------------------------+----------------------------------+----------------------------------+----------------------------------+----------------------------------+----------------------------------+----------------------------------+----------------------------------+----------------------------------+----------------------------------+----------------------------------+\n",
      "| trouble.concentrating       | trouble.concentrating(no)       | trouble.concentrating(yes)      | trouble.concentrating(no)       | trouble.concentrating(yes)      | trouble.concentrating(no)       | trouble.concentrating(yes)      | trouble.concentrating(no)       | trouble.concentrating(yes)      | trouble.concentrating(no)       | trouble.concentrating(yes)      | trouble.concentrating(no)       | trouble.concentrating(yes)      | trouble.concentrating(no)       | trouble.concentrating(yes)      | trouble.concentrating(no)       | trouble.concentrating(yes)      | trouble.concentrating(no)       | trouble.concentrating(yes)      | trouble.concentrating(no)       | trouble.concentrating(yes)      | trouble.concentrating(no)       | trouble.concentrating(yes)      | trouble.concentrating(no)       | trouble.concentrating(yes)      | trouble.concentrating(no)       | trouble.concentrating(yes)      | trouble.concentrating(no)       | trouble.concentrating(yes)      | trouble.concentrating(no)       | trouble.concentrating(yes)      | trouble.concentrating(no)       | trouble.concentrating(yes)      | trouble.concentrating(no)        | trouble.concentrating(yes)       | trouble.concentrating(no)        | trouble.concentrating(yes)       | trouble.concentrating(no)        | trouble.concentrating(yes)       | trouble.concentrating(no)        | trouble.concentrating(yes)       | trouble.concentrating(no)        | trouble.concentrating(yes)       | trouble.concentrating(no)        | trouble.concentrating(yes)       | trouble.concentrating(no)        | trouble.concentrating(yes)       | trouble.concentrating(no)        | trouble.concentrating(yes)       | trouble.concentrating(no)        | trouble.concentrating(yes)       | trouble.concentrating(no)        | trouble.concentrating(yes)       | trouble.concentrating(no)        | trouble.concentrating(yes)       | trouble.concentrating(no)        | trouble.concentrating(yes)       | trouble.concentrating(no)        | trouble.concentrating(yes)       | trouble.concentrating(no)        | trouble.concentrating(yes)       | trouble.concentrating(no)        | trouble.concentrating(yes)       | trouble.concentrating(no)        | trouble.concentrating(yes)       | trouble.concentrating(no)       | trouble.concentrating(yes)      | trouble.concentrating(no)       | trouble.concentrating(yes)      | trouble.concentrating(no)       | trouble.concentrating(yes)      | trouble.concentrating(no)       | trouble.concentrating(yes)      | trouble.concentrating(no)       | trouble.concentrating(yes)      | trouble.concentrating(no)       | trouble.concentrating(yes)      | trouble.concentrating(no)       | trouble.concentrating(yes)      | trouble.concentrating(no)       | trouble.concentrating(yes)      | trouble.concentrating(no)       | trouble.concentrating(yes)      | trouble.concentrating(no)       | trouble.concentrating(yes)      | trouble.concentrating(no)       | trouble.concentrating(yes)      | trouble.concentrating(no)       | trouble.concentrating(yes)      | trouble.concentrating(no)       | trouble.concentrating(yes)      | trouble.concentrating(no)       | trouble.concentrating(yes)      | trouble.concentrating(no)       | trouble.concentrating(yes)      | trouble.concentrating(no)       | trouble.concentrating(yes)      | trouble.concentrating(no)        | trouble.concentrating(yes)       | trouble.concentrating(no)        | trouble.concentrating(yes)       | trouble.concentrating(no)        | trouble.concentrating(yes)       | trouble.concentrating(no)        | trouble.concentrating(yes)       | trouble.concentrating(no)        | trouble.concentrating(yes)       | trouble.concentrating(no)        | trouble.concentrating(yes)       | trouble.concentrating(no)        | trouble.concentrating(yes)       | trouble.concentrating(no)        | trouble.concentrating(yes)       | trouble.concentrating(no)        | trouble.concentrating(yes)       | trouble.concentrating(no)        | trouble.concentrating(yes)       | trouble.concentrating(no)        | trouble.concentrating(yes)       | trouble.concentrating(no)        | trouble.concentrating(yes)       | trouble.concentrating(no)        | trouble.concentrating(yes)       | trouble.concentrating(no)        | trouble.concentrating(yes)       | trouble.concentrating(no)        | trouble.concentrating(yes)       | trouble.concentrating(no)        | trouble.concentrating(yes)       |\n",
      "+-----------------------------+---------------------------------+---------------------------------+---------------------------------+---------------------------------+---------------------------------+---------------------------------+---------------------------------+---------------------------------+---------------------------------+---------------------------------+---------------------------------+---------------------------------+---------------------------------+---------------------------------+---------------------------------+---------------------------------+---------------------------------+---------------------------------+---------------------------------+---------------------------------+---------------------------------+---------------------------------+---------------------------------+---------------------------------+---------------------------------+---------------------------------+---------------------------------+---------------------------------+---------------------------------+---------------------------------+---------------------------------+---------------------------------+----------------------------------+----------------------------------+----------------------------------+----------------------------------+----------------------------------+----------------------------------+----------------------------------+----------------------------------+----------------------------------+----------------------------------+----------------------------------+----------------------------------+----------------------------------+----------------------------------+----------------------------------+----------------------------------+----------------------------------+----------------------------------+----------------------------------+----------------------------------+----------------------------------+----------------------------------+----------------------------------+----------------------------------+----------------------------------+----------------------------------+----------------------------------+----------------------------------+----------------------------------+----------------------------------+----------------------------------+----------------------------------+---------------------------------+---------------------------------+---------------------------------+---------------------------------+---------------------------------+---------------------------------+---------------------------------+---------------------------------+---------------------------------+---------------------------------+---------------------------------+---------------------------------+---------------------------------+---------------------------------+---------------------------------+---------------------------------+---------------------------------+---------------------------------+---------------------------------+---------------------------------+---------------------------------+---------------------------------+---------------------------------+---------------------------------+---------------------------------+---------------------------------+---------------------------------+---------------------------------+---------------------------------+---------------------------------+---------------------------------+---------------------------------+----------------------------------+----------------------------------+----------------------------------+----------------------------------+----------------------------------+----------------------------------+----------------------------------+----------------------------------+----------------------------------+----------------------------------+----------------------------------+----------------------------------+----------------------------------+----------------------------------+----------------------------------+----------------------------------+----------------------------------+----------------------------------+----------------------------------+----------------------------------+----------------------------------+----------------------------------+----------------------------------+----------------------------------+----------------------------------+----------------------------------+----------------------------------+----------------------------------+----------------------------------+----------------------------------+----------------------------------+----------------------------------+\n",
      "| Stress(no)                  | 1.0                             | 0.5                             | 0.5                             | 0.5                             | 1.0                             | 0.5                             | 0.5                             | 0.5                             | 0.5                             | 0.5                             | 0.5                             | 0.5                             | 0.5                             | 0.5                             | 0.5                             | 0.5                             | 1.0                             | 0.5                             | 0.5                             | 0.5                             | 0.5                             | 0.5                             | 0.5                             | 0.5                             | 0.5                             | 0.5                             | 0.5                             | 0.5                             | 0.5                             | 0.5                             | 0.5                             | 0.5                             | 0.5                              | 0.0                              | 0.5                              | 0.5                              | 0.5                              | 0.5                              | 0.5                              | 0.5                              | 0.5                              | 0.5                              | 0.5                              | 0.5                              | 0.5                              | 0.5                              | 0.5                              | 0.5                              | 0.5                              | 0.5                              | 0.5                              | 0.5                              | 0.5                              | 0.5                              | 0.5                              | 0.5                              | 0.5                              | 0.5                              | 0.5                              | 0.5                              | 0.5                              | 0.5                              | 0.5                              | 0.5                              | 0.5                             | 0.5                             | 0.5                             | 0.5                             | 0.5                             | 0.5                             | 0.5                             | 0.5                             | 0.5                             | 0.5                             | 1.0                             | 0.5                             | 0.5                             | 0.5                             | 0.5                             | 0.5                             | 0.5                             | 0.5                             | 0.5                             | 0.5                             | 0.5                             | 0.5                             | 0.5                             | 0.5                             | 0.5                             | 0.5                             | 0.5                             | 0.5                             | 0.5                             | 0.5                             | 0.5                             | 0.5                             | 0.5                              | 0.5                              | 0.5                              | 0.5                              | 0.5                              | 0.5                              | 0.5                              | 0.5                              | 0.5                              | 0.5                              | 0.5                              | 0.5                              | 0.5                              | 0.5                              | 0.5                              | 0.5                              | 0.5                              | 0.5                              | 0.5                              | 0.5                              | 0.5                              | 0.5                              | 0.5                              | 0.5                              | 0.5                              | 0.5                              | 0.5                              | 0.5                              | 0.5                              | 0.5                              | 0.5                              | 0.5                              |\n",
      "+-----------------------------+---------------------------------+---------------------------------+---------------------------------+---------------------------------+---------------------------------+---------------------------------+---------------------------------+---------------------------------+---------------------------------+---------------------------------+---------------------------------+---------------------------------+---------------------------------+---------------------------------+---------------------------------+---------------------------------+---------------------------------+---------------------------------+---------------------------------+---------------------------------+---------------------------------+---------------------------------+---------------------------------+---------------------------------+---------------------------------+---------------------------------+---------------------------------+---------------------------------+---------------------------------+---------------------------------+---------------------------------+---------------------------------+----------------------------------+----------------------------------+----------------------------------+----------------------------------+----------------------------------+----------------------------------+----------------------------------+----------------------------------+----------------------------------+----------------------------------+----------------------------------+----------------------------------+----------------------------------+----------------------------------+----------------------------------+----------------------------------+----------------------------------+----------------------------------+----------------------------------+----------------------------------+----------------------------------+----------------------------------+----------------------------------+----------------------------------+----------------------------------+----------------------------------+----------------------------------+----------------------------------+----------------------------------+----------------------------------+----------------------------------+----------------------------------+---------------------------------+---------------------------------+---------------------------------+---------------------------------+---------------------------------+---------------------------------+---------------------------------+---------------------------------+---------------------------------+---------------------------------+---------------------------------+---------------------------------+---------------------------------+---------------------------------+---------------------------------+---------------------------------+---------------------------------+---------------------------------+---------------------------------+---------------------------------+---------------------------------+---------------------------------+---------------------------------+---------------------------------+---------------------------------+---------------------------------+---------------------------------+---------------------------------+---------------------------------+---------------------------------+---------------------------------+---------------------------------+----------------------------------+----------------------------------+----------------------------------+----------------------------------+----------------------------------+----------------------------------+----------------------------------+----------------------------------+----------------------------------+----------------------------------+----------------------------------+----------------------------------+----------------------------------+----------------------------------+----------------------------------+----------------------------------+----------------------------------+----------------------------------+----------------------------------+----------------------------------+----------------------------------+----------------------------------+----------------------------------+----------------------------------+----------------------------------+----------------------------------+----------------------------------+----------------------------------+----------------------------------+----------------------------------+----------------------------------+----------------------------------+\n",
      "| Stress(yes)                 | 0.0                             | 0.5                             | 0.5                             | 0.5                             | 0.0                             | 0.5                             | 0.5                             | 0.5                             | 0.5                             | 0.5                             | 0.5                             | 0.5                             | 0.5                             | 0.5                             | 0.5                             | 0.5                             | 0.0                             | 0.5                             | 0.5                             | 0.5                             | 0.5                             | 0.5                             | 0.5                             | 0.5                             | 0.5                             | 0.5                             | 0.5                             | 0.5                             | 0.5                             | 0.5                             | 0.5                             | 0.5                             | 0.5                              | 1.0                              | 0.5                              | 0.5                              | 0.5                              | 0.5                              | 0.5                              | 0.5                              | 0.5                              | 0.5                              | 0.5                              | 0.5                              | 0.5                              | 0.5                              | 0.5                              | 0.5                              | 0.5                              | 0.5                              | 0.5                              | 0.5                              | 0.5                              | 0.5                              | 0.5                              | 0.5                              | 0.5                              | 0.5                              | 0.5                              | 0.5                              | 0.5                              | 0.5                              | 0.5                              | 0.5                              | 0.5                             | 0.5                             | 0.5                             | 0.5                             | 0.5                             | 0.5                             | 0.5                             | 0.5                             | 0.5                             | 0.5                             | 0.0                             | 0.5                             | 0.5                             | 0.5                             | 0.5                             | 0.5                             | 0.5                             | 0.5                             | 0.5                             | 0.5                             | 0.5                             | 0.5                             | 0.5                             | 0.5                             | 0.5                             | 0.5                             | 0.5                             | 0.5                             | 0.5                             | 0.5                             | 0.5                             | 0.5                             | 0.5                              | 0.5                              | 0.5                              | 0.5                              | 0.5                              | 0.5                              | 0.5                              | 0.5                              | 0.5                              | 0.5                              | 0.5                              | 0.5                              | 0.5                              | 0.5                              | 0.5                              | 0.5                              | 0.5                              | 0.5                              | 0.5                              | 0.5                              | 0.5                              | 0.5                              | 0.5                              | 0.5                              | 0.5                              | 0.5                              | 0.5                              | 0.5                              | 0.5                              | 0.5                              | 0.5                              | 0.5                              |\n",
      "+-----------------------------+---------------------------------+---------------------------------+---------------------------------+---------------------------------+---------------------------------+---------------------------------+---------------------------------+---------------------------------+---------------------------------+---------------------------------+---------------------------------+---------------------------------+---------------------------------+---------------------------------+---------------------------------+---------------------------------+---------------------------------+---------------------------------+---------------------------------+---------------------------------+---------------------------------+---------------------------------+---------------------------------+---------------------------------+---------------------------------+---------------------------------+---------------------------------+---------------------------------+---------------------------------+---------------------------------+---------------------------------+---------------------------------+----------------------------------+----------------------------------+----------------------------------+----------------------------------+----------------------------------+----------------------------------+----------------------------------+----------------------------------+----------------------------------+----------------------------------+----------------------------------+----------------------------------+----------------------------------+----------------------------------+----------------------------------+----------------------------------+----------------------------------+----------------------------------+----------------------------------+----------------------------------+----------------------------------+----------------------------------+----------------------------------+----------------------------------+----------------------------------+----------------------------------+----------------------------------+----------------------------------+----------------------------------+----------------------------------+----------------------------------+----------------------------------+---------------------------------+---------------------------------+---------------------------------+---------------------------------+---------------------------------+---------------------------------+---------------------------------+---------------------------------+---------------------------------+---------------------------------+---------------------------------+---------------------------------+---------------------------------+---------------------------------+---------------------------------+---------------------------------+---------------------------------+---------------------------------+---------------------------------+---------------------------------+---------------------------------+---------------------------------+---------------------------------+---------------------------------+---------------------------------+---------------------------------+---------------------------------+---------------------------------+---------------------------------+---------------------------------+---------------------------------+---------------------------------+----------------------------------+----------------------------------+----------------------------------+----------------------------------+----------------------------------+----------------------------------+----------------------------------+----------------------------------+----------------------------------+----------------------------------+----------------------------------+----------------------------------+----------------------------------+----------------------------------+----------------------------------+----------------------------------+----------------------------------+----------------------------------+----------------------------------+----------------------------------+----------------------------------+----------------------------------+----------------------------------+----------------------------------+----------------------------------+----------------------------------+----------------------------------+----------------------------------+----------------------------------+----------------------------------+----------------------------------+----------------------------------+\n",
      "+-----------------------------+---------------------------------+---------------------------------+---------------------------------+---------------------------------+---------------------------------+---------------------------------+---------------------------------+---------------------------------+---------------------------------+---------------------------------+---------------------------------+---------------------------------+---------------------------------+---------------------------------+---------------------------------+---------------------------------+---------------------------------+---------------------------------+---------------------------------+---------------------------------+---------------------------------+---------------------------------+---------------------------------+---------------------------------+---------------------------------+---------------------------------+---------------------------------+---------------------------------+---------------------------------+---------------------------------+---------------------------------+---------------------------------+----------------------------------+----------------------------------+----------------------------------+----------------------------------+----------------------------------+----------------------------------+----------------------------------+----------------------------------+----------------------------------+----------------------------------+----------------------------------+----------------------------------+----------------------------------+----------------------------------+----------------------------------+----------------------------------+----------------------------------+----------------------------------+----------------------------------+----------------------------------+----------------------------------+----------------------------------+----------------------------------+----------------------------------+----------------------------------+----------------------------------+----------------------------------+----------------------------------+----------------------------------+----------------------------------+----------------------------------+----------------------------------+---------------------------------+---------------------------------+---------------------------------+---------------------------------+---------------------------------+---------------------------------+---------------------------------+---------------------------------+---------------------------------+---------------------------------+---------------------------------+---------------------------------+---------------------------------+---------------------------------+---------------------------------+---------------------------------+---------------------------------+---------------------------------+---------------------------------+---------------------------------+---------------------------------+---------------------------------+---------------------------------+---------------------------------+---------------------------------+---------------------------------+---------------------------------+---------------------------------+---------------------------------+---------------------------------+---------------------------------+---------------------------------+----------------------------------+----------------------------------+----------------------------------+----------------------------------+----------------------------------+----------------------------------+----------------------------------+----------------------------------+----------------------------------+----------------------------------+----------------------------------+----------------------------------+----------------------------------+----------------------------------+----------------------------------+----------------------------------+----------------------------------+----------------------------------+----------------------------------+----------------------------------+----------------------------------+----------------------------------+----------------------------------+----------------------------------+----------------------------------+----------------------------------+----------------------------------+----------------------------------+----------------------------------+----------------------------------+----------------------------------+----------------------------------+\n",
      "| anger                       | anger(no)                       | anger(no)                       | anger(no)                       | anger(no)                       | anger(no)                       | anger(no)                       | anger(no)                       | anger(no)                       | anger(no)                       | anger(no)                       | anger(no)                       | anger(no)                       | anger(no)                       | anger(no)                       | anger(no)                       | anger(no)                       | anger(no)                       | anger(no)                       | anger(no)                       | anger(no)                       | anger(no)                       | anger(no)                       | anger(no)                       | anger(no)                       | anger(no)                       | anger(no)                       | anger(no)                       | anger(no)                       | anger(no)                       | anger(no)                       | anger(no)                       | anger(no)                       | anger(no)                        | anger(no)                        | anger(no)                        | anger(no)                        | anger(no)                        | anger(no)                        | anger(no)                        | anger(no)                        | anger(no)                        | anger(no)                        | anger(no)                        | anger(no)                        | anger(no)                        | anger(no)                        | anger(no)                        | anger(no)                        | anger(no)                        | anger(no)                        | anger(no)                        | anger(no)                        | anger(no)                        | anger(no)                        | anger(no)                        | anger(no)                        | anger(no)                        | anger(no)                        | anger(no)                        | anger(no)                        | anger(no)                        | anger(no)                        | anger(no)                        | anger(no)                        | anger(yes)                      | anger(yes)                      | anger(yes)                      | anger(yes)                      | anger(yes)                      | anger(yes)                      | anger(yes)                      | anger(yes)                      | anger(yes)                      | anger(yes)                      | anger(yes)                      | anger(yes)                      | anger(yes)                      | anger(yes)                      | anger(yes)                      | anger(yes)                      | anger(yes)                      | anger(yes)                      | anger(yes)                      | anger(yes)                      | anger(yes)                      | anger(yes)                      | anger(yes)                      | anger(yes)                      | anger(yes)                      | anger(yes)                      | anger(yes)                      | anger(yes)                      | anger(yes)                      | anger(yes)                      | anger(yes)                      | anger(yes)                      | anger(yes)                       | anger(yes)                       | anger(yes)                       | anger(yes)                       | anger(yes)                       | anger(yes)                       | anger(yes)                       | anger(yes)                       | anger(yes)                       | anger(yes)                       | anger(yes)                       | anger(yes)                       | anger(yes)                       | anger(yes)                       | anger(yes)                       | anger(yes)                       | anger(yes)                       | anger(yes)                       | anger(yes)                       | anger(yes)                       | anger(yes)                       | anger(yes)                       | anger(yes)                       | anger(yes)                       | anger(yes)                       | anger(yes)                       | anger(yes)                       | anger(yes)                       | anger(yes)                       | anger(yes)                       | anger(yes)                       | anger(yes)                       |\n",
      "+-----------------------------+---------------------------------+---------------------------------+---------------------------------+---------------------------------+---------------------------------+---------------------------------+---------------------------------+---------------------------------+---------------------------------+---------------------------------+---------------------------------+---------------------------------+---------------------------------+---------------------------------+---------------------------------+---------------------------------+---------------------------------+---------------------------------+---------------------------------+---------------------------------+---------------------------------+---------------------------------+---------------------------------+---------------------------------+---------------------------------+---------------------------------+---------------------------------+---------------------------------+---------------------------------+---------------------------------+---------------------------------+---------------------------------+----------------------------------+----------------------------------+----------------------------------+----------------------------------+----------------------------------+----------------------------------+----------------------------------+----------------------------------+----------------------------------+----------------------------------+----------------------------------+----------------------------------+----------------------------------+----------------------------------+----------------------------------+----------------------------------+----------------------------------+----------------------------------+----------------------------------+----------------------------------+----------------------------------+----------------------------------+----------------------------------+----------------------------------+----------------------------------+----------------------------------+----------------------------------+----------------------------------+----------------------------------+----------------------------------+----------------------------------+----------------------------------+---------------------------------+---------------------------------+---------------------------------+---------------------------------+---------------------------------+---------------------------------+---------------------------------+---------------------------------+---------------------------------+---------------------------------+---------------------------------+---------------------------------+---------------------------------+---------------------------------+---------------------------------+---------------------------------+---------------------------------+---------------------------------+---------------------------------+---------------------------------+---------------------------------+---------------------------------+---------------------------------+---------------------------------+---------------------------------+---------------------------------+---------------------------------+---------------------------------+---------------------------------+---------------------------------+---------------------------------+---------------------------------+----------------------------------+----------------------------------+----------------------------------+----------------------------------+----------------------------------+----------------------------------+----------------------------------+----------------------------------+----------------------------------+----------------------------------+----------------------------------+----------------------------------+----------------------------------+----------------------------------+----------------------------------+----------------------------------+----------------------------------+----------------------------------+----------------------------------+----------------------------------+----------------------------------+----------------------------------+----------------------------------+----------------------------------+----------------------------------+----------------------------------+----------------------------------+----------------------------------+----------------------------------+----------------------------------+----------------------------------+----------------------------------+\n",
      "| avoids.people.or.activities | avoids.people.or.activities(no) | avoids.people.or.activities(no) | avoids.people.or.activities(no) | avoids.people.or.activities(no) | avoids.people.or.activities(no) | avoids.people.or.activities(no) | avoids.people.or.activities(no) | avoids.people.or.activities(no) | avoids.people.or.activities(no) | avoids.people.or.activities(no) | avoids.people.or.activities(no) | avoids.people.or.activities(no) | avoids.people.or.activities(no) | avoids.people.or.activities(no) | avoids.people.or.activities(no) | avoids.people.or.activities(no) | avoids.people.or.activities(no) | avoids.people.or.activities(no) | avoids.people.or.activities(no) | avoids.people.or.activities(no) | avoids.people.or.activities(no) | avoids.people.or.activities(no) | avoids.people.or.activities(no) | avoids.people.or.activities(no) | avoids.people.or.activities(no) | avoids.people.or.activities(no) | avoids.people.or.activities(no) | avoids.people.or.activities(no) | avoids.people.or.activities(no) | avoids.people.or.activities(no) | avoids.people.or.activities(no) | avoids.people.or.activities(no) | avoids.people.or.activities(yes) | avoids.people.or.activities(yes) | avoids.people.or.activities(yes) | avoids.people.or.activities(yes) | avoids.people.or.activities(yes) | avoids.people.or.activities(yes) | avoids.people.or.activities(yes) | avoids.people.or.activities(yes) | avoids.people.or.activities(yes) | avoids.people.or.activities(yes) | avoids.people.or.activities(yes) | avoids.people.or.activities(yes) | avoids.people.or.activities(yes) | avoids.people.or.activities(yes) | avoids.people.or.activities(yes) | avoids.people.or.activities(yes) | avoids.people.or.activities(yes) | avoids.people.or.activities(yes) | avoids.people.or.activities(yes) | avoids.people.or.activities(yes) | avoids.people.or.activities(yes) | avoids.people.or.activities(yes) | avoids.people.or.activities(yes) | avoids.people.or.activities(yes) | avoids.people.or.activities(yes) | avoids.people.or.activities(yes) | avoids.people.or.activities(yes) | avoids.people.or.activities(yes) | avoids.people.or.activities(yes) | avoids.people.or.activities(yes) | avoids.people.or.activities(yes) | avoids.people.or.activities(yes) | avoids.people.or.activities(no) | avoids.people.or.activities(no) | avoids.people.or.activities(no) | avoids.people.or.activities(no) | avoids.people.or.activities(no) | avoids.people.or.activities(no) | avoids.people.or.activities(no) | avoids.people.or.activities(no) | avoids.people.or.activities(no) | avoids.people.or.activities(no) | avoids.people.or.activities(no) | avoids.people.or.activities(no) | avoids.people.or.activities(no) | avoids.people.or.activities(no) | avoids.people.or.activities(no) | avoids.people.or.activities(no) | avoids.people.or.activities(no) | avoids.people.or.activities(no) | avoids.people.or.activities(no) | avoids.people.or.activities(no) | avoids.people.or.activities(no) | avoids.people.or.activities(no) | avoids.people.or.activities(no) | avoids.people.or.activities(no) | avoids.people.or.activities(no) | avoids.people.or.activities(no) | avoids.people.or.activities(no) | avoids.people.or.activities(no) | avoids.people.or.activities(no) | avoids.people.or.activities(no) | avoids.people.or.activities(no) | avoids.people.or.activities(no) | avoids.people.or.activities(yes) | avoids.people.or.activities(yes) | avoids.people.or.activities(yes) | avoids.people.or.activities(yes) | avoids.people.or.activities(yes) | avoids.people.or.activities(yes) | avoids.people.or.activities(yes) | avoids.people.or.activities(yes) | avoids.people.or.activities(yes) | avoids.people.or.activities(yes) | avoids.people.or.activities(yes) | avoids.people.or.activities(yes) | avoids.people.or.activities(yes) | avoids.people.or.activities(yes) | avoids.people.or.activities(yes) | avoids.people.or.activities(yes) | avoids.people.or.activities(yes) | avoids.people.or.activities(yes) | avoids.people.or.activities(yes) | avoids.people.or.activities(yes) | avoids.people.or.activities(yes) | avoids.people.or.activities(yes) | avoids.people.or.activities(yes) | avoids.people.or.activities(yes) | avoids.people.or.activities(yes) | avoids.people.or.activities(yes) | avoids.people.or.activities(yes) | avoids.people.or.activities(yes) | avoids.people.or.activities(yes) | avoids.people.or.activities(yes) | avoids.people.or.activities(yes) | avoids.people.or.activities(yes) |\n",
      "+-----------------------------+---------------------------------+---------------------------------+---------------------------------+---------------------------------+---------------------------------+---------------------------------+---------------------------------+---------------------------------+---------------------------------+---------------------------------+---------------------------------+---------------------------------+---------------------------------+---------------------------------+---------------------------------+---------------------------------+---------------------------------+---------------------------------+---------------------------------+---------------------------------+---------------------------------+---------------------------------+---------------------------------+---------------------------------+---------------------------------+---------------------------------+---------------------------------+---------------------------------+---------------------------------+---------------------------------+---------------------------------+---------------------------------+----------------------------------+----------------------------------+----------------------------------+----------------------------------+----------------------------------+----------------------------------+----------------------------------+----------------------------------+----------------------------------+----------------------------------+----------------------------------+----------------------------------+----------------------------------+----------------------------------+----------------------------------+----------------------------------+----------------------------------+----------------------------------+----------------------------------+----------------------------------+----------------------------------+----------------------------------+----------------------------------+----------------------------------+----------------------------------+----------------------------------+----------------------------------+----------------------------------+----------------------------------+----------------------------------+----------------------------------+----------------------------------+---------------------------------+---------------------------------+---------------------------------+---------------------------------+---------------------------------+---------------------------------+---------------------------------+---------------------------------+---------------------------------+---------------------------------+---------------------------------+---------------------------------+---------------------------------+---------------------------------+---------------------------------+---------------------------------+---------------------------------+---------------------------------+---------------------------------+---------------------------------+---------------------------------+---------------------------------+---------------------------------+---------------------------------+---------------------------------+---------------------------------+---------------------------------+---------------------------------+---------------------------------+---------------------------------+---------------------------------+---------------------------------+----------------------------------+----------------------------------+----------------------------------+----------------------------------+----------------------------------+----------------------------------+----------------------------------+----------------------------------+----------------------------------+----------------------------------+----------------------------------+----------------------------------+----------------------------------+----------------------------------+----------------------------------+----------------------------------+----------------------------------+----------------------------------+----------------------------------+----------------------------------+----------------------------------+----------------------------------+----------------------------------+----------------------------------+----------------------------------+----------------------------------+----------------------------------+----------------------------------+----------------------------------+----------------------------------+----------------------------------+----------------------------------+\n",
      "| feeling.tired               | feeling.tired(no)               | feeling.tired(no)               | feeling.tired(no)               | feeling.tired(no)               | feeling.tired(no)               | feeling.tired(no)               | feeling.tired(no)               | feeling.tired(no)               | feeling.tired(no)               | feeling.tired(no)               | feeling.tired(no)               | feeling.tired(no)               | feeling.tired(no)               | feeling.tired(no)               | feeling.tired(no)               | feeling.tired(no)               | feeling.tired(yes)              | feeling.tired(yes)              | feeling.tired(yes)              | feeling.tired(yes)              | feeling.tired(yes)              | feeling.tired(yes)              | feeling.tired(yes)              | feeling.tired(yes)              | feeling.tired(yes)              | feeling.tired(yes)              | feeling.tired(yes)              | feeling.tired(yes)              | feeling.tired(yes)              | feeling.tired(yes)              | feeling.tired(yes)              | feeling.tired(yes)              | feeling.tired(no)                | feeling.tired(no)                | feeling.tired(no)                | feeling.tired(no)                | feeling.tired(no)                | feeling.tired(no)                | feeling.tired(no)                | feeling.tired(no)                | feeling.tired(no)                | feeling.tired(no)                | feeling.tired(no)                | feeling.tired(no)                | feeling.tired(no)                | feeling.tired(no)                | feeling.tired(no)                | feeling.tired(no)                | feeling.tired(yes)               | feeling.tired(yes)               | feeling.tired(yes)               | feeling.tired(yes)               | feeling.tired(yes)               | feeling.tired(yes)               | feeling.tired(yes)               | feeling.tired(yes)               | feeling.tired(yes)               | feeling.tired(yes)               | feeling.tired(yes)               | feeling.tired(yes)               | feeling.tired(yes)               | feeling.tired(yes)               | feeling.tired(yes)               | feeling.tired(yes)               | feeling.tired(no)               | feeling.tired(no)               | feeling.tired(no)               | feeling.tired(no)               | feeling.tired(no)               | feeling.tired(no)               | feeling.tired(no)               | feeling.tired(no)               | feeling.tired(no)               | feeling.tired(no)               | feeling.tired(no)               | feeling.tired(no)               | feeling.tired(no)               | feeling.tired(no)               | feeling.tired(no)               | feeling.tired(no)               | feeling.tired(yes)              | feeling.tired(yes)              | feeling.tired(yes)              | feeling.tired(yes)              | feeling.tired(yes)              | feeling.tired(yes)              | feeling.tired(yes)              | feeling.tired(yes)              | feeling.tired(yes)              | feeling.tired(yes)              | feeling.tired(yes)              | feeling.tired(yes)              | feeling.tired(yes)              | feeling.tired(yes)              | feeling.tired(yes)              | feeling.tired(yes)              | feeling.tired(no)                | feeling.tired(no)                | feeling.tired(no)                | feeling.tired(no)                | feeling.tired(no)                | feeling.tired(no)                | feeling.tired(no)                | feeling.tired(no)                | feeling.tired(no)                | feeling.tired(no)                | feeling.tired(no)                | feeling.tired(no)                | feeling.tired(no)                | feeling.tired(no)                | feeling.tired(no)                | feeling.tired(no)                | feeling.tired(yes)               | feeling.tired(yes)               | feeling.tired(yes)               | feeling.tired(yes)               | feeling.tired(yes)               | feeling.tired(yes)               | feeling.tired(yes)               | feeling.tired(yes)               | feeling.tired(yes)               | feeling.tired(yes)               | feeling.tired(yes)               | feeling.tired(yes)               | feeling.tired(yes)               | feeling.tired(yes)               | feeling.tired(yes)               | feeling.tired(yes)               |\n",
      "+-----------------------------+---------------------------------+---------------------------------+---------------------------------+---------------------------------+---------------------------------+---------------------------------+---------------------------------+---------------------------------+---------------------------------+---------------------------------+---------------------------------+---------------------------------+---------------------------------+---------------------------------+---------------------------------+---------------------------------+---------------------------------+---------------------------------+---------------------------------+---------------------------------+---------------------------------+---------------------------------+---------------------------------+---------------------------------+---------------------------------+---------------------------------+---------------------------------+---------------------------------+---------------------------------+---------------------------------+---------------------------------+---------------------------------+----------------------------------+----------------------------------+----------------------------------+----------------------------------+----------------------------------+----------------------------------+----------------------------------+----------------------------------+----------------------------------+----------------------------------+----------------------------------+----------------------------------+----------------------------------+----------------------------------+----------------------------------+----------------------------------+----------------------------------+----------------------------------+----------------------------------+----------------------------------+----------------------------------+----------------------------------+----------------------------------+----------------------------------+----------------------------------+----------------------------------+----------------------------------+----------------------------------+----------------------------------+----------------------------------+----------------------------------+----------------------------------+---------------------------------+---------------------------------+---------------------------------+---------------------------------+---------------------------------+---------------------------------+---------------------------------+---------------------------------+---------------------------------+---------------------------------+---------------------------------+---------------------------------+---------------------------------+---------------------------------+---------------------------------+---------------------------------+---------------------------------+---------------------------------+---------------------------------+---------------------------------+---------------------------------+---------------------------------+---------------------------------+---------------------------------+---------------------------------+---------------------------------+---------------------------------+---------------------------------+---------------------------------+---------------------------------+---------------------------------+---------------------------------+----------------------------------+----------------------------------+----------------------------------+----------------------------------+----------------------------------+----------------------------------+----------------------------------+----------------------------------+----------------------------------+----------------------------------+----------------------------------+----------------------------------+----------------------------------+----------------------------------+----------------------------------+----------------------------------+----------------------------------+----------------------------------+----------------------------------+----------------------------------+----------------------------------+----------------------------------+----------------------------------+----------------------------------+----------------------------------+----------------------------------+----------------------------------+----------------------------------+----------------------------------+----------------------------------+----------------------------------+----------------------------------+\n",
      "| hopelessness                | hopelessness(no)                | hopelessness(no)                | hopelessness(no)                | hopelessness(no)                | hopelessness(no)                | hopelessness(no)                | hopelessness(no)                | hopelessness(no)                | hopelessness(yes)               | hopelessness(yes)               | hopelessness(yes)               | hopelessness(yes)               | hopelessness(yes)               | hopelessness(yes)               | hopelessness(yes)               | hopelessness(yes)               | hopelessness(no)                | hopelessness(no)                | hopelessness(no)                | hopelessness(no)                | hopelessness(no)                | hopelessness(no)                | hopelessness(no)                | hopelessness(no)                | hopelessness(yes)               | hopelessness(yes)               | hopelessness(yes)               | hopelessness(yes)               | hopelessness(yes)               | hopelessness(yes)               | hopelessness(yes)               | hopelessness(yes)               | hopelessness(no)                 | hopelessness(no)                 | hopelessness(no)                 | hopelessness(no)                 | hopelessness(no)                 | hopelessness(no)                 | hopelessness(no)                 | hopelessness(no)                 | hopelessness(yes)                | hopelessness(yes)                | hopelessness(yes)                | hopelessness(yes)                | hopelessness(yes)                | hopelessness(yes)                | hopelessness(yes)                | hopelessness(yes)                | hopelessness(no)                 | hopelessness(no)                 | hopelessness(no)                 | hopelessness(no)                 | hopelessness(no)                 | hopelessness(no)                 | hopelessness(no)                 | hopelessness(no)                 | hopelessness(yes)                | hopelessness(yes)                | hopelessness(yes)                | hopelessness(yes)                | hopelessness(yes)                | hopelessness(yes)                | hopelessness(yes)                | hopelessness(yes)                | hopelessness(no)                | hopelessness(no)                | hopelessness(no)                | hopelessness(no)                | hopelessness(no)                | hopelessness(no)                | hopelessness(no)                | hopelessness(no)                | hopelessness(yes)               | hopelessness(yes)               | hopelessness(yes)               | hopelessness(yes)               | hopelessness(yes)               | hopelessness(yes)               | hopelessness(yes)               | hopelessness(yes)               | hopelessness(no)                | hopelessness(no)                | hopelessness(no)                | hopelessness(no)                | hopelessness(no)                | hopelessness(no)                | hopelessness(no)                | hopelessness(no)                | hopelessness(yes)               | hopelessness(yes)               | hopelessness(yes)               | hopelessness(yes)               | hopelessness(yes)               | hopelessness(yes)               | hopelessness(yes)               | hopelessness(yes)               | hopelessness(no)                 | hopelessness(no)                 | hopelessness(no)                 | hopelessness(no)                 | hopelessness(no)                 | hopelessness(no)                 | hopelessness(no)                 | hopelessness(no)                 | hopelessness(yes)                | hopelessness(yes)                | hopelessness(yes)                | hopelessness(yes)                | hopelessness(yes)                | hopelessness(yes)                | hopelessness(yes)                | hopelessness(yes)                | hopelessness(no)                 | hopelessness(no)                 | hopelessness(no)                 | hopelessness(no)                 | hopelessness(no)                 | hopelessness(no)                 | hopelessness(no)                 | hopelessness(no)                 | hopelessness(yes)                | hopelessness(yes)                | hopelessness(yes)                | hopelessness(yes)                | hopelessness(yes)                | hopelessness(yes)                | hopelessness(yes)                | hopelessness(yes)                |\n",
      "+-----------------------------+---------------------------------+---------------------------------+---------------------------------+---------------------------------+---------------------------------+---------------------------------+---------------------------------+---------------------------------+---------------------------------+---------------------------------+---------------------------------+---------------------------------+---------------------------------+---------------------------------+---------------------------------+---------------------------------+---------------------------------+---------------------------------+---------------------------------+---------------------------------+---------------------------------+---------------------------------+---------------------------------+---------------------------------+---------------------------------+---------------------------------+---------------------------------+---------------------------------+---------------------------------+---------------------------------+---------------------------------+---------------------------------+----------------------------------+----------------------------------+----------------------------------+----------------------------------+----------------------------------+----------------------------------+----------------------------------+----------------------------------+----------------------------------+----------------------------------+----------------------------------+----------------------------------+----------------------------------+----------------------------------+----------------------------------+----------------------------------+----------------------------------+----------------------------------+----------------------------------+----------------------------------+----------------------------------+----------------------------------+----------------------------------+----------------------------------+----------------------------------+----------------------------------+----------------------------------+----------------------------------+----------------------------------+----------------------------------+----------------------------------+----------------------------------+---------------------------------+---------------------------------+---------------------------------+---------------------------------+---------------------------------+---------------------------------+---------------------------------+---------------------------------+---------------------------------+---------------------------------+---------------------------------+---------------------------------+---------------------------------+---------------------------------+---------------------------------+---------------------------------+---------------------------------+---------------------------------+---------------------------------+---------------------------------+---------------------------------+---------------------------------+---------------------------------+---------------------------------+---------------------------------+---------------------------------+---------------------------------+---------------------------------+---------------------------------+---------------------------------+---------------------------------+---------------------------------+----------------------------------+----------------------------------+----------------------------------+----------------------------------+----------------------------------+----------------------------------+----------------------------------+----------------------------------+----------------------------------+----------------------------------+----------------------------------+----------------------------------+----------------------------------+----------------------------------+----------------------------------+----------------------------------+----------------------------------+----------------------------------+----------------------------------+----------------------------------+----------------------------------+----------------------------------+----------------------------------+----------------------------------+----------------------------------+----------------------------------+----------------------------------+----------------------------------+----------------------------------+----------------------------------+----------------------------------+----------------------------------+\n",
      "| panic                       | panic(no)                       | panic(no)                       | panic(no)                       | panic(no)                       | panic(yes)                      | panic(yes)                      | panic(yes)                      | panic(yes)                      | panic(no)                       | panic(no)                       | panic(no)                       | panic(no)                       | panic(yes)                      | panic(yes)                      | panic(yes)                      | panic(yes)                      | panic(no)                       | panic(no)                       | panic(no)                       | panic(no)                       | panic(yes)                      | panic(yes)                      | panic(yes)                      | panic(yes)                      | panic(no)                       | panic(no)                       | panic(no)                       | panic(no)                       | panic(yes)                      | panic(yes)                      | panic(yes)                      | panic(yes)                      | panic(no)                        | panic(no)                        | panic(no)                        | panic(no)                        | panic(yes)                       | panic(yes)                       | panic(yes)                       | panic(yes)                       | panic(no)                        | panic(no)                        | panic(no)                        | panic(no)                        | panic(yes)                       | panic(yes)                       | panic(yes)                       | panic(yes)                       | panic(no)                        | panic(no)                        | panic(no)                        | panic(no)                        | panic(yes)                       | panic(yes)                       | panic(yes)                       | panic(yes)                       | panic(no)                        | panic(no)                        | panic(no)                        | panic(no)                        | panic(yes)                       | panic(yes)                       | panic(yes)                       | panic(yes)                       | panic(no)                       | panic(no)                       | panic(no)                       | panic(no)                       | panic(yes)                      | panic(yes)                      | panic(yes)                      | panic(yes)                      | panic(no)                       | panic(no)                       | panic(no)                       | panic(no)                       | panic(yes)                      | panic(yes)                      | panic(yes)                      | panic(yes)                      | panic(no)                       | panic(no)                       | panic(no)                       | panic(no)                       | panic(yes)                      | panic(yes)                      | panic(yes)                      | panic(yes)                      | panic(no)                       | panic(no)                       | panic(no)                       | panic(no)                       | panic(yes)                      | panic(yes)                      | panic(yes)                      | panic(yes)                      | panic(no)                        | panic(no)                        | panic(no)                        | panic(no)                        | panic(yes)                       | panic(yes)                       | panic(yes)                       | panic(yes)                       | panic(no)                        | panic(no)                        | panic(no)                        | panic(no)                        | panic(yes)                       | panic(yes)                       | panic(yes)                       | panic(yes)                       | panic(no)                        | panic(no)                        | panic(no)                        | panic(no)                        | panic(yes)                       | panic(yes)                       | panic(yes)                       | panic(yes)                       | panic(no)                        | panic(no)                        | panic(no)                        | panic(no)                        | panic(yes)                       | panic(yes)                       | panic(yes)                       | panic(yes)                       |\n",
      "+-----------------------------+---------------------------------+---------------------------------+---------------------------------+---------------------------------+---------------------------------+---------------------------------+---------------------------------+---------------------------------+---------------------------------+---------------------------------+---------------------------------+---------------------------------+---------------------------------+---------------------------------+---------------------------------+---------------------------------+---------------------------------+---------------------------------+---------------------------------+---------------------------------+---------------------------------+---------------------------------+---------------------------------+---------------------------------+---------------------------------+---------------------------------+---------------------------------+---------------------------------+---------------------------------+---------------------------------+---------------------------------+---------------------------------+----------------------------------+----------------------------------+----------------------------------+----------------------------------+----------------------------------+----------------------------------+----------------------------------+----------------------------------+----------------------------------+----------------------------------+----------------------------------+----------------------------------+----------------------------------+----------------------------------+----------------------------------+----------------------------------+----------------------------------+----------------------------------+----------------------------------+----------------------------------+----------------------------------+----------------------------------+----------------------------------+----------------------------------+----------------------------------+----------------------------------+----------------------------------+----------------------------------+----------------------------------+----------------------------------+----------------------------------+----------------------------------+---------------------------------+---------------------------------+---------------------------------+---------------------------------+---------------------------------+---------------------------------+---------------------------------+---------------------------------+---------------------------------+---------------------------------+---------------------------------+---------------------------------+---------------------------------+---------------------------------+---------------------------------+---------------------------------+---------------------------------+---------------------------------+---------------------------------+---------------------------------+---------------------------------+---------------------------------+---------------------------------+---------------------------------+---------------------------------+---------------------------------+---------------------------------+---------------------------------+---------------------------------+---------------------------------+---------------------------------+---------------------------------+----------------------------------+----------------------------------+----------------------------------+----------------------------------+----------------------------------+----------------------------------+----------------------------------+----------------------------------+----------------------------------+----------------------------------+----------------------------------+----------------------------------+----------------------------------+----------------------------------+----------------------------------+----------------------------------+----------------------------------+----------------------------------+----------------------------------+----------------------------------+----------------------------------+----------------------------------+----------------------------------+----------------------------------+----------------------------------+----------------------------------+----------------------------------+----------------------------------+----------------------------------+----------------------------------+----------------------------------+----------------------------------+\n",
      "| suicidal.thought            | suicidal.thought(no)            | suicidal.thought(no)            | suicidal.thought(yes)           | suicidal.thought(yes)           | suicidal.thought(no)            | suicidal.thought(no)            | suicidal.thought(yes)           | suicidal.thought(yes)           | suicidal.thought(no)            | suicidal.thought(no)            | suicidal.thought(yes)           | suicidal.thought(yes)           | suicidal.thought(no)            | suicidal.thought(no)            | suicidal.thought(yes)           | suicidal.thought(yes)           | suicidal.thought(no)            | suicidal.thought(no)            | suicidal.thought(yes)           | suicidal.thought(yes)           | suicidal.thought(no)            | suicidal.thought(no)            | suicidal.thought(yes)           | suicidal.thought(yes)           | suicidal.thought(no)            | suicidal.thought(no)            | suicidal.thought(yes)           | suicidal.thought(yes)           | suicidal.thought(no)            | suicidal.thought(no)            | suicidal.thought(yes)           | suicidal.thought(yes)           | suicidal.thought(no)             | suicidal.thought(no)             | suicidal.thought(yes)            | suicidal.thought(yes)            | suicidal.thought(no)             | suicidal.thought(no)             | suicidal.thought(yes)            | suicidal.thought(yes)            | suicidal.thought(no)             | suicidal.thought(no)             | suicidal.thought(yes)            | suicidal.thought(yes)            | suicidal.thought(no)             | suicidal.thought(no)             | suicidal.thought(yes)            | suicidal.thought(yes)            | suicidal.thought(no)             | suicidal.thought(no)             | suicidal.thought(yes)            | suicidal.thought(yes)            | suicidal.thought(no)             | suicidal.thought(no)             | suicidal.thought(yes)            | suicidal.thought(yes)            | suicidal.thought(no)             | suicidal.thought(no)             | suicidal.thought(yes)            | suicidal.thought(yes)            | suicidal.thought(no)             | suicidal.thought(no)             | suicidal.thought(yes)            | suicidal.thought(yes)            | suicidal.thought(no)            | suicidal.thought(no)            | suicidal.thought(yes)           | suicidal.thought(yes)           | suicidal.thought(no)            | suicidal.thought(no)            | suicidal.thought(yes)           | suicidal.thought(yes)           | suicidal.thought(no)            | suicidal.thought(no)            | suicidal.thought(yes)           | suicidal.thought(yes)           | suicidal.thought(no)            | suicidal.thought(no)            | suicidal.thought(yes)           | suicidal.thought(yes)           | suicidal.thought(no)            | suicidal.thought(no)            | suicidal.thought(yes)           | suicidal.thought(yes)           | suicidal.thought(no)            | suicidal.thought(no)            | suicidal.thought(yes)           | suicidal.thought(yes)           | suicidal.thought(no)            | suicidal.thought(no)            | suicidal.thought(yes)           | suicidal.thought(yes)           | suicidal.thought(no)            | suicidal.thought(no)            | suicidal.thought(yes)           | suicidal.thought(yes)           | suicidal.thought(no)             | suicidal.thought(no)             | suicidal.thought(yes)            | suicidal.thought(yes)            | suicidal.thought(no)             | suicidal.thought(no)             | suicidal.thought(yes)            | suicidal.thought(yes)            | suicidal.thought(no)             | suicidal.thought(no)             | suicidal.thought(yes)            | suicidal.thought(yes)            | suicidal.thought(no)             | suicidal.thought(no)             | suicidal.thought(yes)            | suicidal.thought(yes)            | suicidal.thought(no)             | suicidal.thought(no)             | suicidal.thought(yes)            | suicidal.thought(yes)            | suicidal.thought(no)             | suicidal.thought(no)             | suicidal.thought(yes)            | suicidal.thought(yes)            | suicidal.thought(no)             | suicidal.thought(no)             | suicidal.thought(yes)            | suicidal.thought(yes)            | suicidal.thought(no)             | suicidal.thought(no)             | suicidal.thought(yes)            | suicidal.thought(yes)            |\n",
      "+-----------------------------+---------------------------------+---------------------------------+---------------------------------+---------------------------------+---------------------------------+---------------------------------+---------------------------------+---------------------------------+---------------------------------+---------------------------------+---------------------------------+---------------------------------+---------------------------------+---------------------------------+---------------------------------+---------------------------------+---------------------------------+---------------------------------+---------------------------------+---------------------------------+---------------------------------+---------------------------------+---------------------------------+---------------------------------+---------------------------------+---------------------------------+---------------------------------+---------------------------------+---------------------------------+---------------------------------+---------------------------------+---------------------------------+----------------------------------+----------------------------------+----------------------------------+----------------------------------+----------------------------------+----------------------------------+----------------------------------+----------------------------------+----------------------------------+----------------------------------+----------------------------------+----------------------------------+----------------------------------+----------------------------------+----------------------------------+----------------------------------+----------------------------------+----------------------------------+----------------------------------+----------------------------------+----------------------------------+----------------------------------+----------------------------------+----------------------------------+----------------------------------+----------------------------------+----------------------------------+----------------------------------+----------------------------------+----------------------------------+----------------------------------+----------------------------------+---------------------------------+---------------------------------+---------------------------------+---------------------------------+---------------------------------+---------------------------------+---------------------------------+---------------------------------+---------------------------------+---------------------------------+---------------------------------+---------------------------------+---------------------------------+---------------------------------+---------------------------------+---------------------------------+---------------------------------+---------------------------------+---------------------------------+---------------------------------+---------------------------------+---------------------------------+---------------------------------+---------------------------------+---------------------------------+---------------------------------+---------------------------------+---------------------------------+---------------------------------+---------------------------------+---------------------------------+---------------------------------+----------------------------------+----------------------------------+----------------------------------+----------------------------------+----------------------------------+----------------------------------+----------------------------------+----------------------------------+----------------------------------+----------------------------------+----------------------------------+----------------------------------+----------------------------------+----------------------------------+----------------------------------+----------------------------------+----------------------------------+----------------------------------+----------------------------------+----------------------------------+----------------------------------+----------------------------------+----------------------------------+----------------------------------+----------------------------------+----------------------------------+----------------------------------+----------------------------------+----------------------------------+----------------------------------+----------------------------------+----------------------------------+\n",
      "| trouble.concentrating       | trouble.concentrating(no)       | trouble.concentrating(yes)      | trouble.concentrating(no)       | trouble.concentrating(yes)      | trouble.concentrating(no)       | trouble.concentrating(yes)      | trouble.concentrating(no)       | trouble.concentrating(yes)      | trouble.concentrating(no)       | trouble.concentrating(yes)      | trouble.concentrating(no)       | trouble.concentrating(yes)      | trouble.concentrating(no)       | trouble.concentrating(yes)      | trouble.concentrating(no)       | trouble.concentrating(yes)      | trouble.concentrating(no)       | trouble.concentrating(yes)      | trouble.concentrating(no)       | trouble.concentrating(yes)      | trouble.concentrating(no)       | trouble.concentrating(yes)      | trouble.concentrating(no)       | trouble.concentrating(yes)      | trouble.concentrating(no)       | trouble.concentrating(yes)      | trouble.concentrating(no)       | trouble.concentrating(yes)      | trouble.concentrating(no)       | trouble.concentrating(yes)      | trouble.concentrating(no)       | trouble.concentrating(yes)      | trouble.concentrating(no)        | trouble.concentrating(yes)       | trouble.concentrating(no)        | trouble.concentrating(yes)       | trouble.concentrating(no)        | trouble.concentrating(yes)       | trouble.concentrating(no)        | trouble.concentrating(yes)       | trouble.concentrating(no)        | trouble.concentrating(yes)       | trouble.concentrating(no)        | trouble.concentrating(yes)       | trouble.concentrating(no)        | trouble.concentrating(yes)       | trouble.concentrating(no)        | trouble.concentrating(yes)       | trouble.concentrating(no)        | trouble.concentrating(yes)       | trouble.concentrating(no)        | trouble.concentrating(yes)       | trouble.concentrating(no)        | trouble.concentrating(yes)       | trouble.concentrating(no)        | trouble.concentrating(yes)       | trouble.concentrating(no)        | trouble.concentrating(yes)       | trouble.concentrating(no)        | trouble.concentrating(yes)       | trouble.concentrating(no)        | trouble.concentrating(yes)       | trouble.concentrating(no)        | trouble.concentrating(yes)       | trouble.concentrating(no)       | trouble.concentrating(yes)      | trouble.concentrating(no)       | trouble.concentrating(yes)      | trouble.concentrating(no)       | trouble.concentrating(yes)      | trouble.concentrating(no)       | trouble.concentrating(yes)      | trouble.concentrating(no)       | trouble.concentrating(yes)      | trouble.concentrating(no)       | trouble.concentrating(yes)      | trouble.concentrating(no)       | trouble.concentrating(yes)      | trouble.concentrating(no)       | trouble.concentrating(yes)      | trouble.concentrating(no)       | trouble.concentrating(yes)      | trouble.concentrating(no)       | trouble.concentrating(yes)      | trouble.concentrating(no)       | trouble.concentrating(yes)      | trouble.concentrating(no)       | trouble.concentrating(yes)      | trouble.concentrating(no)       | trouble.concentrating(yes)      | trouble.concentrating(no)       | trouble.concentrating(yes)      | trouble.concentrating(no)       | trouble.concentrating(yes)      | trouble.concentrating(no)       | trouble.concentrating(yes)      | trouble.concentrating(no)        | trouble.concentrating(yes)       | trouble.concentrating(no)        | trouble.concentrating(yes)       | trouble.concentrating(no)        | trouble.concentrating(yes)       | trouble.concentrating(no)        | trouble.concentrating(yes)       | trouble.concentrating(no)        | trouble.concentrating(yes)       | trouble.concentrating(no)        | trouble.concentrating(yes)       | trouble.concentrating(no)        | trouble.concentrating(yes)       | trouble.concentrating(no)        | trouble.concentrating(yes)       | trouble.concentrating(no)        | trouble.concentrating(yes)       | trouble.concentrating(no)        | trouble.concentrating(yes)       | trouble.concentrating(no)        | trouble.concentrating(yes)       | trouble.concentrating(no)        | trouble.concentrating(yes)       | trouble.concentrating(no)        | trouble.concentrating(yes)       | trouble.concentrating(no)        | trouble.concentrating(yes)       | trouble.concentrating(no)        | trouble.concentrating(yes)       | trouble.concentrating(no)        | trouble.concentrating(yes)       |\n",
      "+-----------------------------+---------------------------------+---------------------------------+---------------------------------+---------------------------------+---------------------------------+---------------------------------+---------------------------------+---------------------------------+---------------------------------+---------------------------------+---------------------------------+---------------------------------+---------------------------------+---------------------------------+---------------------------------+---------------------------------+---------------------------------+---------------------------------+---------------------------------+---------------------------------+---------------------------------+---------------------------------+---------------------------------+---------------------------------+---------------------------------+---------------------------------+---------------------------------+---------------------------------+---------------------------------+---------------------------------+---------------------------------+---------------------------------+----------------------------------+----------------------------------+----------------------------------+----------------------------------+----------------------------------+----------------------------------+----------------------------------+----------------------------------+----------------------------------+----------------------------------+----------------------------------+----------------------------------+----------------------------------+----------------------------------+----------------------------------+----------------------------------+----------------------------------+----------------------------------+----------------------------------+----------------------------------+----------------------------------+----------------------------------+----------------------------------+----------------------------------+----------------------------------+----------------------------------+----------------------------------+----------------------------------+----------------------------------+----------------------------------+----------------------------------+----------------------------------+---------------------------------+---------------------------------+---------------------------------+---------------------------------+---------------------------------+---------------------------------+---------------------------------+---------------------------------+---------------------------------+---------------------------------+---------------------------------+---------------------------------+---------------------------------+---------------------------------+---------------------------------+---------------------------------+---------------------------------+---------------------------------+---------------------------------+---------------------------------+---------------------------------+---------------------------------+---------------------------------+---------------------------------+---------------------------------+---------------------------------+---------------------------------+---------------------------------+---------------------------------+---------------------------------+---------------------------------+---------------------------------+----------------------------------+----------------------------------+----------------------------------+----------------------------------+----------------------------------+----------------------------------+----------------------------------+----------------------------------+----------------------------------+----------------------------------+----------------------------------+----------------------------------+----------------------------------+----------------------------------+----------------------------------+----------------------------------+----------------------------------+----------------------------------+----------------------------------+----------------------------------+----------------------------------+----------------------------------+----------------------------------+----------------------------------+----------------------------------+----------------------------------+----------------------------------+----------------------------------+----------------------------------+----------------------------------+----------------------------------+----------------------------------+\n",
      "| Loneliness(no)              | 1.0                             | 0.5                             | 0.5                             | 0.5                             | 1.0                             | 0.5                             | 0.5                             | 0.5                             | 0.5                             | 0.5                             | 0.5                             | 0.5                             | 0.5                             | 0.5                             | 0.5                             | 0.5                             | 0.0                             | 0.5                             | 0.5                             | 0.5                             | 0.5                             | 0.5                             | 0.5                             | 0.5                             | 0.5                             | 0.5                             | 0.5                             | 0.5                             | 0.5                             | 0.5                             | 0.5                             | 0.5                             | 0.5                              | 1.0                              | 0.5                              | 0.5                              | 0.5                              | 0.5                              | 0.5                              | 0.5                              | 0.5                              | 0.5                              | 0.5                              | 0.5                              | 0.5                              | 0.5                              | 0.5                              | 0.5                              | 0.5                              | 0.5                              | 0.5                              | 0.5                              | 0.5                              | 0.5                              | 0.5                              | 0.5                              | 0.5                              | 0.5                              | 0.5                              | 0.5                              | 0.5                              | 0.5                              | 0.5                              | 0.5                              | 0.5                             | 0.5                             | 0.5                             | 0.5                             | 0.5                             | 0.5                             | 0.5                             | 0.5                             | 0.5                             | 0.5                             | 1.0                             | 0.5                             | 0.5                             | 0.5                             | 0.5                             | 0.5                             | 0.5                             | 0.5                             | 0.5                             | 0.5                             | 0.5                             | 0.5                             | 0.5                             | 0.5                             | 0.5                             | 0.5                             | 0.5                             | 0.5                             | 0.5                             | 0.5                             | 0.5                             | 0.5                             | 0.5                              | 0.5                              | 0.5                              | 0.5                              | 0.5                              | 0.5                              | 0.5                              | 0.5                              | 0.5                              | 0.5                              | 0.5                              | 0.5                              | 0.5                              | 0.5                              | 0.5                              | 0.5                              | 0.5                              | 0.5                              | 0.5                              | 0.5                              | 0.5                              | 0.5                              | 0.5                              | 0.5                              | 0.5                              | 0.5                              | 0.5                              | 0.5                              | 0.5                              | 0.5                              | 0.5                              | 0.5                              |\n",
      "+-----------------------------+---------------------------------+---------------------------------+---------------------------------+---------------------------------+---------------------------------+---------------------------------+---------------------------------+---------------------------------+---------------------------------+---------------------------------+---------------------------------+---------------------------------+---------------------------------+---------------------------------+---------------------------------+---------------------------------+---------------------------------+---------------------------------+---------------------------------+---------------------------------+---------------------------------+---------------------------------+---------------------------------+---------------------------------+---------------------------------+---------------------------------+---------------------------------+---------------------------------+---------------------------------+---------------------------------+---------------------------------+---------------------------------+----------------------------------+----------------------------------+----------------------------------+----------------------------------+----------------------------------+----------------------------------+----------------------------------+----------------------------------+----------------------------------+----------------------------------+----------------------------------+----------------------------------+----------------------------------+----------------------------------+----------------------------------+----------------------------------+----------------------------------+----------------------------------+----------------------------------+----------------------------------+----------------------------------+----------------------------------+----------------------------------+----------------------------------+----------------------------------+----------------------------------+----------------------------------+----------------------------------+----------------------------------+----------------------------------+----------------------------------+----------------------------------+---------------------------------+---------------------------------+---------------------------------+---------------------------------+---------------------------------+---------------------------------+---------------------------------+---------------------------------+---------------------------------+---------------------------------+---------------------------------+---------------------------------+---------------------------------+---------------------------------+---------------------------------+---------------------------------+---------------------------------+---------------------------------+---------------------------------+---------------------------------+---------------------------------+---------------------------------+---------------------------------+---------------------------------+---------------------------------+---------------------------------+---------------------------------+---------------------------------+---------------------------------+---------------------------------+---------------------------------+---------------------------------+----------------------------------+----------------------------------+----------------------------------+----------------------------------+----------------------------------+----------------------------------+----------------------------------+----------------------------------+----------------------------------+----------------------------------+----------------------------------+----------------------------------+----------------------------------+----------------------------------+----------------------------------+----------------------------------+----------------------------------+----------------------------------+----------------------------------+----------------------------------+----------------------------------+----------------------------------+----------------------------------+----------------------------------+----------------------------------+----------------------------------+----------------------------------+----------------------------------+----------------------------------+----------------------------------+----------------------------------+----------------------------------+\n",
      "| Loneliness(yes)             | 0.0                             | 0.5                             | 0.5                             | 0.5                             | 0.0                             | 0.5                             | 0.5                             | 0.5                             | 0.5                             | 0.5                             | 0.5                             | 0.5                             | 0.5                             | 0.5                             | 0.5                             | 0.5                             | 1.0                             | 0.5                             | 0.5                             | 0.5                             | 0.5                             | 0.5                             | 0.5                             | 0.5                             | 0.5                             | 0.5                             | 0.5                             | 0.5                             | 0.5                             | 0.5                             | 0.5                             | 0.5                             | 0.5                              | 0.0                              | 0.5                              | 0.5                              | 0.5                              | 0.5                              | 0.5                              | 0.5                              | 0.5                              | 0.5                              | 0.5                              | 0.5                              | 0.5                              | 0.5                              | 0.5                              | 0.5                              | 0.5                              | 0.5                              | 0.5                              | 0.5                              | 0.5                              | 0.5                              | 0.5                              | 0.5                              | 0.5                              | 0.5                              | 0.5                              | 0.5                              | 0.5                              | 0.5                              | 0.5                              | 0.5                              | 0.5                             | 0.5                             | 0.5                             | 0.5                             | 0.5                             | 0.5                             | 0.5                             | 0.5                             | 0.5                             | 0.5                             | 0.0                             | 0.5                             | 0.5                             | 0.5                             | 0.5                             | 0.5                             | 0.5                             | 0.5                             | 0.5                             | 0.5                             | 0.5                             | 0.5                             | 0.5                             | 0.5                             | 0.5                             | 0.5                             | 0.5                             | 0.5                             | 0.5                             | 0.5                             | 0.5                             | 0.5                             | 0.5                              | 0.5                              | 0.5                              | 0.5                              | 0.5                              | 0.5                              | 0.5                              | 0.5                              | 0.5                              | 0.5                              | 0.5                              | 0.5                              | 0.5                              | 0.5                              | 0.5                              | 0.5                              | 0.5                              | 0.5                              | 0.5                              | 0.5                              | 0.5                              | 0.5                              | 0.5                              | 0.5                              | 0.5                              | 0.5                              | 0.5                              | 0.5                              | 0.5                              | 0.5                              | 0.5                              | 0.5                              |\n",
      "+-----------------------------+---------------------------------+---------------------------------+---------------------------------+---------------------------------+---------------------------------+---------------------------------+---------------------------------+---------------------------------+---------------------------------+---------------------------------+---------------------------------+---------------------------------+---------------------------------+---------------------------------+---------------------------------+---------------------------------+---------------------------------+---------------------------------+---------------------------------+---------------------------------+---------------------------------+---------------------------------+---------------------------------+---------------------------------+---------------------------------+---------------------------------+---------------------------------+---------------------------------+---------------------------------+---------------------------------+---------------------------------+---------------------------------+----------------------------------+----------------------------------+----------------------------------+----------------------------------+----------------------------------+----------------------------------+----------------------------------+----------------------------------+----------------------------------+----------------------------------+----------------------------------+----------------------------------+----------------------------------+----------------------------------+----------------------------------+----------------------------------+----------------------------------+----------------------------------+----------------------------------+----------------------------------+----------------------------------+----------------------------------+----------------------------------+----------------------------------+----------------------------------+----------------------------------+----------------------------------+----------------------------------+----------------------------------+----------------------------------+----------------------------------+----------------------------------+---------------------------------+---------------------------------+---------------------------------+---------------------------------+---------------------------------+---------------------------------+---------------------------------+---------------------------------+---------------------------------+---------------------------------+---------------------------------+---------------------------------+---------------------------------+---------------------------------+---------------------------------+---------------------------------+---------------------------------+---------------------------------+---------------------------------+---------------------------------+---------------------------------+---------------------------------+---------------------------------+---------------------------------+---------------------------------+---------------------------------+---------------------------------+---------------------------------+---------------------------------+---------------------------------+---------------------------------+---------------------------------+----------------------------------+----------------------------------+----------------------------------+----------------------------------+----------------------------------+----------------------------------+----------------------------------+----------------------------------+----------------------------------+----------------------------------+----------------------------------+----------------------------------+----------------------------------+----------------------------------+----------------------------------+----------------------------------+----------------------------------+----------------------------------+----------------------------------+----------------------------------+----------------------------------+----------------------------------+----------------------------------+----------------------------------+----------------------------------+----------------------------------+----------------------------------+----------------------------------+----------------------------------+----------------------------------+----------------------------------+----------------------------------+\n"
     ]
    }
   ],
   "source": [
    "#ESTIMADORES DEL MODELO BAYESIANO A PATIR DE LOS DATOS IMPORTADOS\n",
    "\n",
    "from pgmpy.estimators import ParameterEstimator\n",
    "from pgmpy.estimators import MaximumLikelihoodEstimator\n",
    "\n",
    "pe = ParameterEstimator(model, new_df)\n",
    "\n",
    "mle = MaximumLikelihoodEstimator(model, new_df)\n",
    "\n",
    "def print_full (cpd):\n",
    "  backup = TabularCPD._truncate_strtable\n",
    "  TabularCPD._truncate_strtable = lambda self, x: x\n",
    "  print (cpd)\n",
    "  TabularCPD._truncate_strtable = backup\n",
    "\n",
    "#print_full (mle.estimate_cpd('feeling.nervous'))\n",
    "print_full (mle.estimate_cpd('panic'))\n",
    "#print_full (mle.estimate_cpd('trouble.in.concentration'))\n",
    "#print_full (mle.estimate_cpd('having.trouble.in.sleeping'))\n",
    "print_full (mle.estimate_cpd('hopelessness'))\n",
    "print_full (mle.estimate_cpd('anger'))\n",
    "print_full (mle.estimate_cpd('suicidal.thought'))\n",
    "print_full (mle.estimate_cpd('feeling.tired'))\n",
    "print_full (mle.estimate_cpd('avoids.people.or.activities'))\n",
    "#print_full (mle.estimate_cpd('feeling.negative'))\n",
    "print_full (mle.estimate_cpd('trouble.concentrating'))\n",
    "print_full (mle.estimate_cpd('Normal'))\n",
    "print_full (mle.estimate_cpd('Anxiety'))\n",
    "print_full (mle.estimate_cpd('Depression'))\n",
    "print_full (mle.estimate_cpd('Stress'))\n",
    "print_full (mle.estimate_cpd('Loneliness'))"
   ]
  },
  {
   "cell_type": "code",
   "execution_count": 2,
   "metadata": {},
   "outputs": [
    {
     "ename": "KeyboardInterrupt",
     "evalue": "",
     "output_type": "error",
     "traceback": [
      "\u001b[1;31m---------------------------------------------------------------------------\u001b[0m",
      "\u001b[1;31mKeyboardInterrupt\u001b[0m                         Traceback (most recent call last)",
      "Cell \u001b[1;32mIn[2], line 3\u001b[0m\n\u001b[0;32m      1\u001b[0m \u001b[38;5;66;03m#ADICION DE CPDS AL MODELO\u001b[39;00m\n\u001b[1;32m----> 3\u001b[0m \u001b[38;5;28;01mfrom\u001b[39;00m \u001b[38;5;21;01mpgmpy\u001b[39;00m\u001b[38;5;21;01m.\u001b[39;00m\u001b[38;5;21;01minference\u001b[39;00m \u001b[38;5;28;01mimport\u001b[39;00m VariableElimination\n\u001b[0;32m      5\u001b[0m model\u001b[38;5;241m.\u001b[39madd_cpds(mle\u001b[38;5;241m.\u001b[39mestimate_cpd(\u001b[38;5;124m'\u001b[39m\u001b[38;5;124mpanic\u001b[39m\u001b[38;5;124m'\u001b[39m), mle\u001b[38;5;241m.\u001b[39mestimate_cpd(\u001b[38;5;124m'\u001b[39m\u001b[38;5;124mhopelessness\u001b[39m\u001b[38;5;124m'\u001b[39m), mle\u001b[38;5;241m.\u001b[39mestimate_cpd(\u001b[38;5;124m'\u001b[39m\u001b[38;5;124manger\u001b[39m\u001b[38;5;124m'\u001b[39m),\n\u001b[0;32m      6\u001b[0m                mle\u001b[38;5;241m.\u001b[39mestimate_cpd(\u001b[38;5;124m'\u001b[39m\u001b[38;5;124msuicidal.thought\u001b[39m\u001b[38;5;124m'\u001b[39m), mle\u001b[38;5;241m.\u001b[39mestimate_cpd(\u001b[38;5;124m'\u001b[39m\u001b[38;5;124mfeeling.tired\u001b[39m\u001b[38;5;124m'\u001b[39m),\n\u001b[0;32m      7\u001b[0m                mle\u001b[38;5;241m.\u001b[39mestimate_cpd(\u001b[38;5;124m'\u001b[39m\u001b[38;5;124mavoids.people.or.activities\u001b[39m\u001b[38;5;124m'\u001b[39m), mle\u001b[38;5;241m.\u001b[39mestimate_cpd(\u001b[38;5;124m'\u001b[39m\u001b[38;5;124mtrouble.concentrating\u001b[39m\u001b[38;5;124m'\u001b[39m),\n\u001b[0;32m      8\u001b[0m                mle\u001b[38;5;241m.\u001b[39mestimate_cpd(\u001b[38;5;124m'\u001b[39m\u001b[38;5;124mNormal\u001b[39m\u001b[38;5;124m'\u001b[39m), mle\u001b[38;5;241m.\u001b[39mestimate_cpd(\u001b[38;5;124m'\u001b[39m\u001b[38;5;124mAnxiety\u001b[39m\u001b[38;5;124m'\u001b[39m), mle\u001b[38;5;241m.\u001b[39mestimate_cpd(\u001b[38;5;124m'\u001b[39m\u001b[38;5;124mDepression\u001b[39m\u001b[38;5;124m'\u001b[39m),\n\u001b[0;32m      9\u001b[0m                mle\u001b[38;5;241m.\u001b[39mestimate_cpd(\u001b[38;5;124m'\u001b[39m\u001b[38;5;124mStress\u001b[39m\u001b[38;5;124m'\u001b[39m), mle\u001b[38;5;241m.\u001b[39mestimate_cpd(\u001b[38;5;124m'\u001b[39m\u001b[38;5;124mLoneliness\u001b[39m\u001b[38;5;124m'\u001b[39m))\n\u001b[0;32m     11\u001b[0m infer\u001b[38;5;241m=\u001b[39mVariableElimination(model)\n",
      "File \u001b[1;32m~\\AppData\\Roaming\\Python\\Python312\\site-packages\\pgmpy\\inference\\__init__.py:1\u001b[0m\n\u001b[1;32m----> 1\u001b[0m \u001b[38;5;28;01mfrom\u001b[39;00m \u001b[38;5;21;01m.\u001b[39;00m\u001b[38;5;21;01mbase\u001b[39;00m \u001b[38;5;28;01mimport\u001b[39;00m Inference\n\u001b[0;32m      2\u001b[0m \u001b[38;5;28;01mfrom\u001b[39;00m \u001b[38;5;21;01m.\u001b[39;00m\u001b[38;5;21;01mCausalInference\u001b[39;00m \u001b[38;5;28;01mimport\u001b[39;00m CausalInference\n\u001b[0;32m      3\u001b[0m \u001b[38;5;28;01mfrom\u001b[39;00m \u001b[38;5;21;01m.\u001b[39;00m\u001b[38;5;21;01mExactInference\u001b[39;00m \u001b[38;5;28;01mimport\u001b[39;00m BeliefPropagation\n",
      "File \u001b[1;32m~\\AppData\\Roaming\\Python\\Python312\\site-packages\\pgmpy\\inference\\base.py:8\u001b[0m\n\u001b[0;32m      4\u001b[0m \u001b[38;5;28;01mfrom\u001b[39;00m \u001b[38;5;21;01mitertools\u001b[39;00m \u001b[38;5;28;01mimport\u001b[39;00m chain\n\u001b[0;32m      6\u001b[0m \u001b[38;5;28;01mimport\u001b[39;00m \u001b[38;5;21;01mnumpy\u001b[39;00m \u001b[38;5;28;01mas\u001b[39;00m \u001b[38;5;21;01mnp\u001b[39;00m\n\u001b[1;32m----> 8\u001b[0m \u001b[38;5;28;01mfrom\u001b[39;00m \u001b[38;5;21;01mpgmpy\u001b[39;00m\u001b[38;5;21;01m.\u001b[39;00m\u001b[38;5;21;01mfactors\u001b[39;00m\u001b[38;5;21;01m.\u001b[39;00m\u001b[38;5;21;01mdiscrete\u001b[39;00m \u001b[38;5;28;01mimport\u001b[39;00m TabularCPD\n\u001b[0;32m      9\u001b[0m \u001b[38;5;28;01mfrom\u001b[39;00m \u001b[38;5;21;01mpgmpy\u001b[39;00m\u001b[38;5;21;01m.\u001b[39;00m\u001b[38;5;21;01mmodels\u001b[39;00m \u001b[38;5;28;01mimport\u001b[39;00m (\n\u001b[0;32m     10\u001b[0m     BayesianNetwork,\n\u001b[0;32m     11\u001b[0m     DynamicBayesianNetwork,\n\u001b[1;32m   (...)\u001b[0m\n\u001b[0;32m     14\u001b[0m     MarkovNetwork,\n\u001b[0;32m     15\u001b[0m )\n\u001b[0;32m     16\u001b[0m \u001b[38;5;28;01mfrom\u001b[39;00m \u001b[38;5;21;01mpgmpy\u001b[39;00m\u001b[38;5;21;01m.\u001b[39;00m\u001b[38;5;21;01mutils\u001b[39;00m \u001b[38;5;28;01mimport\u001b[39;00m compat_fns\n",
      "File \u001b[1;32m~\\AppData\\Roaming\\Python\\Python312\\site-packages\\pgmpy\\factors\\__init__.py:3\u001b[0m\n\u001b[0;32m      1\u001b[0m \u001b[38;5;28;01mfrom\u001b[39;00m \u001b[38;5;21;01m.\u001b[39;00m\u001b[38;5;21;01mbase\u001b[39;00m \u001b[38;5;28;01mimport\u001b[39;00m factor_divide, factor_product, factor_sum_product\n\u001b[0;32m      2\u001b[0m \u001b[38;5;28;01mfrom\u001b[39;00m \u001b[38;5;21;01m.\u001b[39;00m\u001b[38;5;21;01mFactorSet\u001b[39;00m \u001b[38;5;28;01mimport\u001b[39;00m FactorSet, factorset_divide, factorset_product\n\u001b[1;32m----> 3\u001b[0m \u001b[38;5;28;01mfrom\u001b[39;00m \u001b[38;5;21;01m.\u001b[39;00m\u001b[38;5;21;01mFactorDict\u001b[39;00m \u001b[38;5;28;01mimport\u001b[39;00m FactorDict\n\u001b[0;32m      5\u001b[0m __all__ \u001b[38;5;241m=\u001b[39m [\n\u001b[0;32m      6\u001b[0m     \u001b[38;5;124m\"\u001b[39m\u001b[38;5;124mFactorSet\u001b[39m\u001b[38;5;124m\"\u001b[39m,\n\u001b[0;32m      7\u001b[0m     \u001b[38;5;124m\"\u001b[39m\u001b[38;5;124mfactorset_divide\u001b[39m\u001b[38;5;124m\"\u001b[39m,\n\u001b[1;32m   (...)\u001b[0m\n\u001b[0;32m     12\u001b[0m     \u001b[38;5;124m\"\u001b[39m\u001b[38;5;124mFactorDict\u001b[39m\u001b[38;5;124m\"\u001b[39m,\n\u001b[0;32m     13\u001b[0m ]\n",
      "File \u001b[1;32m~\\AppData\\Roaming\\Python\\Python312\\site-packages\\pgmpy\\factors\\FactorDict.py:5\u001b[0m\n\u001b[0;32m      3\u001b[0m \u001b[38;5;28;01mfrom\u001b[39;00m \u001b[38;5;21;01mnumbers\u001b[39;00m \u001b[38;5;28;01mimport\u001b[39;00m Number\n\u001b[0;32m      4\u001b[0m \u001b[38;5;28;01mimport\u001b[39;00m \u001b[38;5;21;01mnumpy\u001b[39;00m \u001b[38;5;28;01mas\u001b[39;00m \u001b[38;5;21;01mnp\u001b[39;00m\n\u001b[1;32m----> 5\u001b[0m \u001b[38;5;28;01mfrom\u001b[39;00m \u001b[38;5;21;01msklearn\u001b[39;00m\u001b[38;5;21;01m.\u001b[39;00m\u001b[38;5;21;01mpreprocessing\u001b[39;00m \u001b[38;5;28;01mimport\u001b[39;00m OrdinalEncoder\n\u001b[0;32m      6\u001b[0m \u001b[38;5;28;01mfrom\u001b[39;00m \u001b[38;5;21;01mpgmpy\u001b[39;00m\u001b[38;5;21;01m.\u001b[39;00m\u001b[38;5;21;01mfactors\u001b[39;00m\u001b[38;5;21;01m.\u001b[39;00m\u001b[38;5;21;01mdiscrete\u001b[39;00m \u001b[38;5;28;01mimport\u001b[39;00m DiscreteFactor\n\u001b[0;32m      9\u001b[0m \u001b[38;5;28;01mclass\u001b[39;00m \u001b[38;5;21;01mFactorDict\u001b[39;00m(\u001b[38;5;28mdict\u001b[39m):\n",
      "File \u001b[1;32mc:\\Users\\luisb\\AppData\\Local\\Programs\\Python\\Python312\\Lib\\site-packages\\sklearn\\__init__.py:96\u001b[0m\n\u001b[0;32m     85\u001b[0m \u001b[38;5;66;03m# `_distributor_init` allows distributors to run custom init code.\u001b[39;00m\n\u001b[0;32m     86\u001b[0m \u001b[38;5;66;03m# For instance, for the Windows wheel, this is used to pre-load the\u001b[39;00m\n\u001b[0;32m     87\u001b[0m \u001b[38;5;66;03m# vcomp shared library runtime for OpenMP embedded in the sklearn/.libs\u001b[39;00m\n\u001b[1;32m   (...)\u001b[0m\n\u001b[0;32m     90\u001b[0m \u001b[38;5;66;03m# later is linked to the OpenMP runtime to make it possible to introspect\u001b[39;00m\n\u001b[0;32m     91\u001b[0m \u001b[38;5;66;03m# it and importing it first would fail if the OpenMP dll cannot be found.\u001b[39;00m\n\u001b[0;32m     92\u001b[0m \u001b[38;5;28;01mfrom\u001b[39;00m \u001b[38;5;21;01m.\u001b[39;00m \u001b[38;5;28;01mimport\u001b[39;00m (\n\u001b[0;32m     93\u001b[0m     __check_build,  \u001b[38;5;66;03m# noqa: F401\u001b[39;00m\n\u001b[0;32m     94\u001b[0m     _distributor_init,  \u001b[38;5;66;03m# noqa: F401\u001b[39;00m\n\u001b[0;32m     95\u001b[0m )\n\u001b[1;32m---> 96\u001b[0m \u001b[38;5;28;01mfrom\u001b[39;00m \u001b[38;5;21;01m.\u001b[39;00m\u001b[38;5;21;01mbase\u001b[39;00m \u001b[38;5;28;01mimport\u001b[39;00m clone\n\u001b[0;32m     97\u001b[0m \u001b[38;5;28;01mfrom\u001b[39;00m \u001b[38;5;21;01m.\u001b[39;00m\u001b[38;5;21;01mutils\u001b[39;00m\u001b[38;5;21;01m.\u001b[39;00m\u001b[38;5;21;01m_show_versions\u001b[39;00m \u001b[38;5;28;01mimport\u001b[39;00m show_versions\n\u001b[0;32m     99\u001b[0m __all__ \u001b[38;5;241m=\u001b[39m [\n\u001b[0;32m    100\u001b[0m     \u001b[38;5;124m\"\u001b[39m\u001b[38;5;124mcalibration\u001b[39m\u001b[38;5;124m\"\u001b[39m,\n\u001b[0;32m    101\u001b[0m     \u001b[38;5;124m\"\u001b[39m\u001b[38;5;124mcluster\u001b[39m\u001b[38;5;124m\"\u001b[39m,\n\u001b[1;32m   (...)\u001b[0m\n\u001b[0;32m    142\u001b[0m     \u001b[38;5;124m\"\u001b[39m\u001b[38;5;124mshow_versions\u001b[39m\u001b[38;5;124m\"\u001b[39m,\n\u001b[0;32m    143\u001b[0m ]\n",
      "File \u001b[1;32mc:\\Users\\luisb\\AppData\\Local\\Programs\\Python\\Python312\\Lib\\site-packages\\sklearn\\base.py:19\u001b[0m\n\u001b[0;32m     17\u001b[0m \u001b[38;5;28;01mfrom\u001b[39;00m \u001b[38;5;21;01m.\u001b[39;00m\u001b[38;5;21;01m_config\u001b[39;00m \u001b[38;5;28;01mimport\u001b[39;00m config_context, get_config\n\u001b[0;32m     18\u001b[0m \u001b[38;5;28;01mfrom\u001b[39;00m \u001b[38;5;21;01m.\u001b[39;00m\u001b[38;5;21;01mexceptions\u001b[39;00m \u001b[38;5;28;01mimport\u001b[39;00m InconsistentVersionWarning\n\u001b[1;32m---> 19\u001b[0m \u001b[38;5;28;01mfrom\u001b[39;00m \u001b[38;5;21;01m.\u001b[39;00m\u001b[38;5;21;01mutils\u001b[39;00m\u001b[38;5;21;01m.\u001b[39;00m\u001b[38;5;21;01m_estimator_html_repr\u001b[39;00m \u001b[38;5;28;01mimport\u001b[39;00m _HTMLDocumentationLinkMixin, estimator_html_repr\n\u001b[0;32m     20\u001b[0m \u001b[38;5;28;01mfrom\u001b[39;00m \u001b[38;5;21;01m.\u001b[39;00m\u001b[38;5;21;01mutils\u001b[39;00m\u001b[38;5;21;01m.\u001b[39;00m\u001b[38;5;21;01m_metadata_requests\u001b[39;00m \u001b[38;5;28;01mimport\u001b[39;00m _MetadataRequester, _routing_enabled\n\u001b[0;32m     21\u001b[0m \u001b[38;5;28;01mfrom\u001b[39;00m \u001b[38;5;21;01m.\u001b[39;00m\u001b[38;5;21;01mutils\u001b[39;00m\u001b[38;5;21;01m.\u001b[39;00m\u001b[38;5;21;01m_param_validation\u001b[39;00m \u001b[38;5;28;01mimport\u001b[39;00m validate_parameter_constraints\n",
      "File \u001b[1;32mc:\\Users\\luisb\\AppData\\Local\\Programs\\Python\\Python312\\Lib\\site-packages\\sklearn\\utils\\__init__.py:13\u001b[0m\n\u001b[0;32m     11\u001b[0m \u001b[38;5;28;01mfrom\u001b[39;00m \u001b[38;5;21;01m.\u001b[39;00m \u001b[38;5;28;01mimport\u001b[39;00m _joblib, metadata_routing\n\u001b[0;32m     12\u001b[0m \u001b[38;5;28;01mfrom\u001b[39;00m \u001b[38;5;21;01m.\u001b[39;00m\u001b[38;5;21;01m_bunch\u001b[39;00m \u001b[38;5;28;01mimport\u001b[39;00m Bunch\n\u001b[1;32m---> 13\u001b[0m \u001b[38;5;28;01mfrom\u001b[39;00m \u001b[38;5;21;01m.\u001b[39;00m\u001b[38;5;21;01m_chunking\u001b[39;00m \u001b[38;5;28;01mimport\u001b[39;00m gen_batches, gen_even_slices\n\u001b[0;32m     14\u001b[0m \u001b[38;5;28;01mfrom\u001b[39;00m \u001b[38;5;21;01m.\u001b[39;00m\u001b[38;5;21;01m_estimator_html_repr\u001b[39;00m \u001b[38;5;28;01mimport\u001b[39;00m estimator_html_repr\n\u001b[0;32m     16\u001b[0m \u001b[38;5;66;03m# Make _safe_indexing importable from here for backward compat as this particular\u001b[39;00m\n\u001b[0;32m     17\u001b[0m \u001b[38;5;66;03m# helper is considered semi-private and typically very useful for third-party\u001b[39;00m\n\u001b[0;32m     18\u001b[0m \u001b[38;5;66;03m# libraries that want to comply with scikit-learn's estimator API. In particular,\u001b[39;00m\n\u001b[0;32m     19\u001b[0m \u001b[38;5;66;03m# _safe_indexing was included in our public API documentation despite the leading\u001b[39;00m\n\u001b[0;32m     20\u001b[0m \u001b[38;5;66;03m# `_` in its name.\u001b[39;00m\n",
      "File \u001b[1;32mc:\\Users\\luisb\\AppData\\Local\\Programs\\Python\\Python312\\Lib\\site-packages\\sklearn\\utils\\_chunking.py:8\u001b[0m\n\u001b[0;32m      5\u001b[0m \u001b[38;5;28;01mimport\u001b[39;00m \u001b[38;5;21;01mnumpy\u001b[39;00m \u001b[38;5;28;01mas\u001b[39;00m \u001b[38;5;21;01mnp\u001b[39;00m\n\u001b[0;32m      7\u001b[0m \u001b[38;5;28;01mfrom\u001b[39;00m \u001b[38;5;21;01m.\u001b[39;00m\u001b[38;5;21;01m.\u001b[39;00m\u001b[38;5;21;01m_config\u001b[39;00m \u001b[38;5;28;01mimport\u001b[39;00m get_config\n\u001b[1;32m----> 8\u001b[0m \u001b[38;5;28;01mfrom\u001b[39;00m \u001b[38;5;21;01m.\u001b[39;00m\u001b[38;5;21;01m_param_validation\u001b[39;00m \u001b[38;5;28;01mimport\u001b[39;00m Interval, validate_params\n\u001b[0;32m     11\u001b[0m \u001b[38;5;28;01mdef\u001b[39;00m \u001b[38;5;21mchunk_generator\u001b[39m(gen, chunksize):\n\u001b[0;32m     12\u001b[0m \u001b[38;5;250m    \u001b[39m\u001b[38;5;124;03m\"\"\"Chunk generator, ``gen`` into lists of length ``chunksize``. The last\u001b[39;00m\n\u001b[0;32m     13\u001b[0m \u001b[38;5;124;03m    chunk may have a length less than ``chunksize``.\"\"\"\u001b[39;00m\n",
      "File \u001b[1;32mc:\\Users\\luisb\\AppData\\Local\\Programs\\Python\\Python312\\Lib\\site-packages\\sklearn\\utils\\_param_validation.py:14\u001b[0m\n\u001b[0;32m     11\u001b[0m \u001b[38;5;28;01mfrom\u001b[39;00m \u001b[38;5;21;01mscipy\u001b[39;00m\u001b[38;5;21;01m.\u001b[39;00m\u001b[38;5;21;01msparse\u001b[39;00m \u001b[38;5;28;01mimport\u001b[39;00m csr_matrix, issparse\n\u001b[0;32m     13\u001b[0m \u001b[38;5;28;01mfrom\u001b[39;00m \u001b[38;5;21;01m.\u001b[39;00m\u001b[38;5;21;01m.\u001b[39;00m\u001b[38;5;21;01m_config\u001b[39;00m \u001b[38;5;28;01mimport\u001b[39;00m config_context, get_config\n\u001b[1;32m---> 14\u001b[0m \u001b[38;5;28;01mfrom\u001b[39;00m \u001b[38;5;21;01m.\u001b[39;00m\u001b[38;5;21;01mvalidation\u001b[39;00m \u001b[38;5;28;01mimport\u001b[39;00m _is_arraylike_not_scalar\n\u001b[0;32m     17\u001b[0m \u001b[38;5;28;01mclass\u001b[39;00m \u001b[38;5;21;01mInvalidParameterError\u001b[39;00m(\u001b[38;5;167;01mValueError\u001b[39;00m, \u001b[38;5;167;01mTypeError\u001b[39;00m):\n\u001b[0;32m     18\u001b[0m \u001b[38;5;250m    \u001b[39m\u001b[38;5;124;03m\"\"\"Custom exception to be raised when the parameter of a class/method/function\u001b[39;00m\n\u001b[0;32m     19\u001b[0m \u001b[38;5;124;03m    does not have a valid type or value.\u001b[39;00m\n\u001b[0;32m     20\u001b[0m \u001b[38;5;124;03m    \"\"\"\u001b[39;00m\n",
      "File \u001b[1;32mc:\\Users\\luisb\\AppData\\Local\\Programs\\Python\\Python312\\Lib\\site-packages\\sklearn\\utils\\validation.py:29\u001b[0m\n\u001b[0;32m     27\u001b[0m \u001b[38;5;28;01mfrom\u001b[39;00m \u001b[38;5;21;01m.\u001b[39;00m\u001b[38;5;21;01m.\u001b[39;00m \u001b[38;5;28;01mimport\u001b[39;00m get_config \u001b[38;5;28;01mas\u001b[39;00m _get_config\n\u001b[0;32m     28\u001b[0m \u001b[38;5;28;01mfrom\u001b[39;00m \u001b[38;5;21;01m.\u001b[39;00m\u001b[38;5;21;01m.\u001b[39;00m\u001b[38;5;21;01mexceptions\u001b[39;00m \u001b[38;5;28;01mimport\u001b[39;00m DataConversionWarning, NotFittedError, PositiveSpectrumWarning\n\u001b[1;32m---> 29\u001b[0m \u001b[38;5;28;01mfrom\u001b[39;00m \u001b[38;5;21;01m.\u001b[39;00m\u001b[38;5;21;01m.\u001b[39;00m\u001b[38;5;21;01mutils\u001b[39;00m\u001b[38;5;21;01m.\u001b[39;00m\u001b[38;5;21;01m_array_api\u001b[39;00m \u001b[38;5;28;01mimport\u001b[39;00m _asarray_with_order, _is_numpy_namespace, get_namespace\n\u001b[0;32m     30\u001b[0m \u001b[38;5;28;01mfrom\u001b[39;00m \u001b[38;5;21;01m.\u001b[39;00m\u001b[38;5;21;01m.\u001b[39;00m\u001b[38;5;21;01mutils\u001b[39;00m\u001b[38;5;21;01m.\u001b[39;00m\u001b[38;5;21;01mfixes\u001b[39;00m \u001b[38;5;28;01mimport\u001b[39;00m ComplexWarning, _preserve_dia_indices_dtype\n\u001b[0;32m     31\u001b[0m \u001b[38;5;28;01mfrom\u001b[39;00m \u001b[38;5;21;01m.\u001b[39;00m\u001b[38;5;21;01m_isfinite\u001b[39;00m \u001b[38;5;28;01mimport\u001b[39;00m FiniteStatus, cy_isfinite\n",
      "File \u001b[1;32mc:\\Users\\luisb\\AppData\\Local\\Programs\\Python\\Python312\\Lib\\site-packages\\sklearn\\utils\\_array_api.py:11\u001b[0m\n\u001b[0;32m      8\u001b[0m \u001b[38;5;28;01mimport\u001b[39;00m \u001b[38;5;21;01mscipy\u001b[39;00m\u001b[38;5;21;01m.\u001b[39;00m\u001b[38;5;21;01mspecial\u001b[39;00m \u001b[38;5;28;01mas\u001b[39;00m \u001b[38;5;21;01mspecial\u001b[39;00m\n\u001b[0;32m     10\u001b[0m \u001b[38;5;28;01mfrom\u001b[39;00m \u001b[38;5;21;01m.\u001b[39;00m\u001b[38;5;21;01m.\u001b[39;00m\u001b[38;5;21;01m_config\u001b[39;00m \u001b[38;5;28;01mimport\u001b[39;00m get_config\n\u001b[1;32m---> 11\u001b[0m \u001b[38;5;28;01mfrom\u001b[39;00m \u001b[38;5;21;01m.\u001b[39;00m\u001b[38;5;21;01mfixes\u001b[39;00m \u001b[38;5;28;01mimport\u001b[39;00m parse_version\n\u001b[0;32m     13\u001b[0m _NUMPY_NAMESPACE_NAMES \u001b[38;5;241m=\u001b[39m {\u001b[38;5;124m\"\u001b[39m\u001b[38;5;124mnumpy\u001b[39m\u001b[38;5;124m\"\u001b[39m, \u001b[38;5;124m\"\u001b[39m\u001b[38;5;124marray_api_compat.numpy\u001b[39m\u001b[38;5;124m\"\u001b[39m}\n\u001b[0;32m     16\u001b[0m \u001b[38;5;28;01mdef\u001b[39;00m \u001b[38;5;21myield_namespaces\u001b[39m(include_numpy_namespaces\u001b[38;5;241m=\u001b[39m\u001b[38;5;28;01mTrue\u001b[39;00m):\n",
      "File \u001b[1;32mc:\\Users\\luisb\\AppData\\Local\\Programs\\Python\\Python312\\Lib\\site-packages\\sklearn\\utils\\fixes.py:20\u001b[0m\n\u001b[0;32m     18\u001b[0m \u001b[38;5;28;01mimport\u001b[39;00m \u001b[38;5;21;01mscipy\u001b[39;00m\n\u001b[0;32m     19\u001b[0m \u001b[38;5;28;01mimport\u001b[39;00m \u001b[38;5;21;01mscipy\u001b[39;00m\u001b[38;5;21;01m.\u001b[39;00m\u001b[38;5;21;01msparse\u001b[39;00m\u001b[38;5;21;01m.\u001b[39;00m\u001b[38;5;21;01mlinalg\u001b[39;00m\n\u001b[1;32m---> 20\u001b[0m \u001b[38;5;28;01mimport\u001b[39;00m \u001b[38;5;21;01mscipy\u001b[39;00m\u001b[38;5;21;01m.\u001b[39;00m\u001b[38;5;21;01mstats\u001b[39;00m\n\u001b[0;32m     22\u001b[0m \u001b[38;5;28;01mimport\u001b[39;00m \u001b[38;5;21;01msklearn\u001b[39;00m\n\u001b[0;32m     24\u001b[0m \u001b[38;5;28;01mfrom\u001b[39;00m \u001b[38;5;21;01m.\u001b[39;00m\u001b[38;5;21;01m.\u001b[39;00m\u001b[38;5;21;01mexternals\u001b[39;00m\u001b[38;5;21;01m.\u001b[39;00m\u001b[38;5;21;01m_packaging\u001b[39;00m\u001b[38;5;21;01m.\u001b[39;00m\u001b[38;5;21;01mversion\u001b[39;00m \u001b[38;5;28;01mimport\u001b[39;00m parse \u001b[38;5;28;01mas\u001b[39;00m parse_version\n",
      "File \u001b[1;32mc:\\Users\\luisb\\AppData\\Local\\Programs\\Python\\Python312\\Lib\\site-packages\\scipy\\stats\\__init__.py:606\u001b[0m\n\u001b[0;32m      1\u001b[0m \u001b[38;5;124;03m\"\"\"\u001b[39;00m\n\u001b[0;32m      2\u001b[0m \u001b[38;5;124;03m.. _statsrefmanual:\u001b[39;00m\n\u001b[0;32m      3\u001b[0m \n\u001b[1;32m   (...)\u001b[0m\n\u001b[0;32m    601\u001b[0m \n\u001b[0;32m    602\u001b[0m \u001b[38;5;124;03m\"\"\"\u001b[39;00m  \u001b[38;5;66;03m# noqa: E501\u001b[39;00m\n\u001b[0;32m    604\u001b[0m \u001b[38;5;28;01mfrom\u001b[39;00m \u001b[38;5;21;01m.\u001b[39;00m\u001b[38;5;21;01m_warnings_errors\u001b[39;00m \u001b[38;5;28;01mimport\u001b[39;00m (ConstantInputWarning, NearConstantInputWarning,\n\u001b[0;32m    605\u001b[0m                                DegenerateDataWarning, FitError)\n\u001b[1;32m--> 606\u001b[0m \u001b[38;5;28;01mfrom\u001b[39;00m \u001b[38;5;21;01m.\u001b[39;00m\u001b[38;5;21;01m_stats_py\u001b[39;00m \u001b[38;5;28;01mimport\u001b[39;00m \u001b[38;5;241m*\u001b[39m\n\u001b[0;32m    607\u001b[0m \u001b[38;5;28;01mfrom\u001b[39;00m \u001b[38;5;21;01m.\u001b[39;00m\u001b[38;5;21;01m_variation\u001b[39;00m \u001b[38;5;28;01mimport\u001b[39;00m variation\n\u001b[0;32m    608\u001b[0m \u001b[38;5;28;01mfrom\u001b[39;00m \u001b[38;5;21;01m.\u001b[39;00m\u001b[38;5;21;01mdistributions\u001b[39;00m \u001b[38;5;28;01mimport\u001b[39;00m \u001b[38;5;241m*\u001b[39m\n",
      "File \u001b[1;32mc:\\Users\\luisb\\AppData\\Local\\Programs\\Python\\Python312\\Lib\\site-packages\\scipy\\stats\\_stats_py.py:42\u001b[0m\n\u001b[0;32m     39\u001b[0m \u001b[38;5;28;01mfrom\u001b[39;00m \u001b[38;5;21;01mscipy\u001b[39;00m\u001b[38;5;21;01m.\u001b[39;00m\u001b[38;5;21;01mspatial\u001b[39;00m \u001b[38;5;28;01mimport\u001b[39;00m distance_matrix\n\u001b[0;32m     41\u001b[0m \u001b[38;5;28;01mfrom\u001b[39;00m \u001b[38;5;21;01mscipy\u001b[39;00m\u001b[38;5;21;01m.\u001b[39;00m\u001b[38;5;21;01mndimage\u001b[39;00m \u001b[38;5;28;01mimport\u001b[39;00m _measurements\n\u001b[1;32m---> 42\u001b[0m \u001b[38;5;28;01mfrom\u001b[39;00m \u001b[38;5;21;01mscipy\u001b[39;00m\u001b[38;5;21;01m.\u001b[39;00m\u001b[38;5;21;01moptimize\u001b[39;00m \u001b[38;5;28;01mimport\u001b[39;00m milp, LinearConstraint\n\u001b[0;32m     43\u001b[0m \u001b[38;5;28;01mfrom\u001b[39;00m \u001b[38;5;21;01mscipy\u001b[39;00m\u001b[38;5;21;01m.\u001b[39;00m\u001b[38;5;21;01m_lib\u001b[39;00m\u001b[38;5;21;01m.\u001b[39;00m\u001b[38;5;21;01m_util\u001b[39;00m \u001b[38;5;28;01mimport\u001b[39;00m (check_random_state, MapWrapper, _get_nan,\n\u001b[0;32m     44\u001b[0m                               rng_integers, _rename_parameter, _contains_nan,\n\u001b[0;32m     45\u001b[0m                               AxisError)\n\u001b[0;32m     47\u001b[0m \u001b[38;5;28;01mimport\u001b[39;00m \u001b[38;5;21;01mscipy\u001b[39;00m\u001b[38;5;21;01m.\u001b[39;00m\u001b[38;5;21;01mspecial\u001b[39;00m \u001b[38;5;28;01mas\u001b[39;00m \u001b[38;5;21;01mspecial\u001b[39;00m\n",
      "File \u001b[1;32mc:\\Users\\luisb\\AppData\\Local\\Programs\\Python\\Python312\\Lib\\site-packages\\scipy\\optimize\\__init__.py:435\u001b[0m\n\u001b[0;32m    431\u001b[0m \u001b[38;5;28;01mfrom\u001b[39;00m \u001b[38;5;21;01m.\u001b[39;00m\u001b[38;5;21;01m_constraints\u001b[39;00m \u001b[38;5;28;01mimport\u001b[39;00m (NonlinearConstraint,\n\u001b[0;32m    432\u001b[0m                            LinearConstraint,\n\u001b[0;32m    433\u001b[0m                            Bounds)\n\u001b[0;32m    434\u001b[0m \u001b[38;5;28;01mfrom\u001b[39;00m \u001b[38;5;21;01m.\u001b[39;00m\u001b[38;5;21;01m_hessian_update_strategy\u001b[39;00m \u001b[38;5;28;01mimport\u001b[39;00m HessianUpdateStrategy, BFGS, SR1\n\u001b[1;32m--> 435\u001b[0m \u001b[38;5;28;01mfrom\u001b[39;00m \u001b[38;5;21;01m.\u001b[39;00m\u001b[38;5;21;01m_shgo\u001b[39;00m \u001b[38;5;28;01mimport\u001b[39;00m shgo\n\u001b[0;32m    436\u001b[0m \u001b[38;5;28;01mfrom\u001b[39;00m \u001b[38;5;21;01m.\u001b[39;00m\u001b[38;5;21;01m_dual_annealing\u001b[39;00m \u001b[38;5;28;01mimport\u001b[39;00m dual_annealing\n\u001b[0;32m    437\u001b[0m \u001b[38;5;28;01mfrom\u001b[39;00m \u001b[38;5;21;01m.\u001b[39;00m\u001b[38;5;21;01m_qap\u001b[39;00m \u001b[38;5;28;01mimport\u001b[39;00m quadratic_assignment\n",
      "File \u001b[1;32m<frozen importlib._bootstrap>:1360\u001b[0m, in \u001b[0;36m_find_and_load\u001b[1;34m(name, import_)\u001b[0m\n",
      "File \u001b[1;32m<frozen importlib._bootstrap>:1331\u001b[0m, in \u001b[0;36m_find_and_load_unlocked\u001b[1;34m(name, import_)\u001b[0m\n",
      "File \u001b[1;32m<frozen importlib._bootstrap>:935\u001b[0m, in \u001b[0;36m_load_unlocked\u001b[1;34m(spec)\u001b[0m\n",
      "File \u001b[1;32m<frozen importlib._bootstrap_external>:991\u001b[0m, in \u001b[0;36mexec_module\u001b[1;34m(self, module)\u001b[0m\n",
      "File \u001b[1;32m<frozen importlib._bootstrap_external>:1087\u001b[0m, in \u001b[0;36mget_code\u001b[1;34m(self, fullname)\u001b[0m\n",
      "File \u001b[1;32m<frozen importlib._bootstrap_external>:1186\u001b[0m, in \u001b[0;36mget_data\u001b[1;34m(self, path)\u001b[0m\n",
      "\u001b[1;31mKeyboardInterrupt\u001b[0m: "
     ]
    }
   ],
   "source": [
    "#ADICION DE CPDS AL MODELO\n",
    "\n",
    "from pgmpy.inference import VariableElimination\n",
    "\n",
    "model.add_cpds(mle.estimate_cpd('panic'), mle.estimate_cpd('hopelessness'), mle.estimate_cpd('anger'),\n",
    "               mle.estimate_cpd('suicidal.thought'), mle.estimate_cpd('feeling.tired'),\n",
    "               mle.estimate_cpd('avoids.people.or.activities'), mle.estimate_cpd('trouble.concentrating'),\n",
    "               mle.estimate_cpd('Normal'), mle.estimate_cpd('Anxiety'), mle.estimate_cpd('Depression'),\n",
    "               mle.estimate_cpd('Stress'), mle.estimate_cpd('Loneliness'))\n",
    "\n",
    "infer=VariableElimination(model)\n",
    "\n",
    "prob_disorder=infer.query(variables=['Anxiety'])\n",
    "print(prob_disorder)\n",
    "a=prob_disorder.copy()\n",
    "print()"
   ]
  },
  {
   "cell_type": "code",
   "execution_count": 2,
   "metadata": {},
   "outputs": [
    {
     "name": "stderr",
     "output_type": "stream",
     "text": [
      "c:\\Users\\luisb\\AppData\\Local\\Programs\\Python\\Python312\\Lib\\site-packages\\tqdm\\auto.py:21: TqdmWarning: IProgress not found. Please update jupyter and ipywidgets. See https://ipywidgets.readthedocs.io/en/stable/user_install.html\n",
      "  from .autonotebook import tqdm as notebook_tqdm\n"
     ]
    },
    {
     "data": {
      "text/plain": [
       "True"
      ]
     },
     "execution_count": 2,
     "metadata": {},
     "output_type": "execute_result"
    }
   ],
   "source": [
    "from pgmpy.models import BayesianNetwork\n",
    "from pgmpy.factors.discrete import TabularCPD\n",
    "\n",
    "# Define the structure of the Bayesian network\n",
    "model = BayesianNetwork([('MoodChanges', 'MajorDepression'), \n",
    "                         ('MoodChanges', 'AnxietyDisorder'),\n",
    "                         ('MoodChanges', 'BipolarDisorder'),\n",
    "                         ('MoodChanges', 'PTSD'),\n",
    "                         ('Anxiety', 'MajorDepression'), \n",
    "                         ('Anxiety', 'AnxietyDisorder'),\n",
    "                         ('Anxiety', 'BipolarDisorder'),\n",
    "                         ('Anxiety', 'PTSD'),\n",
    "                         ('SleepProblems', 'MajorDepression'), \n",
    "                         ('SleepProblems', 'AnxietyDisorder'),\n",
    "                         ('SleepProblems', 'BipolarDisorder'),\n",
    "                         ('SleepProblems', 'PTSD'),\n",
    "                         ('AppetiteChanges', 'MajorDepression'), \n",
    "                         ('AppetiteChanges', 'AnxietyDisorder'),\n",
    "                         ('AppetiteChanges', 'BipolarDisorder'),\n",
    "                         ('AppetiteChanges', 'PTSD'),\n",
    "                         ('CognitiveDifficulties', 'MajorDepression'), \n",
    "                         ('CognitiveDifficulties', 'AnxietyDisorder'),\n",
    "                         ('CognitiveDifficulties', 'BipolarDisorder'),\n",
    "                         ('CognitiveDifficulties', 'PTSD'),\n",
    "                         ('BehavioralChanges', 'MajorDepression'), \n",
    "                         ('BehavioralChanges', 'AnxietyDisorder'),\n",
    "                         ('BehavioralChanges', 'BipolarDisorder'),\n",
    "                         ('BehavioralChanges', 'PTSD')])\n",
    "\n",
    "\n",
    "cpd_values_anxiety_disorder = [\n",
    "    0.9, 0.85, 0.8, 0.75, 0.7, 0.65, 0.6, 0.55,\n",
    "    0.85, 0.8, 0.75, 0.7, 0.65, 0.6, 0.55, 0.5,\n",
    "    0.8, 0.75, 0.7, 0.65, 0.6, 0.55, 0.5, 0.45,\n",
    "    0.75, 0.7, 0.65, 0.6, 0.55, 0.5, 0.45, 0.4,\n",
    "    0.7, 0.65, 0.6, 0.55, 0.5, 0.45, 0.4, 0.35,\n",
    "    0.65, 0.6, 0.55, 0.5, 0.45, 0.4, 0.35, 0.3,\n",
    "    0.6, 0.55, 0.5, 0.45, 0.4, 0.35, 0.3, 0.25,\n",
    "    0.55, 0.5, 0.45, 0.4, 0.35, 0.3, 0.25, 0.2\n",
    "]\n",
    "\n",
    "# PTSD\n",
    "cpd_values_ptsd = [\n",
    "    0.8, 0.75, 0.7, 0.65, 0.6, 0.55, 0.5, 0.45,\n",
    "    0.75, 0.7, 0.65, 0.6, 0.55, 0.5, 0.45, 0.4,\n",
    "    0.7, 0.65, 0.6, 0.55, 0.5, 0.45, 0.4, 0.35,\n",
    "    0.65, 0.6, 0.55, 0.5, 0.45, 0.4, 0.35, 0.3,\n",
    "    0.6, 0.55, 0.5, 0.45, 0.4, 0.35, 0.3, 0.25,\n",
    "    0.55, 0.5, 0.45, 0.4, 0.35, 0.3, 0.25, 0.2,\n",
    "    0.5, 0.45, 0.4, 0.35, 0.3, 0.25, 0.2, 0.15,\n",
    "    0.45, 0.4, 0.35, 0.3, 0.25, 0.2, 0.15, 0.1\n",
    "]\n",
    "\n",
    "# BipolarDisorder\n",
    "cpd_values_bipolar_disorder = [\n",
    "    0.85, 0.8, 0.75, 0.7, 0.65, 0.6, 0.55, 0.5,\n",
    "    0.8, 0.75, 0.7, 0.65, 0.6, 0.55, 0.5, 0.45,\n",
    "    0.75, 0.7, 0.65, 0.6, 0.55, 0.5, 0.45, 0.4,\n",
    "    0.7, 0.65, 0.6, 0.55, 0.5, 0.45, 0.4, 0.35,\n",
    "    0.65, 0.6, 0.55, 0.5, 0.45, 0.4, 0.35, 0.3,\n",
    "    0.6, 0.55, 0.5, 0.45, 0.4, 0.35, 0.3, 0.25,\n",
    "    0.55, 0.5, 0.45, 0.4, 0.35, 0.3, 0.25, 0.2,\n",
    "    0.5, 0.45, 0.4, 0.35, 0.3, 0.25, 0.2, 0.15\n",
    "]\n",
    "\n",
    "cpd_values_major_depression = [\n",
    "    0.95, 0.9, 0.85, 0.8, 0.75, 0.7, 0.65, 0.6,\n",
    "    0.9, 0.85, 0.8, 0.75, 0.7, 0.65, 0.6, 0.55,\n",
    "    0.85, 0.8, 0.75, 0.7, 0.65, 0.6, 0.55, 0.5,\n",
    "    0.8, 0.75, 0.7, 0.65, 0.6, 0.55, 0.5, 0.45,\n",
    "    0.75, 0.7, 0.65, 0.6, 0.55, 0.5, 0.45, 0.4,\n",
    "    0.7, 0.65, 0.6, 0.55, 0.5, 0.45, 0.4, 0.35,\n",
    "    0.65, 0.6, 0.55, 0.5, 0.45, 0.4, 0.35, 0.3,\n",
    "    0.6, 0.55, 0.5, 0.45, 0.4, 0.35, 0.3, 0.25\n",
    "]\n",
    "\n",
    "\n",
    "complementary_values_ptsd = [1 - value for value in cpd_values_ptsd]\n",
    "complementary_values_major_depression = [1 - value for value in cpd_values_major_depression]\n",
    "complementary_values_anxiety_disorder = [1 - value for value in cpd_values_anxiety_disorder]\n",
    "complementary_values_bipolar_disorder = [1 - value for value in cpd_values_bipolar_disorder]\n",
    "\n",
    "\n",
    "# Define conditional probability distributions (CPDs)\n",
    "cpd_mood_changes = TabularCPD(variable='MoodChanges', variable_card=2, values=[[0.8], [0.2]])\n",
    "cpd_anxiety = TabularCPD(variable='Anxiety', variable_card=2, values=[[0.7], [0.3]])\n",
    "cpd_sleep = TabularCPD(variable='SleepProblems', variable_card=2, values=[[0.8], [0.2]])\n",
    "cpd_appetite = TabularCPD(variable='AppetiteChanges', variable_card=2, values=[[0.8], [0.2]])\n",
    "cpd_cognitive = TabularCPD(variable='CognitiveDifficulties', variable_card=2, values=[[0.8], [0.2]])\n",
    "cpd_behavioral = TabularCPD(variable='BehavioralChanges', variable_card=2, values=[[0.8], [0.2]])\n",
    "\n",
    "\n",
    "cpd_major_depression = TabularCPD(variable='MajorDepression', variable_card=2, values=[cpd_values_major_depression, complementary_values_major_depression], \n",
    "                                evidence=['MoodChanges', 'Anxiety', 'SleepProblems', 'AppetiteChanges', 'CognitiveDifficulties', 'BehavioralChanges'],\n",
    "                                evidence_card=[2, 2, 2, 2, 2, 2])\n",
    "\n",
    "cpd_anxiety_disorder = TabularCPD(variable='AnxietyDisorder', variable_card=2, values=[cpd_values_anxiety_disorder, complementary_values_anxiety_disorder], \n",
    "                                evidence=['MoodChanges', 'Anxiety', 'SleepProblems', 'AppetiteChanges', 'CognitiveDifficulties', 'BehavioralChanges'],\n",
    "                                evidence_card=[2, 2, 2, 2, 2, 2])\n",
    "\n",
    "cpd_bipolar_disorder = TabularCPD(variable='BipolarDisorder', variable_card=2, values=[cpd_values_bipolar_disorder, complementary_values_bipolar_disorder], \n",
    "                                evidence=['MoodChanges', 'Anxiety', 'SleepProblems', 'AppetiteChanges', 'CognitiveDifficulties', 'BehavioralChanges'],\n",
    "                                evidence_card=[2, 2, 2, 2, 2, 2])\n",
    "\n",
    "cpd_ptsd = TabularCPD(variable='PTSD', variable_card=2, values=[cpd_values_ptsd, complementary_values_ptsd], \n",
    "                                evidence=['MoodChanges', 'Anxiety', 'SleepProblems', 'AppetiteChanges', 'CognitiveDifficulties', 'BehavioralChanges'],\n",
    "                                evidence_card=[2, 2, 2, 2, 2, 2])\n",
    "\n",
    "\n",
    "# Add CPDs to the model\n",
    "model.add_cpds(cpd_mood_changes, cpd_anxiety, cpd_sleep, cpd_appetite, cpd_cognitive, cpd_behavioral, cpd_major_depression, cpd_anxiety_disorder, cpd_bipolar_disorder, cpd_ptsd)\n",
    "\n",
    "# Check if the model is consistent\n",
    "model.check_model()\n"
   ]
  },
  {
   "cell_type": "code",
   "execution_count": 4,
   "metadata": {},
   "outputs": [
    {
     "name": "stdout",
     "output_type": "stream",
     "text": [
      "+---------+-------------+\n",
      "| PTSD    |   phi(PTSD) |\n",
      "+=========+=============+\n",
      "| PTSD(0) |      0.4200 |\n",
      "+---------+-------------+\n",
      "| PTSD(1) |      0.5800 |\n",
      "+---------+-------------+\n",
      "+--------------------+------------------------+\n",
      "| MajorDepression    |   phi(MajorDepression) |\n",
      "+====================+========================+\n",
      "| MajorDepression(0) |                 0.5700 |\n",
      "+--------------------+------------------------+\n",
      "| MajorDepression(1) |                 0.4300 |\n",
      "+--------------------+------------------------+\n"
     ]
    }
   ],
   "source": [
    "from pgmpy.inference import VariableElimination\n",
    "\n",
    "infer=VariableElimination(model)\n",
    "\n",
    "prob=infer.query(variables=['PTSD'], evidence={'MoodChanges': 1, 'Anxiety': 1})\n",
    "prob2=infer.query(variables=['MajorDepression'], evidence={'MoodChanges': 1, 'Anxiety': 1})\n",
    "\n",
    "print(prob)\n",
    "print(prob2)\n",
    "\n",
    "\n",
    "#def of done: lista de criterios para ser aceptado como incremento"
   ]
  },
  {
   "cell_type": "code",
   "execution_count": 16,
   "metadata": {},
   "outputs": [
    {
     "name": "stdout",
     "output_type": "stream",
     "text": [
      "dep:  [0.52 0.48]\n",
      "ptsd:  [0.37 0.63]\n",
      "bipolar:  [0.42 0.58]\n",
      "anx:  [0.47 0.53]\n"
     ]
    },
    {
     "data": {
      "text/plain": [
       "0.6300000000000001"
      ]
     },
     "execution_count": 16,
     "metadata": {},
     "output_type": "execute_result"
    }
   ],
   "source": [
    "evidence={'MoodChanges': 1, 'SleepProblems': 1, 'CognitiveDifficulties': 1}\n",
    "\n",
    "ptsd_vals=infer.query(variables=['PTSD'], evidence=evidence).values\n",
    "depression_vals=infer.query(variables=['MajorDepression'], evidence=evidence).values\n",
    "anx_vals=infer.query(variables=['AnxietyDisorder'], evidence=evidence).values\n",
    "bipolar_vals=infer.query(variables=['BipolarDisorder'], evidence=evidence).values\n",
    "print('dep: ', depression_vals)\n",
    "print('ptsd: ', ptsd_vals)\n",
    "print('bipolar: ', bipolar_vals)\n",
    "print('anx: ', anx_vals)\n",
    "max(anx_val[0], anx_vals[1], ptsd_vals[0], ptsd_vals[1],bipolar_vals[0],bipolar_vals[1], depression_vals[0], depression_vals[1])"
   ]
  },
  {
   "cell_type": "code",
   "execution_count": null,
   "metadata": {},
   "outputs": [
    {
     "name": "stdout",
     "output_type": "stream",
     "text": [
      "dep:  [0.52 0.48]\n",
      "ptsd:  [0.37 0.63]\n",
      "bipolar:  [0.42 0.58]\n",
      "anx:  [0.47 0.53]\n"
     ]
    },
    {
     "data": {
      "text/plain": [
       "0.6300000000000001"
      ]
     },
     "metadata": {},
     "output_type": "display_data"
    }
   ],
   "source": [
    "evidence={'MoodChanges': 1, 'SleepProblems': 1, 'CognitiveDifficulties': 1}\n",
    "\n",
    "ptsd_vals=infer.query(variables=['PTSD'], evidence=evidence).values\n",
    "depression_vals=infer.query(variables=['MajorDepression'], evidence=evidence).values\n",
    "anx_vals=infer.query(variables=['AnxietyDisorder'], evidence=evidence).values\n",
    "bipolar_vals=infer.query(variables=['BipolarDisorder'], evidence=evidence).values\n",
    "print('dep: ', depression_vals)\n",
    "print('ptsd: ', ptsd_vals)\n",
    "print('bipolar: ', bipolar_vals)\n",
    "print('anx: ', anx_vals)\n",
    "max(anx_val[0], anx_vals[1], ptsd_vals[0], ptsd_vals[1],bipolar_vals[0],bipolar_vals[1], depression_vals[0], depression_vals[1])"
   ]
  },
  {
   "cell_type": "code",
   "execution_count": null,
   "metadata": {},
   "outputs": [
    {
     "name": "stdout",
     "output_type": "stream",
     "text": [
      "dep:  [0.52 0.48]\n",
      "ptsd:  [0.37 0.63]\n",
      "bipolar:  [0.42 0.58]\n",
      "anx:  [0.47 0.53]\n"
     ]
    },
    {
     "data": {
      "text/plain": [
       "0.6300000000000001"
      ]
     },
     "metadata": {},
     "output_type": "display_data"
    }
   ],
   "source": [
    "evidence={'MoodChanges': 1, 'SleepProblems': 1, 'CognitiveDifficulties': 1}\n",
    "\n",
    "ptsd_vals=infer.query(variables=['PTSD'], evidence=evidence).values\n",
    "depression_vals=infer.query(variables=['MajorDepression'], evidence=evidence).values\n",
    "anx_vals=infer.query(variables=['AnxietyDisorder'], evidence=evidence).values\n",
    "bipolar_vals=infer.query(variables=['BipolarDisorder'], evidence=evidence).values\n",
    "print('dep: ', depression_vals)\n",
    "print('ptsd: ', ptsd_vals)\n",
    "print('bipolar: ', bipolar_vals)\n",
    "print('anx: ', anx_vals)\n",
    "max(anx_val[0], anx_vals[1], ptsd_vals[0], ptsd_vals[1],bipolar_vals[0],bipolar_vals[1], depression_vals[0], depression_vals[1])"
   ]
  },
  {
   "cell_type": "code",
   "execution_count": null,
   "metadata": {},
   "outputs": [
    {
     "name": "stdout",
     "output_type": "stream",
     "text": [
      "dep:  [0.52 0.48]\n",
      "ptsd:  [0.37 0.63]\n",
      "bipolar:  [0.42 0.58]\n",
      "anx:  [0.47 0.53]\n"
     ]
    },
    {
     "data": {
      "text/plain": [
       "0.6300000000000001"
      ]
     },
     "metadata": {},
     "output_type": "display_data"
    }
   ],
   "source": [
    "evidence={'MoodChanges': 1, 'SleepProblems': 1, 'CognitiveDifficulties': 1}\n",
    "\n",
    "ptsd_vals=infer.query(variables=['PTSD'], evidence=evidence).values\n",
    "depression_vals=infer.query(variables=['MajorDepression'], evidence=evidence).values\n",
    "anx_vals=infer.query(variables=['AnxietyDisorder'], evidence=evidence).values\n",
    "bipolar_vals=infer.query(variables=['BipolarDisorder'], evidence=evidence).values\n",
    "print('dep: ', depression_vals)\n",
    "print('ptsd: ', ptsd_vals)\n",
    "print('bipolar: ', bipolar_vals)\n",
    "print('anx: ', anx_vals)\n",
    "max(anx_val[0], anx_vals[1], ptsd_vals[0], ptsd_vals[1],bipolar_vals[0],bipolar_vals[1], depression_vals[0], depression_vals[1])"
   ]
  },
  {
   "cell_type": "code",
   "execution_count": null,
   "metadata": {},
   "outputs": [
    {
     "name": "stdout",
     "output_type": "stream",
     "text": [
      "dep:  [0.52 0.48]\n",
      "ptsd:  [0.37 0.63]\n",
      "bipolar:  [0.42 0.58]\n",
      "anx:  [0.47 0.53]\n"
     ]
    },
    {
     "data": {
      "text/plain": [
       "0.6300000000000001"
      ]
     },
     "metadata": {},
     "output_type": "display_data"
    }
   ],
   "source": [
    "evidence={'MoodChanges': 1, 'SleepProblems': 1, 'CognitiveDifficulties': 1}\n",
    "\n",
    "ptsd_vals=infer.query(variables=['PTSD'], evidence=evidence).values\n",
    "depression_vals=infer.query(variables=['MajorDepression'], evidence=evidence).values\n",
    "anx_vals=infer.query(variables=['AnxietyDisorder'], evidence=evidence).values\n",
    "bipolar_vals=infer.query(variables=['BipolarDisorder'], evidence=evidence).values\n",
    "print('dep: ', depression_vals)\n",
    "print('ptsd: ', ptsd_vals)\n",
    "print('bipolar: ', bipolar_vals)\n",
    "print('anx: ', anx_vals)\n",
    "max(anx_val[0], anx_vals[1], ptsd_vals[0], ptsd_vals[1],bipolar_vals[0],bipolar_vals[1], depression_vals[0], depression_vals[1])"
   ]
  },
  {
   "cell_type": "code",
   "execution_count": null,
   "metadata": {},
   "outputs": [
    {
     "name": "stdout",
     "output_type": "stream",
     "text": [
      "dep:  [0.52 0.48]\n",
      "ptsd:  [0.37 0.63]\n",
      "bipolar:  [0.42 0.58]\n",
      "anx:  [0.47 0.53]\n"
     ]
    },
    {
     "data": {
      "text/plain": [
       "0.6300000000000001"
      ]
     },
     "metadata": {},
     "output_type": "display_data"
    }
   ],
   "source": [
    "evidence={'MoodChanges': 1, 'SleepProblems': 1, 'CognitiveDifficulties': 1}\n",
    "\n",
    "ptsd_vals=infer.query(variables=['PTSD'], evidence=evidence).values\n",
    "depression_vals=infer.query(variables=['MajorDepression'], evidence=evidence).values\n",
    "anx_vals=infer.query(variables=['AnxietyDisorder'], evidence=evidence).values\n",
    "bipolar_vals=infer.query(variables=['BipolarDisorder'], evidence=evidence).values\n",
    "print('dep: ', depression_vals)\n",
    "print('ptsd: ', ptsd_vals)\n",
    "print('bipolar: ', bipolar_vals)\n",
    "print('anx: ', anx_vals)\n",
    "max(anx_val[0], anx_vals[1], ptsd_vals[0], ptsd_vals[1],bipolar_vals[0],bipolar_vals[1], depression_vals[0], depression_vals[1])"
   ]
  },
  {
   "cell_type": "code",
   "execution_count": null,
   "metadata": {},
   "outputs": [
    {
     "name": "stdout",
     "output_type": "stream",
     "text": [
      "dep:  [0.52 0.48]\n",
      "ptsd:  [0.37 0.63]\n",
      "bipolar:  [0.42 0.58]\n",
      "anx:  [0.47 0.53]\n"
     ]
    },
    {
     "data": {
      "text/plain": [
       "0.6300000000000001"
      ]
     },
     "metadata": {},
     "output_type": "display_data"
    }
   ],
   "source": [
    "evidence={'MoodChanges': 1, 'SleepProblems': 1, 'CognitiveDifficulties': 1}\n",
    "\n",
    "ptsd_vals=infer.query(variables=['PTSD'], evidence=evidence).values\n",
    "depression_vals=infer.query(variables=['MajorDepression'], evidence=evidence).values\n",
    "anx_vals=infer.query(variables=['AnxietyDisorder'], evidence=evidence).values\n",
    "bipolar_vals=infer.query(variables=['BipolarDisorder'], evidence=evidence).values\n",
    "print('dep: ', depression_vals)\n",
    "print('ptsd: ', ptsd_vals)\n",
    "print('bipolar: ', bipolar_vals)\n",
    "print('anx: ', anx_vals)\n",
    "max(anx_val[0], anx_vals[1], ptsd_vals[0], ptsd_vals[1],bipolar_vals[0],bipolar_vals[1], depression_vals[0], depression_vals[1])"
   ]
  },
  {
   "cell_type": "code",
   "execution_count": null,
   "metadata": {},
   "outputs": [
    {
     "name": "stdout",
     "output_type": "stream",
     "text": [
      "dep:  [0.52 0.48]\n",
      "ptsd:  [0.37 0.63]\n",
      "bipolar:  [0.42 0.58]\n",
      "anx:  [0.47 0.53]\n"
     ]
    },
    {
     "data": {
      "text/plain": [
       "0.6300000000000001"
      ]
     },
     "metadata": {},
     "output_type": "display_data"
    }
   ],
   "source": [
    "evidence={'MoodChanges': 1, 'SleepProblems': 1, 'CognitiveDifficulties': 1}\n",
    "\n",
    "ptsd_vals=infer.query(variables=['PTSD'], evidence=evidence).values\n",
    "depression_vals=infer.query(variables=['MajorDepression'], evidence=evidence).values\n",
    "anx_vals=infer.query(variables=['AnxietyDisorder'], evidence=evidence).values\n",
    "bipolar_vals=infer.query(variables=['BipolarDisorder'], evidence=evidence).values\n",
    "print('dep: ', depression_vals)\n",
    "print('ptsd: ', ptsd_vals)\n",
    "print('bipolar: ', bipolar_vals)\n",
    "print('anx: ', anx_vals)\n",
    "max(anx_val[0], anx_vals[1], ptsd_vals[0], ptsd_vals[1],bipolar_vals[0],bipolar_vals[1], depression_vals[0], depression_vals[1])"
   ]
  },
  {
   "cell_type": "code",
   "execution_count": null,
   "metadata": {},
   "outputs": [
    {
     "name": "stdout",
     "output_type": "stream",
     "text": [
      "dep:  [0.52 0.48]\n",
      "ptsd:  [0.37 0.63]\n",
      "bipolar:  [0.42 0.58]\n",
      "anx:  [0.47 0.53]\n"
     ]
    },
    {
     "data": {
      "text/plain": [
       "0.6300000000000001"
      ]
     },
     "metadata": {},
     "output_type": "display_data"
    }
   ],
   "source": [
    "evidence={'MoodChanges': 1, 'SleepProblems': 1, 'CognitiveDifficulties': 1}\n",
    "\n",
    "ptsd_vals=infer.query(variables=['PTSD'], evidence=evidence).values\n",
    "depression_vals=infer.query(variables=['MajorDepression'], evidence=evidence).values\n",
    "anx_vals=infer.query(variables=['AnxietyDisorder'], evidence=evidence).values\n",
    "bipolar_vals=infer.query(variables=['BipolarDisorder'], evidence=evidence).values\n",
    "print('dep: ', depression_vals)\n",
    "print('ptsd: ', ptsd_vals)\n",
    "print('bipolar: ', bipolar_vals)\n",
    "print('anx: ', anx_vals)\n",
    "max(anx_val[0], anx_vals[1], ptsd_vals[0], ptsd_vals[1],bipolar_vals[0],bipolar_vals[1], depression_vals[0], depression_vals[1])"
   ]
  },
  {
   "cell_type": "code",
   "execution_count": null,
   "metadata": {},
   "outputs": [
    {
     "name": "stdout",
     "output_type": "stream",
     "text": [
      "dep:  [0.52 0.48]\n",
      "ptsd:  [0.37 0.63]\n",
      "bipolar:  [0.42 0.58]\n",
      "anx:  [0.47 0.53]\n"
     ]
    },
    {
     "data": {
      "text/plain": [
       "0.6300000000000001"
      ]
     },
     "metadata": {},
     "output_type": "display_data"
    }
   ],
   "source": [
    "evidence={'MoodChanges': 1, 'SleepProblems': 1, 'CognitiveDifficulties': 1}\n",
    "\n",
    "ptsd_vals=infer.query(variables=['PTSD'], evidence=evidence).values\n",
    "depression_vals=infer.query(variables=['MajorDepression'], evidence=evidence).values\n",
    "anx_vals=infer.query(variables=['AnxietyDisorder'], evidence=evidence).values\n",
    "bipolar_vals=infer.query(variables=['BipolarDisorder'], evidence=evidence).values\n",
    "print('dep: ', depression_vals)\n",
    "print('ptsd: ', ptsd_vals)\n",
    "print('bipolar: ', bipolar_vals)\n",
    "print('anx: ', anx_vals)\n",
    "max(anx_val[0], anx_vals[1], ptsd_vals[0], ptsd_vals[1],bipolar_vals[0],bipolar_vals[1], depression_vals[0], depression_vals[1])"
   ]
  },
  {
   "cell_type": "code",
   "execution_count": null,
   "metadata": {},
   "outputs": [
    {
     "name": "stdout",
     "output_type": "stream",
     "text": [
      "dep:  [0.52 0.48]\n",
      "ptsd:  [0.37 0.63]\n",
      "bipolar:  [0.42 0.58]\n",
      "anx:  [0.47 0.53]\n"
     ]
    },
    {
     "data": {
      "text/plain": [
       "0.6300000000000001"
      ]
     },
     "metadata": {},
     "output_type": "display_data"
    }
   ],
   "source": [
    "evidence={'MoodChanges': 1, 'SleepProblems': 1, 'CognitiveDifficulties': 1}\n",
    "\n",
    "ptsd_vals=infer.query(variables=['PTSD'], evidence=evidence).values\n",
    "depression_vals=infer.query(variables=['MajorDepression'], evidence=evidence).values\n",
    "anx_vals=infer.query(variables=['AnxietyDisorder'], evidence=evidence).values\n",
    "bipolar_vals=infer.query(variables=['BipolarDisorder'], evidence=evidence).values\n",
    "print('dep: ', depression_vals)\n",
    "print('ptsd: ', ptsd_vals)\n",
    "print('bipolar: ', bipolar_vals)\n",
    "print('anx: ', anx_vals)\n",
    "max(anx_val[0], anx_vals[1], ptsd_vals[0], ptsd_vals[1],bipolar_vals[0],bipolar_vals[1], depression_vals[0], depression_vals[1])"
   ]
  },
  {
   "cell_type": "code",
   "execution_count": null,
   "metadata": {},
   "outputs": [
    {
     "name": "stdout",
     "output_type": "stream",
     "text": [
      "dep:  [0.52 0.48]\n",
      "ptsd:  [0.37 0.63]\n",
      "bipolar:  [0.42 0.58]\n",
      "anx:  [0.47 0.53]\n"
     ]
    },
    {
     "data": {
      "text/plain": [
       "0.6300000000000001"
      ]
     },
     "metadata": {},
     "output_type": "display_data"
    }
   ],
   "source": [
    "evidence={'MoodChanges': 1, 'SleepProblems': 1, 'CognitiveDifficulties': 1}\n",
    "\n",
    "ptsd_vals=infer.query(variables=['PTSD'], evidence=evidence).values\n",
    "depression_vals=infer.query(variables=['MajorDepression'], evidence=evidence).values\n",
    "anx_vals=infer.query(variables=['AnxietyDisorder'], evidence=evidence).values\n",
    "bipolar_vals=infer.query(variables=['BipolarDisorder'], evidence=evidence).values\n",
    "print('dep: ', depression_vals)\n",
    "print('ptsd: ', ptsd_vals)\n",
    "print('bipolar: ', bipolar_vals)\n",
    "print('anx: ', anx_vals)\n",
    "max(anx_val[0], anx_vals[1], ptsd_vals[0], ptsd_vals[1],bipolar_vals[0],bipolar_vals[1], depression_vals[0], depression_vals[1])"
   ]
  },
  {
   "cell_type": "code",
   "execution_count": null,
   "metadata": {},
   "outputs": [
    {
     "name": "stdout",
     "output_type": "stream",
     "text": [
      "dep:  [0.52 0.48]\n",
      "ptsd:  [0.37 0.63]\n",
      "bipolar:  [0.42 0.58]\n",
      "anx:  [0.47 0.53]\n"
     ]
    },
    {
     "data": {
      "text/plain": [
       "0.6300000000000001"
      ]
     },
     "metadata": {},
     "output_type": "display_data"
    }
   ],
   "source": [
    "evidence={'MoodChanges': 1, 'SleepProblems': 1, 'CognitiveDifficulties': 1}\n",
    "\n",
    "ptsd_vals=infer.query(variables=['PTSD'], evidence=evidence).values\n",
    "depression_vals=infer.query(variables=['MajorDepression'], evidence=evidence).values\n",
    "anx_vals=infer.query(variables=['AnxietyDisorder'], evidence=evidence).values\n",
    "bipolar_vals=infer.query(variables=['BipolarDisorder'], evidence=evidence).values\n",
    "print('dep: ', depression_vals)\n",
    "print('ptsd: ', ptsd_vals)\n",
    "print('bipolar: ', bipolar_vals)\n",
    "print('anx: ', anx_vals)\n",
    "max(anx_val[0], anx_vals[1], ptsd_vals[0], ptsd_vals[1],bipolar_vals[0],bipolar_vals[1], depression_vals[0], depression_vals[1])"
   ]
  },
  {
   "cell_type": "code",
   "execution_count": null,
   "metadata": {},
   "outputs": [
    {
     "name": "stdout",
     "output_type": "stream",
     "text": [
      "dep:  [0.52 0.48]\n",
      "ptsd:  [0.37 0.63]\n",
      "bipolar:  [0.42 0.58]\n",
      "anx:  [0.47 0.53]\n"
     ]
    },
    {
     "data": {
      "text/plain": [
       "0.6300000000000001"
      ]
     },
     "metadata": {},
     "output_type": "display_data"
    }
   ],
   "source": [
    "evidence={'MoodChanges': 1, 'SleepProblems': 1, 'CognitiveDifficulties': 1}\n",
    "\n",
    "ptsd_vals=infer.query(variables=['PTSD'], evidence=evidence).values\n",
    "depression_vals=infer.query(variables=['MajorDepression'], evidence=evidence).values\n",
    "anx_vals=infer.query(variables=['AnxietyDisorder'], evidence=evidence).values\n",
    "bipolar_vals=infer.query(variables=['BipolarDisorder'], evidence=evidence).values\n",
    "print('dep: ', depression_vals)\n",
    "print('ptsd: ', ptsd_vals)\n",
    "print('bipolar: ', bipolar_vals)\n",
    "print('anx: ', anx_vals)\n",
    "max(anx_val[0], anx_vals[1], ptsd_vals[0], ptsd_vals[1],bipolar_vals[0],bipolar_vals[1], depression_vals[0], depression_vals[1])"
   ]
  },
  {
   "cell_type": "code",
   "execution_count": null,
   "metadata": {},
   "outputs": [],
   "source": [
    "{'MoodChanges': 1, 'SleepProblems': 0, 'CognitiveDifficulties': 0}\n",
    "{'MoodChanges': 1}"
   ]
  },
  {
   "cell_type": "code",
   "execution_count": null,
   "metadata": {},
   "outputs": [
    {
     "name": "stdout",
     "output_type": "stream",
     "text": [
      "dep:  [0.52 0.48]\n",
      "ptsd:  [0.37 0.63]\n",
      "bipolar:  [0.42 0.58]\n",
      "anx:  [0.47 0.53]\n"
     ]
    },
    {
     "data": {
      "text/plain": [
       "0.6300000000000001"
      ]
     },
     "metadata": {},
     "output_type": "display_data"
    }
   ],
   "source": [
    "evidence={'MoodChanges': 1, 'SleepProblems': 1, 'CognitiveDifficulties': 1}\n",
    "\n",
    "ptsd_vals=infer.query(variables=['PTSD'], evidence=evidence).values\n",
    "depression_vals=infer.query(variables=['MajorDepression'], evidence=evidence).values\n",
    "anx_vals=infer.query(variables=['AnxietyDisorder'], evidence=evidence).values\n",
    "bipolar_vals=infer.query(variables=['BipolarDisorder'], evidence=evidence).values\n",
    "print('dep: ', depression_vals)\n",
    "print('ptsd: ', ptsd_vals)\n",
    "print('bipolar: ', bipolar_vals)\n",
    "print('anx: ', anx_vals)\n",
    "max(anx_val[0], anx_vals[1], ptsd_vals[0], ptsd_vals[1],bipolar_vals[0],bipolar_vals[1], depression_vals[0], depression_vals[1])"
   ]
  },
  {
   "cell_type": "code",
   "execution_count": null,
   "metadata": {},
   "outputs": [
    {
     "name": "stdout",
     "output_type": "stream",
     "text": [
      "dep:  [0.52 0.48]\n",
      "ptsd:  [0.37 0.63]\n",
      "bipolar:  [0.42 0.58]\n",
      "anx:  [0.47 0.53]\n"
     ]
    },
    {
     "data": {
      "text/plain": [
       "0.6300000000000001"
      ]
     },
     "metadata": {},
     "output_type": "display_data"
    }
   ],
   "source": [
    "evidence={'MoodChanges': 1, 'SleepProblems': 1, 'CognitiveDifficulties': 1}\n",
    "\n",
    "ptsd_vals=infer.query(variables=['PTSD'], evidence=evidence).values\n",
    "depression_vals=infer.query(variables=['MajorDepression'], evidence=evidence).values\n",
    "anx_vals=infer.query(variables=['AnxietyDisorder'], evidence=evidence).values\n",
    "bipolar_vals=infer.query(variables=['BipolarDisorder'], evidence=evidence).values\n",
    "print('dep: ', depression_vals)\n",
    "print('ptsd: ', ptsd_vals)\n",
    "print('bipolar: ', bipolar_vals)\n",
    "print('anx: ', anx_vals)\n",
    "max(anx_val[0], anx_vals[1], ptsd_vals[0], ptsd_vals[1],bipolar_vals[0],bipolar_vals[1], depression_vals[0], depression_vals[1])"
   ]
  },
  {
   "cell_type": "code",
   "execution_count": null,
   "metadata": {},
   "outputs": [
    {
     "name": "stdout",
     "output_type": "stream",
     "text": [
      "dep:  [0.52 0.48]\n",
      "ptsd:  [0.37 0.63]\n",
      "bipolar:  [0.42 0.58]\n",
      "anx:  [0.47 0.53]\n"
     ]
    },
    {
     "data": {
      "text/plain": [
       "0.6300000000000001"
      ]
     },
     "metadata": {},
     "output_type": "display_data"
    }
   ],
   "source": [
    "evidence={'MoodChanges': 1, 'SleepProblems': 1, 'CognitiveDifficulties': 1}\n",
    "\n",
    "ptsd_vals=infer.query(variables=['PTSD'], evidence=evidence).values\n",
    "depression_vals=infer.query(variables=['MajorDepression'], evidence=evidence).values\n",
    "anx_vals=infer.query(variables=['AnxietyDisorder'], evidence=evidence).values\n",
    "bipolar_vals=infer.query(variables=['BipolarDisorder'], evidence=evidence).values\n",
    "print('dep: ', depression_vals)\n",
    "print('ptsd: ', ptsd_vals)\n",
    "print('bipolar: ', bipolar_vals)\n",
    "print('anx: ', anx_vals)\n",
    "max(anx_val[0], anx_vals[1], ptsd_vals[0], ptsd_vals[1],bipolar_vals[0],bipolar_vals[1], depression_vals[0], depression_vals[1])"
   ]
  },
  {
   "cell_type": "code",
   "execution_count": null,
   "metadata": {},
   "outputs": [
    {
     "name": "stdout",
     "output_type": "stream",
     "text": [
      "dep:  [0.52 0.48]\n",
      "ptsd:  [0.37 0.63]\n",
      "bipolar:  [0.42 0.58]\n",
      "anx:  [0.47 0.53]\n"
     ]
    },
    {
     "data": {
      "text/plain": [
       "0.6300000000000001"
      ]
     },
     "metadata": {},
     "output_type": "display_data"
    }
   ],
   "source": [
    "evidence={'MoodChanges': 1, 'SleepProblems': 1, 'CognitiveDifficulties': 1}\n",
    "\n",
    "ptsd_vals=infer.query(variables=['PTSD'], evidence=evidence).values\n",
    "depression_vals=infer.query(variables=['MajorDepression'], evidence=evidence).values\n",
    "anx_vals=infer.query(variables=['AnxietyDisorder'], evidence=evidence).values\n",
    "bipolar_vals=infer.query(variables=['BipolarDisorder'], evidence=evidence).values\n",
    "print('dep: ', depression_vals)\n",
    "print('ptsd: ', ptsd_vals)\n",
    "print('bipolar: ', bipolar_vals)\n",
    "print('anx: ', anx_vals)\n",
    "max(anx_val[0], anx_vals[1], ptsd_vals[0], ptsd_vals[1],bipolar_vals[0],bipolar_vals[1], depression_vals[0], depression_vals[1])"
   ]
  },
  {
   "cell_type": "code",
   "execution_count": null,
   "metadata": {},
   "outputs": [
    {
     "name": "stdout",
     "output_type": "stream",
     "text": [
      "dep:  [0.52 0.48]\n",
      "ptsd:  [0.37 0.63]\n",
      "bipolar:  [0.42 0.58]\n",
      "anx:  [0.47 0.53]\n"
     ]
    },
    {
     "data": {
      "text/plain": [
       "0.6300000000000001"
      ]
     },
     "metadata": {},
     "output_type": "display_data"
    }
   ],
   "source": [
    "evidence={'MoodChanges': 1, 'SleepProblems': 1, 'CognitiveDifficulties': 1}\n",
    "\n",
    "ptsd_vals=infer.query(variables=['PTSD'], evidence=evidence).values\n",
    "depression_vals=infer.query(variables=['MajorDepression'], evidence=evidence).values\n",
    "anx_vals=infer.query(variables=['AnxietyDisorder'], evidence=evidence).values\n",
    "bipolar_vals=infer.query(variables=['BipolarDisorder'], evidence=evidence).values\n",
    "print('dep: ', depression_vals)\n",
    "print('ptsd: ', ptsd_vals)\n",
    "print('bipolar: ', bipolar_vals)\n",
    "print('anx: ', anx_vals)\n",
    "max(anx_val[0], anx_vals[1], ptsd_vals[0], ptsd_vals[1],bipolar_vals[0],bipolar_vals[1], depression_vals[0], depression_vals[1])"
   ]
  },
  {
   "cell_type": "code",
   "execution_count": null,
   "metadata": {},
   "outputs": [
    {
     "name": "stdout",
     "output_type": "stream",
     "text": [
      "dep:  [0.52 0.48]\n",
      "ptsd:  [0.37 0.63]\n",
      "bipolar:  [0.42 0.58]\n",
      "anx:  [0.47 0.53]\n"
     ]
    },
    {
     "data": {
      "text/plain": [
       "0.6300000000000001"
      ]
     },
     "metadata": {},
     "output_type": "display_data"
    }
   ],
   "source": [
    "evidence={'MoodChanges': 1, 'SleepProblems': 1, 'CognitiveDifficulties': 1}\n",
    "\n",
    "ptsd_vals=infer.query(variables=['PTSD'], evidence=evidence).values\n",
    "depression_vals=infer.query(variables=['MajorDepression'], evidence=evidence).values\n",
    "anx_vals=infer.query(variables=['AnxietyDisorder'], evidence=evidence).values\n",
    "bipolar_vals=infer.query(variables=['BipolarDisorder'], evidence=evidence).values\n",
    "print('dep: ', depression_vals)\n",
    "print('ptsd: ', ptsd_vals)\n",
    "print('bipolar: ', bipolar_vals)\n",
    "print('anx: ', anx_vals)\n",
    "max(anx_val[0], anx_vals[1], ptsd_vals[0], ptsd_vals[1],bipolar_vals[0],bipolar_vals[1], depression_vals[0], depression_vals[1])"
   ]
  },
  {
   "cell_type": "code",
   "execution_count": null,
   "metadata": {},
   "outputs": [
    {
     "name": "stdout",
     "output_type": "stream",
     "text": [
      "dep:  [0.52 0.48]\n",
      "ptsd:  [0.37 0.63]\n",
      "bipolar:  [0.42 0.58]\n",
      "anx:  [0.47 0.53]\n"
     ]
    },
    {
     "data": {
      "text/plain": [
       "0.6300000000000001"
      ]
     },
     "metadata": {},
     "output_type": "display_data"
    }
   ],
   "source": [
    "evidence={'MoodChanges': 1, 'SleepProblems': 1, 'CognitiveDifficulties': 1}\n",
    "\n",
    "ptsd_vals=infer.query(variables=['PTSD'], evidence=evidence).values\n",
    "depression_vals=infer.query(variables=['MajorDepression'], evidence=evidence).values\n",
    "anx_vals=infer.query(variables=['AnxietyDisorder'], evidence=evidence).values\n",
    "bipolar_vals=infer.query(variables=['BipolarDisorder'], evidence=evidence).values\n",
    "print('dep: ', depression_vals)\n",
    "print('ptsd: ', ptsd_vals)\n",
    "print('bipolar: ', bipolar_vals)\n",
    "print('anx: ', anx_vals)\n",
    "max(anx_val[0], anx_vals[1], ptsd_vals[0], ptsd_vals[1],bipolar_vals[0],bipolar_vals[1], depression_vals[0], depression_vals[1])"
   ]
  },
  {
   "cell_type": "code",
   "execution_count": null,
   "metadata": {},
   "outputs": [
    {
     "name": "stdout",
     "output_type": "stream",
     "text": [
      "dep:  [0.52 0.48]\n",
      "ptsd:  [0.37 0.63]\n",
      "bipolar:  [0.42 0.58]\n",
      "anx:  [0.47 0.53]\n"
     ]
    },
    {
     "data": {
      "text/plain": [
       "0.6300000000000001"
      ]
     },
     "metadata": {},
     "output_type": "display_data"
    }
   ],
   "source": [
    "evidence={'MoodChanges': 1, 'SleepProblems': 1, 'CognitiveDifficulties': 1}\n",
    "\n",
    "ptsd_vals=infer.query(variables=['PTSD'], evidence=evidence).values\n",
    "depression_vals=infer.query(variables=['MajorDepression'], evidence=evidence).values\n",
    "anx_vals=infer.query(variables=['AnxietyDisorder'], evidence=evidence).values\n",
    "bipolar_vals=infer.query(variables=['BipolarDisorder'], evidence=evidence).values\n",
    "print('dep: ', depression_vals)\n",
    "print('ptsd: ', ptsd_vals)\n",
    "print('bipolar: ', bipolar_vals)\n",
    "print('anx: ', anx_vals)\n",
    "max(anx_val[0], anx_vals[1], ptsd_vals[0], ptsd_vals[1],bipolar_vals[0],bipolar_vals[1], depression_vals[0], depression_vals[1])"
   ]
  },
  {
   "cell_type": "code",
   "execution_count": null,
   "metadata": {},
   "outputs": [
    {
     "name": "stdout",
     "output_type": "stream",
     "text": [
      "dep:  [0.52 0.48]\n",
      "ptsd:  [0.37 0.63]\n",
      "bipolar:  [0.42 0.58]\n",
      "anx:  [0.47 0.53]\n"
     ]
    },
    {
     "data": {
      "text/plain": [
       "0.6300000000000001"
      ]
     },
     "metadata": {},
     "output_type": "display_data"
    }
   ],
   "source": [
    "evidence={'MoodChanges': 1, 'SleepProblems': 1, 'CognitiveDifficulties': 1}\n",
    "\n",
    "ptsd_vals=infer.query(variables=['PTSD'], evidence=evidence).values\n",
    "depression_vals=infer.query(variables=['MajorDepression'], evidence=evidence).values\n",
    "anx_vals=infer.query(variables=['AnxietyDisorder'], evidence=evidence).values\n",
    "bipolar_vals=infer.query(variables=['BipolarDisorder'], evidence=evidence).values\n",
    "print('dep: ', depression_vals)\n",
    "print('ptsd: ', ptsd_vals)\n",
    "print('bipolar: ', bipolar_vals)\n",
    "print('anx: ', anx_vals)\n",
    "max(anx_val[0], anx_vals[1], ptsd_vals[0], ptsd_vals[1],bipolar_vals[0],bipolar_vals[1], depression_vals[0], depression_vals[1])"
   ]
  },
  {
   "cell_type": "code",
   "execution_count": null,
   "metadata": {},
   "outputs": [
    {
     "name": "stdout",
     "output_type": "stream",
     "text": [
      "dep:  [0.52 0.48]\n",
      "ptsd:  [0.37 0.63]\n",
      "bipolar:  [0.42 0.58]\n",
      "anx:  [0.47 0.53]\n"
     ]
    },
    {
     "data": {
      "text/plain": [
       "0.6300000000000001"
      ]
     },
     "metadata": {},
     "output_type": "display_data"
    }
   ],
   "source": [
    "evidence={'MoodChanges': 1, 'SleepProblems': 1, 'CognitiveDifficulties': 1}\n",
    "\n",
    "ptsd_vals=infer.query(variables=['PTSD'], evidence=evidence).values\n",
    "depression_vals=infer.query(variables=['MajorDepression'], evidence=evidence).values\n",
    "anx_vals=infer.query(variables=['AnxietyDisorder'], evidence=evidence).values\n",
    "bipolar_vals=infer.query(variables=['BipolarDisorder'], evidence=evidence).values\n",
    "print('dep: ', depression_vals)\n",
    "print('ptsd: ', ptsd_vals)\n",
    "print('bipolar: ', bipolar_vals)\n",
    "print('anx: ', anx_vals)\n",
    "max(anx_val[0], anx_vals[1], ptsd_vals[0], ptsd_vals[1],bipolar_vals[0],bipolar_vals[1], depression_vals[0], depression_vals[1])"
   ]
  },
  {
   "cell_type": "code",
   "execution_count": null,
   "metadata": {},
   "outputs": [
    {
     "name": "stdout",
     "output_type": "stream",
     "text": [
      "dep:  [0.52 0.48]\n",
      "ptsd:  [0.37 0.63]\n",
      "bipolar:  [0.42 0.58]\n",
      "anx:  [0.47 0.53]\n"
     ]
    },
    {
     "data": {
      "text/plain": [
       "0.6300000000000001"
      ]
     },
     "metadata": {},
     "output_type": "display_data"
    }
   ],
   "source": [
    "evidence={'MoodChanges': 1, 'SleepProblems': 1, 'CognitiveDifficulties': 1}\n",
    "\n",
    "ptsd_vals=infer.query(variables=['PTSD'], evidence=evidence).values\n",
    "depression_vals=infer.query(variables=['MajorDepression'], evidence=evidence).values\n",
    "anx_vals=infer.query(variables=['AnxietyDisorder'], evidence=evidence).values\n",
    "bipolar_vals=infer.query(variables=['BipolarDisorder'], evidence=evidence).values\n",
    "print('dep: ', depression_vals)\n",
    "print('ptsd: ', ptsd_vals)\n",
    "print('bipolar: ', bipolar_vals)\n",
    "print('anx: ', anx_vals)\n",
    "max(anx_val[0], anx_vals[1], ptsd_vals[0], ptsd_vals[1],bipolar_vals[0],bipolar_vals[1], depression_vals[0], depression_vals[1])"
   ]
  },
  {
   "cell_type": "code",
   "execution_count": null,
   "metadata": {},
   "outputs": [
    {
     "name": "stdout",
     "output_type": "stream",
     "text": [
      "dep:  [0.52 0.48]\n",
      "ptsd:  [0.37 0.63]\n",
      "bipolar:  [0.42 0.58]\n",
      "anx:  [0.47 0.53]\n"
     ]
    },
    {
     "data": {
      "text/plain": [
       "0.6300000000000001"
      ]
     },
     "metadata": {},
     "output_type": "display_data"
    }
   ],
   "source": [
    "evidence={'MoodChanges': 1, 'SleepProblems': 1, 'CognitiveDifficulties': 1}\n",
    "\n",
    "ptsd_vals=infer.query(variables=['PTSD'], evidence=evidence).values\n",
    "depression_vals=infer.query(variables=['MajorDepression'], evidence=evidence).values\n",
    "anx_vals=infer.query(variables=['AnxietyDisorder'], evidence=evidence).values\n",
    "bipolar_vals=infer.query(variables=['BipolarDisorder'], evidence=evidence).values\n",
    "print('dep: ', depression_vals)\n",
    "print('ptsd: ', ptsd_vals)\n",
    "print('bipolar: ', bipolar_vals)\n",
    "print('anx: ', anx_vals)\n",
    "max(anx_val[0], anx_vals[1], ptsd_vals[0], ptsd_vals[1],bipolar_vals[0],bipolar_vals[1], depression_vals[0], depression_vals[1])"
   ]
  },
  {
   "cell_type": "code",
   "execution_count": null,
   "metadata": {},
   "outputs": [
    {
     "name": "stdout",
     "output_type": "stream",
     "text": [
      "dep:  [0.52 0.48]\n",
      "ptsd:  [0.37 0.63]\n",
      "bipolar:  [0.42 0.58]\n",
      "anx:  [0.47 0.53]\n"
     ]
    },
    {
     "data": {
      "text/plain": [
       "0.6300000000000001"
      ]
     },
     "metadata": {},
     "output_type": "display_data"
    }
   ],
   "source": [
    "evidence={'MoodChanges': 1, 'SleepProblems': 1, 'CognitiveDifficulties': 1}\n",
    "\n",
    "ptsd_vals=infer.query(variables=['PTSD'], evidence=evidence).values\n",
    "depression_vals=infer.query(variables=['MajorDepression'], evidence=evidence).values\n",
    "anx_vals=infer.query(variables=['AnxietyDisorder'], evidence=evidence).values\n",
    "bipolar_vals=infer.query(variables=['BipolarDisorder'], evidence=evidence).values\n",
    "print('dep: ', depression_vals)\n",
    "print('ptsd: ', ptsd_vals)\n",
    "print('bipolar: ', bipolar_vals)\n",
    "print('anx: ', anx_vals)\n",
    "max(anx_val[0], anx_vals[1], ptsd_vals[0], ptsd_vals[1],bipolar_vals[0],bipolar_vals[1], depression_vals[0], depression_vals[1])"
   ]
  },
  {
   "cell_type": "code",
   "execution_count": null,
   "metadata": {},
   "outputs": [
    {
     "name": "stdout",
     "output_type": "stream",
     "text": [
      "dep:  [0.52 0.48]\n",
      "ptsd:  [0.37 0.63]\n",
      "bipolar:  [0.42 0.58]\n",
      "anx:  [0.47 0.53]\n"
     ]
    },
    {
     "data": {
      "text/plain": [
       "0.6300000000000001"
      ]
     },
     "metadata": {},
     "output_type": "display_data"
    }
   ],
   "source": [
    "evidence={'MoodChanges': 1, 'SleepProblems': 1, 'CognitiveDifficulties': 1}\n",
    "\n",
    "ptsd_vals=infer.query(variables=['PTSD'], evidence=evidence).values\n",
    "depression_vals=infer.query(variables=['MajorDepression'], evidence=evidence).values\n",
    "anx_vals=infer.query(variables=['AnxietyDisorder'], evidence=evidence).values\n",
    "bipolar_vals=infer.query(variables=['BipolarDisorder'], evidence=evidence).values\n",
    "print('dep: ', depression_vals)\n",
    "print('ptsd: ', ptsd_vals)\n",
    "print('bipolar: ', bipolar_vals)\n",
    "print('anx: ', anx_vals)\n",
    "max(anx_val[0], anx_vals[1], ptsd_vals[0], ptsd_vals[1],bipolar_vals[0],bipolar_vals[1], depression_vals[0], depression_vals[1])"
   ]
  },
  {
   "cell_type": "code",
   "execution_count": null,
   "metadata": {},
   "outputs": [
    {
     "name": "stdout",
     "output_type": "stream",
     "text": [
      "dep:  [0.52 0.48]\n",
      "ptsd:  [0.37 0.63]\n",
      "bipolar:  [0.42 0.58]\n",
      "anx:  [0.47 0.53]\n"
     ]
    },
    {
     "data": {
      "text/plain": [
       "0.6300000000000001"
      ]
     },
     "metadata": {},
     "output_type": "display_data"
    }
   ],
   "source": [
    "evidence={'MoodChanges': 1, 'SleepProblems': 1, 'CognitiveDifficulties': 1}\n",
    "\n",
    "ptsd_vals=infer.query(variables=['PTSD'], evidence=evidence).values\n",
    "depression_vals=infer.query(variables=['MajorDepression'], evidence=evidence).values\n",
    "anx_vals=infer.query(variables=['AnxietyDisorder'], evidence=evidence).values\n",
    "bipolar_vals=infer.query(variables=['BipolarDisorder'], evidence=evidence).values\n",
    "print('dep: ', depression_vals)\n",
    "print('ptsd: ', ptsd_vals)\n",
    "print('bipolar: ', bipolar_vals)\n",
    "print('anx: ', anx_vals)\n",
    "max(anx_val[0], anx_vals[1], ptsd_vals[0], ptsd_vals[1],bipolar_vals[0],bipolar_vals[1], depression_vals[0], depression_vals[1])"
   ]
  },
  {
   "cell_type": "code",
   "execution_count": null,
   "metadata": {},
   "outputs": [
    {
     "name": "stdout",
     "output_type": "stream",
     "text": [
      "dep:  [0.52 0.48]\n",
      "ptsd:  [0.37 0.63]\n",
      "bipolar:  [0.42 0.58]\n",
      "anx:  [0.47 0.53]\n"
     ]
    },
    {
     "data": {
      "text/plain": [
       "0.6300000000000001"
      ]
     },
     "metadata": {},
     "output_type": "display_data"
    }
   ],
   "source": [
    "evidence={'MoodChanges': 1, 'SleepProblems': 1, 'CognitiveDifficulties': 1}\n",
    "\n",
    "ptsd_vals=infer.query(variables=['PTSD'], evidence=evidence).values\n",
    "depression_vals=infer.query(variables=['MajorDepression'], evidence=evidence).values\n",
    "anx_vals=infer.query(variables=['AnxietyDisorder'], evidence=evidence).values\n",
    "bipolar_vals=infer.query(variables=['BipolarDisorder'], evidence=evidence).values\n",
    "print('dep: ', depression_vals)\n",
    "print('ptsd: ', ptsd_vals)\n",
    "print('bipolar: ', bipolar_vals)\n",
    "print('anx: ', anx_vals)\n",
    "max(anx_val[0], anx_vals[1], ptsd_vals[0], ptsd_vals[1],bipolar_vals[0],bipolar_vals[1], depression_vals[0], depression_vals[1])"
   ]
  },
  {
   "cell_type": "code",
   "execution_count": null,
   "metadata": {},
   "outputs": [
    {
     "name": "stdout",
     "output_type": "stream",
     "text": [
      "dep:  [0.52 0.48]\n",
      "ptsd:  [0.37 0.63]\n",
      "bipolar:  [0.42 0.58]\n",
      "anx:  [0.47 0.53]\n"
     ]
    },
    {
     "data": {
      "text/plain": [
       "0.6300000000000001"
      ]
     },
     "metadata": {},
     "output_type": "display_data"
    }
   ],
   "source": [
    "evidence={'MoodChanges': 1, 'SleepProblems': 1, 'CognitiveDifficulties': 1}\n",
    "\n",
    "ptsd_vals=infer.query(variables=['PTSD'], evidence=evidence).values\n",
    "depression_vals=infer.query(variables=['MajorDepression'], evidence=evidence).values\n",
    "anx_vals=infer.query(variables=['AnxietyDisorder'], evidence=evidence).values\n",
    "bipolar_vals=infer.query(variables=['BipolarDisorder'], evidence=evidence).values\n",
    "print('dep: ', depression_vals)\n",
    "print('ptsd: ', ptsd_vals)\n",
    "print('bipolar: ', bipolar_vals)\n",
    "print('anx: ', anx_vals)\n",
    "max(anx_val[0], anx_vals[1], ptsd_vals[0], ptsd_vals[1],bipolar_vals[0],bipolar_vals[1], depression_vals[0], depression_vals[1])"
   ]
  },
  {
   "cell_type": "code",
   "execution_count": null,
   "metadata": {},
   "outputs": [
    {
     "name": "stdout",
     "output_type": "stream",
     "text": [
      "dep:  [0.52 0.48]\n",
      "ptsd:  [0.37 0.63]\n",
      "bipolar:  [0.42 0.58]\n",
      "anx:  [0.47 0.53]\n"
     ]
    },
    {
     "data": {
      "text/plain": [
       "0.6300000000000001"
      ]
     },
     "metadata": {},
     "output_type": "display_data"
    }
   ],
   "source": [
    "evidence={'MoodChanges': 1, 'SleepProblems': 1, 'CognitiveDifficulties': 1}\n",
    "\n",
    "ptsd_vals=infer.query(variables=['PTSD'], evidence=evidence).values\n",
    "depression_vals=infer.query(variables=['MajorDepression'], evidence=evidence).values\n",
    "anx_vals=infer.query(variables=['AnxietyDisorder'], evidence=evidence).values\n",
    "bipolar_vals=infer.query(variables=['BipolarDisorder'], evidence=evidence).values\n",
    "print('dep: ', depression_vals)\n",
    "print('ptsd: ', ptsd_vals)\n",
    "print('bipolar: ', bipolar_vals)\n",
    "print('anx: ', anx_vals)\n",
    "max(anx_val[0], anx_vals[1], ptsd_vals[0], ptsd_vals[1],bipolar_vals[0],bipolar_vals[1], depression_vals[0], depression_vals[1])"
   ]
  },
  {
   "cell_type": "code",
   "execution_count": null,
   "metadata": {},
   "outputs": [
    {
     "name": "stdout",
     "output_type": "stream",
     "text": [
      "dep:  [0.52 0.48]\n",
      "ptsd:  [0.37 0.63]\n",
      "bipolar:  [0.42 0.58]\n",
      "anx:  [0.47 0.53]\n"
     ]
    },
    {
     "data": {
      "text/plain": [
       "0.6300000000000001"
      ]
     },
     "metadata": {},
     "output_type": "display_data"
    }
   ],
   "source": [
    "evidence={'MoodChanges': 1, 'SleepProblems': 1, 'CognitiveDifficulties': 1}\n",
    "\n",
    "ptsd_vals=infer.query(variables=['PTSD'], evidence=evidence).values\n",
    "depression_vals=infer.query(variables=['MajorDepression'], evidence=evidence).values\n",
    "anx_vals=infer.query(variables=['AnxietyDisorder'], evidence=evidence).values\n",
    "bipolar_vals=infer.query(variables=['BipolarDisorder'], evidence=evidence).values\n",
    "print('dep: ', depression_vals)\n",
    "print('ptsd: ', ptsd_vals)\n",
    "print('bipolar: ', bipolar_vals)\n",
    "print('anx: ', anx_vals)\n",
    "max(anx_val[0], anx_vals[1], ptsd_vals[0], ptsd_vals[1],bipolar_vals[0],bipolar_vals[1], depression_vals[0], depression_vals[1])"
   ]
  },
  {
   "cell_type": "code",
   "execution_count": null,
   "metadata": {},
   "outputs": [
    {
     "name": "stdout",
     "output_type": "stream",
     "text": [
      "dep:  [0.52 0.48]\n",
      "ptsd:  [0.37 0.63]\n",
      "bipolar:  [0.42 0.58]\n",
      "anx:  [0.47 0.53]\n"
     ]
    },
    {
     "data": {
      "text/plain": [
       "0.6300000000000001"
      ]
     },
     "metadata": {},
     "output_type": "display_data"
    }
   ],
   "source": [
    "evidence={'MoodChanges': 1, 'SleepProblems': 1, 'CognitiveDifficulties': 1}\n",
    "\n",
    "ptsd_vals=infer.query(variables=['PTSD'], evidence=evidence).values\n",
    "depression_vals=infer.query(variables=['MajorDepression'], evidence=evidence).values\n",
    "anx_vals=infer.query(variables=['AnxietyDisorder'], evidence=evidence).values\n",
    "bipolar_vals=infer.query(variables=['BipolarDisorder'], evidence=evidence).values\n",
    "print('dep: ', depression_vals)\n",
    "print('ptsd: ', ptsd_vals)\n",
    "print('bipolar: ', bipolar_vals)\n",
    "print('anx: ', anx_vals)\n",
    "max(anx_val[0], anx_vals[1], ptsd_vals[0], ptsd_vals[1],bipolar_vals[0],bipolar_vals[1], depression_vals[0], depression_vals[1])"
   ]
  },
  {
   "cell_type": "code",
   "execution_count": null,
   "metadata": {},
   "outputs": [
    {
     "name": "stdout",
     "output_type": "stream",
     "text": [
      "dep:  [0.52 0.48]\n",
      "ptsd:  [0.37 0.63]\n",
      "bipolar:  [0.42 0.58]\n",
      "anx:  [0.47 0.53]\n"
     ]
    },
    {
     "data": {
      "text/plain": [
       "0.6300000000000001"
      ]
     },
     "metadata": {},
     "output_type": "display_data"
    }
   ],
   "source": [
    "evidence={'MoodChanges': 1, 'SleepProblems': 1, 'CognitiveDifficulties': 1}\n",
    "\n",
    "ptsd_vals=infer.query(variables=['PTSD'], evidence=evidence).values\n",
    "depression_vals=infer.query(variables=['MajorDepression'], evidence=evidence).values\n",
    "anx_vals=infer.query(variables=['AnxietyDisorder'], evidence=evidence).values\n",
    "bipolar_vals=infer.query(variables=['BipolarDisorder'], evidence=evidence).values\n",
    "print('dep: ', depression_vals)\n",
    "print('ptsd: ', ptsd_vals)\n",
    "print('bipolar: ', bipolar_vals)\n",
    "print('anx: ', anx_vals)\n",
    "max(anx_val[0], anx_vals[1], ptsd_vals[0], ptsd_vals[1],bipolar_vals[0],bipolar_vals[1], depression_vals[0], depression_vals[1])"
   ]
  },
  {
   "cell_type": "code",
   "execution_count": null,
   "metadata": {},
   "outputs": [
    {
     "name": "stdout",
     "output_type": "stream",
     "text": [
      "dep:  [0.52 0.48]\n",
      "ptsd:  [0.37 0.63]\n",
      "bipolar:  [0.42 0.58]\n",
      "anx:  [0.47 0.53]\n"
     ]
    },
    {
     "data": {
      "text/plain": [
       "0.6300000000000001"
      ]
     },
     "metadata": {},
     "output_type": "display_data"
    }
   ],
   "source": [
    "evidence={'MoodChanges': 1, 'SleepProblems': 1, 'CognitiveDifficulties': 1}\n",
    "\n",
    "ptsd_vals=infer.query(variables=['PTSD'], evidence=evidence).values\n",
    "depression_vals=infer.query(variables=['MajorDepression'], evidence=evidence).values\n",
    "anx_vals=infer.query(variables=['AnxietyDisorder'], evidence=evidence).values\n",
    "bipolar_vals=infer.query(variables=['BipolarDisorder'], evidence=evidence).values\n",
    "print('dep: ', depression_vals)\n",
    "print('ptsd: ', ptsd_vals)\n",
    "print('bipolar: ', bipolar_vals)\n",
    "print('anx: ', anx_vals)\n",
    "max(anx_val[0], anx_vals[1], ptsd_vals[0], ptsd_vals[1],bipolar_vals[0],bipolar_vals[1], depression_vals[0], depression_vals[1])"
   ]
  },
  {
   "cell_type": "code",
   "execution_count": null,
   "metadata": {},
   "outputs": [
    {
     "name": "stdout",
     "output_type": "stream",
     "text": [
      "dep:  [0.52 0.48]\n",
      "ptsd:  [0.37 0.63]\n",
      "bipolar:  [0.42 0.58]\n",
      "anx:  [0.47 0.53]\n"
     ]
    },
    {
     "data": {
      "text/plain": [
       "0.6300000000000001"
      ]
     },
     "metadata": {},
     "output_type": "display_data"
    }
   ],
   "source": [
    "evidence={'MoodChanges': 1, 'SleepProblems': 1, 'CognitiveDifficulties': 1}\n",
    "\n",
    "ptsd_vals=infer.query(variables=['PTSD'], evidence=evidence).values\n",
    "depression_vals=infer.query(variables=['MajorDepression'], evidence=evidence).values\n",
    "anx_vals=infer.query(variables=['AnxietyDisorder'], evidence=evidence).values\n",
    "bipolar_vals=infer.query(variables=['BipolarDisorder'], evidence=evidence).values\n",
    "print('dep: ', depression_vals)\n",
    "print('ptsd: ', ptsd_vals)\n",
    "print('bipolar: ', bipolar_vals)\n",
    "print('anx: ', anx_vals)\n",
    "max(anx_val[0], anx_vals[1], ptsd_vals[0], ptsd_vals[1],bipolar_vals[0],bipolar_vals[1], depression_vals[0], depression_vals[1])"
   ]
  },
  {
   "cell_type": "code",
   "execution_count": null,
   "metadata": {},
   "outputs": [
    {
     "name": "stdout",
     "output_type": "stream",
     "text": [
      "dep:  [0.52 0.48]\n",
      "ptsd:  [0.37 0.63]\n",
      "bipolar:  [0.42 0.58]\n",
      "anx:  [0.47 0.53]\n"
     ]
    },
    {
     "data": {
      "text/plain": [
       "0.6300000000000001"
      ]
     },
     "metadata": {},
     "output_type": "display_data"
    }
   ],
   "source": [
    "evidence={'MoodChanges': 1, 'SleepProblems': 1, 'CognitiveDifficulties': 1}\n",
    "\n",
    "ptsd_vals=infer.query(variables=['PTSD'], evidence=evidence).values\n",
    "depression_vals=infer.query(variables=['MajorDepression'], evidence=evidence).values\n",
    "anx_vals=infer.query(variables=['AnxietyDisorder'], evidence=evidence).values\n",
    "bipolar_vals=infer.query(variables=['BipolarDisorder'], evidence=evidence).values\n",
    "print('dep: ', depression_vals)\n",
    "print('ptsd: ', ptsd_vals)\n",
    "print('bipolar: ', bipolar_vals)\n",
    "print('anx: ', anx_vals)\n",
    "max(anx_val[0], anx_vals[1], ptsd_vals[0], ptsd_vals[1],bipolar_vals[0],bipolar_vals[1], depression_vals[0], depression_vals[1])"
   ]
  },
  {
   "cell_type": "code",
   "execution_count": null,
   "metadata": {},
   "outputs": [
    {
     "name": "stdout",
     "output_type": "stream",
     "text": [
      "dep:  [0.52 0.48]\n",
      "ptsd:  [0.37 0.63]\n",
      "bipolar:  [0.42 0.58]\n",
      "anx:  [0.47 0.53]\n"
     ]
    },
    {
     "data": {
      "text/plain": [
       "0.6300000000000001"
      ]
     },
     "metadata": {},
     "output_type": "display_data"
    }
   ],
   "source": [
    "evidence={'MoodChanges': 1, 'SleepProblems': 1, 'CognitiveDifficulties': 1}\n",
    "\n",
    "ptsd_vals=infer.query(variables=['PTSD'], evidence=evidence).values\n",
    "depression_vals=infer.query(variables=['MajorDepression'], evidence=evidence).values\n",
    "anx_vals=infer.query(variables=['AnxietyDisorder'], evidence=evidence).values\n",
    "bipolar_vals=infer.query(variables=['BipolarDisorder'], evidence=evidence).values\n",
    "print('dep: ', depression_vals)\n",
    "print('ptsd: ', ptsd_vals)\n",
    "print('bipolar: ', bipolar_vals)\n",
    "print('anx: ', anx_vals)\n",
    "max(anx_val[0], anx_vals[1], ptsd_vals[0], ptsd_vals[1],bipolar_vals[0],bipolar_vals[1], depression_vals[0], depression_vals[1])"
   ]
  },
  {
   "cell_type": "code",
   "execution_count": null,
   "metadata": {},
   "outputs": [
    {
     "name": "stdout",
     "output_type": "stream",
     "text": [
      "dep:  [0.52 0.48]\n",
      "ptsd:  [0.37 0.63]\n",
      "bipolar:  [0.42 0.58]\n",
      "anx:  [0.47 0.53]\n"
     ]
    },
    {
     "data": {
      "text/plain": [
       "0.6300000000000001"
      ]
     },
     "metadata": {},
     "output_type": "display_data"
    }
   ],
   "source": [
    "evidence={'MoodChanges': 1, 'SleepProblems': 1, 'CognitiveDifficulties': 1}\n",
    "\n",
    "ptsd_vals=infer.query(variables=['PTSD'], evidence=evidence).values\n",
    "depression_vals=infer.query(variables=['MajorDepression'], evidence=evidence).values\n",
    "anx_vals=infer.query(variables=['AnxietyDisorder'], evidence=evidence).values\n",
    "bipolar_vals=infer.query(variables=['BipolarDisorder'], evidence=evidence).values\n",
    "print('dep: ', depression_vals)\n",
    "print('ptsd: ', ptsd_vals)\n",
    "print('bipolar: ', bipolar_vals)\n",
    "print('anx: ', anx_vals)\n",
    "max(anx_val[0], anx_vals[1], ptsd_vals[0], ptsd_vals[1],bipolar_vals[0],bipolar_vals[1], depression_vals[0], depression_vals[1])"
   ]
  },
  {
   "cell_type": "code",
   "execution_count": null,
   "metadata": {},
   "outputs": [
    {
     "name": "stdout",
     "output_type": "stream",
     "text": [
      "dep:  [0.52 0.48]\n",
      "ptsd:  [0.37 0.63]\n",
      "bipolar:  [0.42 0.58]\n",
      "anx:  [0.47 0.53]\n"
     ]
    },
    {
     "data": {
      "text/plain": [
       "0.6300000000000001"
      ]
     },
     "metadata": {},
     "output_type": "display_data"
    }
   ],
   "source": [
    "evidence={'MoodChanges': 1, 'SleepProblems': 1, 'CognitiveDifficulties': 1}\n",
    "\n",
    "ptsd_vals=infer.query(variables=['PTSD'], evidence=evidence).values\n",
    "depression_vals=infer.query(variables=['MajorDepression'], evidence=evidence).values\n",
    "anx_vals=infer.query(variables=['AnxietyDisorder'], evidence=evidence).values\n",
    "bipolar_vals=infer.query(variables=['BipolarDisorder'], evidence=evidence).values\n",
    "print('dep: ', depression_vals)\n",
    "print('ptsd: ', ptsd_vals)\n",
    "print('bipolar: ', bipolar_vals)\n",
    "print('anx: ', anx_vals)\n",
    "max(anx_val[0], anx_vals[1], ptsd_vals[0], ptsd_vals[1],bipolar_vals[0],bipolar_vals[1], depression_vals[0], depression_vals[1])"
   ]
  },
  {
   "cell_type": "code",
   "execution_count": null,
   "metadata": {},
   "outputs": [
    {
     "name": "stdout",
     "output_type": "stream",
     "text": [
      "dep:  [0.52 0.48]\n",
      "ptsd:  [0.37 0.63]\n",
      "bipolar:  [0.42 0.58]\n",
      "anx:  [0.47 0.53]\n"
     ]
    },
    {
     "data": {
      "text/plain": [
       "0.6300000000000001"
      ]
     },
     "metadata": {},
     "output_type": "display_data"
    }
   ],
   "source": [
    "evidence={'MoodChanges': 1, 'SleepProblems': 1, 'CognitiveDifficulties': 1}\n",
    "\n",
    "ptsd_vals=infer.query(variables=['PTSD'], evidence=evidence).values\n",
    "depression_vals=infer.query(variables=['MajorDepression'], evidence=evidence).values\n",
    "anx_vals=infer.query(variables=['AnxietyDisorder'], evidence=evidence).values\n",
    "bipolar_vals=infer.query(variables=['BipolarDisorder'], evidence=evidence).values\n",
    "print('dep: ', depression_vals)\n",
    "print('ptsd: ', ptsd_vals)\n",
    "print('bipolar: ', bipolar_vals)\n",
    "print('anx: ', anx_vals)\n",
    "max(anx_val[0], anx_vals[1], ptsd_vals[0], ptsd_vals[1],bipolar_vals[0],bipolar_vals[1], depression_vals[0], depression_vals[1])"
   ]
  },
  {
   "cell_type": "code",
   "execution_count": null,
   "metadata": {},
   "outputs": [
    {
     "name": "stdout",
     "output_type": "stream",
     "text": [
      "dep:  [0.52 0.48]\n",
      "ptsd:  [0.37 0.63]\n",
      "bipolar:  [0.42 0.58]\n",
      "anx:  [0.47 0.53]\n"
     ]
    },
    {
     "data": {
      "text/plain": [
       "0.6300000000000001"
      ]
     },
     "metadata": {},
     "output_type": "display_data"
    }
   ],
   "source": [
    "evidence={'MoodChanges': 1, 'SleepProblems': 1, 'CognitiveDifficulties': 1}\n",
    "\n",
    "ptsd_vals=infer.query(variables=['PTSD'], evidence=evidence).values\n",
    "depression_vals=infer.query(variables=['MajorDepression'], evidence=evidence).values\n",
    "anx_vals=infer.query(variables=['AnxietyDisorder'], evidence=evidence).values\n",
    "bipolar_vals=infer.query(variables=['BipolarDisorder'], evidence=evidence).values\n",
    "print('dep: ', depression_vals)\n",
    "print('ptsd: ', ptsd_vals)\n",
    "print('bipolar: ', bipolar_vals)\n",
    "print('anx: ', anx_vals)\n",
    "max(anx_val[0], anx_vals[1], ptsd_vals[0], ptsd_vals[1],bipolar_vals[0],bipolar_vals[1], depression_vals[0], depression_vals[1])"
   ]
  },
  {
   "cell_type": "code",
   "execution_count": null,
   "metadata": {},
   "outputs": [
    {
     "name": "stdout",
     "output_type": "stream",
     "text": [
      "dep:  [0.52 0.48]\n",
      "ptsd:  [0.37 0.63]\n",
      "bipolar:  [0.42 0.58]\n",
      "anx:  [0.47 0.53]\n"
     ]
    },
    {
     "data": {
      "text/plain": [
       "0.6300000000000001"
      ]
     },
     "metadata": {},
     "output_type": "display_data"
    }
   ],
   "source": [
    "evidence={'MoodChanges': 1, 'SleepProblems': 1, 'CognitiveDifficulties': 1}\n",
    "\n",
    "ptsd_vals=infer.query(variables=['PTSD'], evidence=evidence).values\n",
    "depression_vals=infer.query(variables=['MajorDepression'], evidence=evidence).values\n",
    "anx_vals=infer.query(variables=['AnxietyDisorder'], evidence=evidence).values\n",
    "bipolar_vals=infer.query(variables=['BipolarDisorder'], evidence=evidence).values\n",
    "print('dep: ', depression_vals)\n",
    "print('ptsd: ', ptsd_vals)\n",
    "print('bipolar: ', bipolar_vals)\n",
    "print('anx: ', anx_vals)\n",
    "max(anx_val[0], anx_vals[1], ptsd_vals[0], ptsd_vals[1],bipolar_vals[0],bipolar_vals[1], depression_vals[0], depression_vals[1])"
   ]
  },
  {
   "cell_type": "code",
   "execution_count": null,
   "metadata": {},
   "outputs": [
    {
     "name": "stdout",
     "output_type": "stream",
     "text": [
      "dep:  [0.52 0.48]\n",
      "ptsd:  [0.37 0.63]\n",
      "bipolar:  [0.42 0.58]\n",
      "anx:  [0.47 0.53]\n"
     ]
    },
    {
     "data": {
      "text/plain": [
       "0.6300000000000001"
      ]
     },
     "metadata": {},
     "output_type": "display_data"
    }
   ],
   "source": [
    "evidence={'MoodChanges': 1, 'SleepProblems': 1, 'CognitiveDifficulties': 1}\n",
    "\n",
    "ptsd_vals=infer.query(variables=['PTSD'], evidence=evidence).values\n",
    "depression_vals=infer.query(variables=['MajorDepression'], evidence=evidence).values\n",
    "anx_vals=infer.query(variables=['AnxietyDisorder'], evidence=evidence).values\n",
    "bipolar_vals=infer.query(variables=['BipolarDisorder'], evidence=evidence).values\n",
    "print('dep: ', depression_vals)\n",
    "print('ptsd: ', ptsd_vals)\n",
    "print('bipolar: ', bipolar_vals)\n",
    "print('anx: ', anx_vals)\n",
    "max(anx_val[0], anx_vals[1], ptsd_vals[0], ptsd_vals[1],bipolar_vals[0],bipolar_vals[1], depression_vals[0], depression_vals[1])"
   ]
  },
  {
   "cell_type": "code",
   "execution_count": null,
   "metadata": {},
   "outputs": [
    {
     "name": "stdout",
     "output_type": "stream",
     "text": [
      "dep:  [0.52 0.48]\n",
      "ptsd:  [0.37 0.63]\n",
      "bipolar:  [0.42 0.58]\n",
      "anx:  [0.47 0.53]\n"
     ]
    },
    {
     "data": {
      "text/plain": [
       "0.6300000000000001"
      ]
     },
     "metadata": {},
     "output_type": "display_data"
    }
   ],
   "source": [
    "evidence={'MoodChanges': 1, 'SleepProblems': 1, 'CognitiveDifficulties': 1}\n",
    "\n",
    "ptsd_vals=infer.query(variables=['PTSD'], evidence=evidence).values\n",
    "depression_vals=infer.query(variables=['MajorDepression'], evidence=evidence).values\n",
    "anx_vals=infer.query(variables=['AnxietyDisorder'], evidence=evidence).values\n",
    "bipolar_vals=infer.query(variables=['BipolarDisorder'], evidence=evidence).values\n",
    "print('dep: ', depression_vals)\n",
    "print('ptsd: ', ptsd_vals)\n",
    "print('bipolar: ', bipolar_vals)\n",
    "print('anx: ', anx_vals)\n",
    "max(anx_val[0], anx_vals[1], ptsd_vals[0], ptsd_vals[1],bipolar_vals[0],bipolar_vals[1], depression_vals[0], depression_vals[1])"
   ]
  },
  {
   "cell_type": "code",
   "execution_count": null,
   "metadata": {},
   "outputs": [
    {
     "name": "stdout",
     "output_type": "stream",
     "text": [
      "dep:  [0.52 0.48]\n",
      "ptsd:  [0.37 0.63]\n",
      "bipolar:  [0.42 0.58]\n",
      "anx:  [0.47 0.53]\n"
     ]
    },
    {
     "data": {
      "text/plain": [
       "0.6300000000000001"
      ]
     },
     "metadata": {},
     "output_type": "display_data"
    }
   ],
   "source": [
    "evidence={'MoodChanges': 1, 'SleepProblems': 1, 'CognitiveDifficulties': 1}\n",
    "\n",
    "ptsd_vals=infer.query(variables=['PTSD'], evidence=evidence).values\n",
    "depression_vals=infer.query(variables=['MajorDepression'], evidence=evidence).values\n",
    "anx_vals=infer.query(variables=['AnxietyDisorder'], evidence=evidence).values\n",
    "bipolar_vals=infer.query(variables=['BipolarDisorder'], evidence=evidence).values\n",
    "print('dep: ', depression_vals)\n",
    "print('ptsd: ', ptsd_vals)\n",
    "print('bipolar: ', bipolar_vals)\n",
    "print('anx: ', anx_vals)\n",
    "max(anx_val[0], anx_vals[1], ptsd_vals[0], ptsd_vals[1],bipolar_vals[0],bipolar_vals[1], depression_vals[0], depression_vals[1])"
   ]
  },
  {
   "cell_type": "code",
   "execution_count": null,
   "metadata": {},
   "outputs": [
    {
     "name": "stdout",
     "output_type": "stream",
     "text": [
      "dep:  [0.52 0.48]\n",
      "ptsd:  [0.37 0.63]\n",
      "bipolar:  [0.42 0.58]\n",
      "anx:  [0.47 0.53]\n"
     ]
    },
    {
     "data": {
      "text/plain": [
       "0.6300000000000001"
      ]
     },
     "metadata": {},
     "output_type": "display_data"
    }
   ],
   "source": [
    "evidence={'MoodChanges': 1, 'SleepProblems': 1, 'CognitiveDifficulties': 1}\n",
    "\n",
    "ptsd_vals=infer.query(variables=['PTSD'], evidence=evidence).values\n",
    "depression_vals=infer.query(variables=['MajorDepression'], evidence=evidence).values\n",
    "anx_vals=infer.query(variables=['AnxietyDisorder'], evidence=evidence).values\n",
    "bipolar_vals=infer.query(variables=['BipolarDisorder'], evidence=evidence).values\n",
    "print('dep: ', depression_vals)\n",
    "print('ptsd: ', ptsd_vals)\n",
    "print('bipolar: ', bipolar_vals)\n",
    "print('anx: ', anx_vals)\n",
    "max(anx_val[0], anx_vals[1], ptsd_vals[0], ptsd_vals[1],bipolar_vals[0],bipolar_vals[1], depression_vals[0], depression_vals[1])"
   ]
  },
  {
   "cell_type": "code",
   "execution_count": null,
   "metadata": {},
   "outputs": [
    {
     "name": "stdout",
     "output_type": "stream",
     "text": [
      "dep:  [0.52 0.48]\n",
      "ptsd:  [0.37 0.63]\n",
      "bipolar:  [0.42 0.58]\n",
      "anx:  [0.47 0.53]\n"
     ]
    },
    {
     "data": {
      "text/plain": [
       "0.6300000000000001"
      ]
     },
     "metadata": {},
     "output_type": "display_data"
    }
   ],
   "source": [
    "evidence={'MoodChanges': 1, 'SleepProblems': 1, 'CognitiveDifficulties': 1}\n",
    "\n",
    "ptsd_vals=infer.query(variables=['PTSD'], evidence=evidence).values\n",
    "depression_vals=infer.query(variables=['MajorDepression'], evidence=evidence).values\n",
    "anx_vals=infer.query(variables=['AnxietyDisorder'], evidence=evidence).values\n",
    "bipolar_vals=infer.query(variables=['BipolarDisorder'], evidence=evidence).values\n",
    "print('dep: ', depression_vals)\n",
    "print('ptsd: ', ptsd_vals)\n",
    "print('bipolar: ', bipolar_vals)\n",
    "print('anx: ', anx_vals)\n",
    "max(anx_val[0], anx_vals[1], ptsd_vals[0], ptsd_vals[1],bipolar_vals[0],bipolar_vals[1], depression_vals[0], depression_vals[1])"
   ]
  },
  {
   "cell_type": "code",
   "execution_count": null,
   "metadata": {},
   "outputs": [],
   "source": []
  }
 ],
 "metadata": {
  "kernelspec": {
   "display_name": "Python 3",
   "language": "python",
   "name": "python3"
  },
  "language_info": {
   "codemirror_mode": {
    "name": "ipython",
    "version": 3
   },
   "file_extension": ".py",
   "mimetype": "text/x-python",
   "name": "python",
   "nbconvert_exporter": "python",
   "pygments_lexer": "ipython3",
   "version": "3.12.3"
  }
 },
 "nbformat": 4,
 "nbformat_minor": 2
}
